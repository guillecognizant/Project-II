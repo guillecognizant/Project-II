{
 "cells": [
  {
   "cell_type": "markdown",
   "metadata": {},
   "source": [
    "# Import libraries"
   ]
  },
  {
   "cell_type": "code",
   "execution_count": 47,
   "metadata": {},
   "outputs": [],
   "source": [
    "import pandas as pd\n",
    "import matplotlib.pyplot as plt\n",
    "import seaborn as sns\n",
    "import plotly.express as px\n",
    "import plotly.offline as offline\n",
    "import plotly.io as pio\n",
    "\n",
    "from sklearn.model_selection import train_test_split\n",
    "from sklearn.linear_model import LinearRegression\n",
    "from sklearn.metrics import mean_squared_error, r2_score\n",
    "\n",
    "import dash\n",
    "from dash import html, dcc, Input, Output, State"
   ]
  },
  {
   "cell_type": "markdown",
   "metadata": {},
   "source": [
    "# Import data"
   ]
  },
  {
   "cell_type": "code",
   "execution_count": 74,
   "metadata": {},
   "outputs": [
    {
     "data": {
      "text/html": [
       "<div>\n",
       "<style scoped>\n",
       "    .dataframe tbody tr th:only-of-type {\n",
       "        vertical-align: middle;\n",
       "    }\n",
       "\n",
       "    .dataframe tbody tr th {\n",
       "        vertical-align: top;\n",
       "    }\n",
       "\n",
       "    .dataframe thead th {\n",
       "        text-align: right;\n",
       "    }\n",
       "</style>\n",
       "<table border=\"1\" class=\"dataframe\">\n",
       "  <thead>\n",
       "    <tr style=\"text-align: right;\">\n",
       "      <th></th>\n",
       "      <th>Transaction date</th>\n",
       "      <th>House age</th>\n",
       "      <th>Distance to the nearest MRT station</th>\n",
       "      <th>Number of convenience stores</th>\n",
       "      <th>Latitude</th>\n",
       "      <th>Longitude</th>\n",
       "      <th>House price of unit area</th>\n",
       "    </tr>\n",
       "  </thead>\n",
       "  <tbody>\n",
       "    <tr>\n",
       "      <th>0</th>\n",
       "      <td>2012-09-02 16:42:30.519336</td>\n",
       "      <td>13.3</td>\n",
       "      <td>4082.0150</td>\n",
       "      <td>8</td>\n",
       "      <td>25.007059</td>\n",
       "      <td>121.561694</td>\n",
       "      <td>6.488673</td>\n",
       "    </tr>\n",
       "    <tr>\n",
       "      <th>1</th>\n",
       "      <td>2012-09-04 22:52:29.919544</td>\n",
       "      <td>35.5</td>\n",
       "      <td>274.0144</td>\n",
       "      <td>2</td>\n",
       "      <td>25.012148</td>\n",
       "      <td>121.546990</td>\n",
       "      <td>24.970725</td>\n",
       "    </tr>\n",
       "    <tr>\n",
       "      <th>2</th>\n",
       "      <td>2012-09-05 01:10:52.349449</td>\n",
       "      <td>1.1</td>\n",
       "      <td>1978.6710</td>\n",
       "      <td>10</td>\n",
       "      <td>25.003850</td>\n",
       "      <td>121.528336</td>\n",
       "      <td>26.694267</td>\n",
       "    </tr>\n",
       "    <tr>\n",
       "      <th>3</th>\n",
       "      <td>2012-09-05 13:26:01.189083</td>\n",
       "      <td>22.2</td>\n",
       "      <td>1055.0670</td>\n",
       "      <td>5</td>\n",
       "      <td>24.962887</td>\n",
       "      <td>121.482178</td>\n",
       "      <td>38.091638</td>\n",
       "    </tr>\n",
       "    <tr>\n",
       "      <th>4</th>\n",
       "      <td>2012-09-06 08:29:47.910523</td>\n",
       "      <td>8.5</td>\n",
       "      <td>967.4000</td>\n",
       "      <td>6</td>\n",
       "      <td>25.011037</td>\n",
       "      <td>121.479946</td>\n",
       "      <td>21.654710</td>\n",
       "    </tr>\n",
       "  </tbody>\n",
       "</table>\n",
       "</div>"
      ],
      "text/plain": [
       "             Transaction date  House age  Distance to the nearest MRT station  \\\n",
       "0  2012-09-02 16:42:30.519336       13.3                            4082.0150   \n",
       "1  2012-09-04 22:52:29.919544       35.5                             274.0144   \n",
       "2  2012-09-05 01:10:52.349449        1.1                            1978.6710   \n",
       "3  2012-09-05 13:26:01.189083       22.2                            1055.0670   \n",
       "4  2012-09-06 08:29:47.910523        8.5                             967.4000   \n",
       "\n",
       "   Number of convenience stores   Latitude   Longitude  \\\n",
       "0                             8  25.007059  121.561694   \n",
       "1                             2  25.012148  121.546990   \n",
       "2                            10  25.003850  121.528336   \n",
       "3                             5  24.962887  121.482178   \n",
       "4                             6  25.011037  121.479946   \n",
       "\n",
       "   House price of unit area  \n",
       "0                  6.488673  \n",
       "1                 24.970725  \n",
       "2                 26.694267  \n",
       "3                 38.091638  \n",
       "4                 21.654710  "
      ]
     },
     "execution_count": 74,
     "metadata": {},
     "output_type": "execute_result"
    }
   ],
   "source": [
    "# Load the dataset\n",
    "real_estate_data = pd.read_csv(\"0. Projects/2/projectII_alvaroG-GuillermoH/data/Real_Estate.csv\")\n",
    "\n",
    "# Display the first few rows of the dataset and the info about the dataset\n",
    "real_estate_data.head()"
   ]
  },
  {
   "cell_type": "code",
   "execution_count": 77,
   "metadata": {},
   "outputs": [
    {
     "data": {
      "text/html": [
       "<div>\n",
       "<style scoped>\n",
       "    .dataframe tbody tr th:only-of-type {\n",
       "        vertical-align: middle;\n",
       "    }\n",
       "\n",
       "    .dataframe tbody tr th {\n",
       "        vertical-align: top;\n",
       "    }\n",
       "\n",
       "    .dataframe thead th {\n",
       "        text-align: right;\n",
       "    }\n",
       "</style>\n",
       "<table border=\"1\" class=\"dataframe\">\n",
       "  <thead>\n",
       "    <tr style=\"text-align: right;\">\n",
       "      <th></th>\n",
       "      <th>Transaction date</th>\n",
       "      <th>House age</th>\n",
       "      <th>Distance to the nearest MRT station</th>\n",
       "      <th>Number of convenience stores</th>\n",
       "      <th>Latitude</th>\n",
       "      <th>Longitude</th>\n",
       "      <th>House price of unit area</th>\n",
       "    </tr>\n",
       "  </thead>\n",
       "  <tbody>\n",
       "    <tr>\n",
       "      <th>17</th>\n",
       "      <td>2012-09-12 06:54:06.555817</td>\n",
       "      <td>10.3</td>\n",
       "      <td>4079.418</td>\n",
       "      <td>0</td>\n",
       "      <td>24.960290</td>\n",
       "      <td>121.548225</td>\n",
       "      <td>0.0</td>\n",
       "    </tr>\n",
       "    <tr>\n",
       "      <th>25</th>\n",
       "      <td>2012-09-20 13:50:20.328592</td>\n",
       "      <td>16.1</td>\n",
       "      <td>3771.895</td>\n",
       "      <td>9</td>\n",
       "      <td>24.970786</td>\n",
       "      <td>121.545295</td>\n",
       "      <td>0.0</td>\n",
       "    </tr>\n",
       "    <tr>\n",
       "      <th>49</th>\n",
       "      <td>2012-10-10 12:36:22.455568</td>\n",
       "      <td>13.5</td>\n",
       "      <td>2175.030</td>\n",
       "      <td>0</td>\n",
       "      <td>24.985829</td>\n",
       "      <td>121.495321</td>\n",
       "      <td>0.0</td>\n",
       "    </tr>\n",
       "    <tr>\n",
       "      <th>57</th>\n",
       "      <td>2012-10-15 07:23:33.287274</td>\n",
       "      <td>24.2</td>\n",
       "      <td>3078.176</td>\n",
       "      <td>5</td>\n",
       "      <td>24.936812</td>\n",
       "      <td>121.482352</td>\n",
       "      <td>0.0</td>\n",
       "    </tr>\n",
       "    <tr>\n",
       "      <th>63</th>\n",
       "      <td>2012-10-19 04:22:09.096118</td>\n",
       "      <td>38.2</td>\n",
       "      <td>4082.015</td>\n",
       "      <td>1</td>\n",
       "      <td>24.996387</td>\n",
       "      <td>121.477832</td>\n",
       "      <td>0.0</td>\n",
       "    </tr>\n",
       "  </tbody>\n",
       "</table>\n",
       "</div>"
      ],
      "text/plain": [
       "              Transaction date  House age  \\\n",
       "17  2012-09-12 06:54:06.555817       10.3   \n",
       "25  2012-09-20 13:50:20.328592       16.1   \n",
       "49  2012-10-10 12:36:22.455568       13.5   \n",
       "57  2012-10-15 07:23:33.287274       24.2   \n",
       "63  2012-10-19 04:22:09.096118       38.2   \n",
       "\n",
       "    Distance to the nearest MRT station  Number of convenience stores  \\\n",
       "17                             4079.418                             0   \n",
       "25                             3771.895                             9   \n",
       "49                             2175.030                             0   \n",
       "57                             3078.176                             5   \n",
       "63                             4082.015                             1   \n",
       "\n",
       "     Latitude   Longitude  House price of unit area  \n",
       "17  24.960290  121.548225                       0.0  \n",
       "25  24.970786  121.545295                       0.0  \n",
       "49  24.985829  121.495321                       0.0  \n",
       "57  24.936812  121.482352                       0.0  \n",
       "63  24.996387  121.477832                       0.0  "
      ]
     },
     "execution_count": 77,
     "metadata": {},
     "output_type": "execute_result"
    }
   ],
   "source": [
    "mask_zero = real_estate_data[\"House price of unit area\"]==0\n",
    "mask_almostzero_exc = (real_estate_data[\"House price of unit area\"]!=0) & (real_estate_data[\"House price of unit area\"]<1)\n",
    "mask_almostzero = real_estate_data[\"House price of unit area\"]<10\n",
    "\n",
    "real_estate_data_zero = real_estate_data[mask_zero]\n",
    "real_estate_data_almostzero_exc = real_estate_data[mask_almostzero_exc]\n",
    "real_estate_data_almostzero = real_estate_data[mask_almostzero]\n",
    "\n",
    "real_estate_data_zero.head()"
   ]
  },
  {
   "cell_type": "code",
   "execution_count": 83,
   "metadata": {},
   "outputs": [
    {
     "data": {
      "image/png": "[encoded data removed]",
      "text/plain": [
       "<Figure size 1200x1200 with 6 Axes>"
      ]
     },
     "metadata": {},
     "output_type": "display_data"
    }
   ],
   "source": [
    "# Set the aesthetic style of the plots\n",
    "sns.set_style(\"whitegrid\")\n",
    "\n",
    "# Create histograms for the numerical columns\n",
    "fig, axes = plt.subplots(nrows=3, ncols=2, figsize=(12, 12))\n",
    "fig.suptitle('Histograms of Real Estate Data', fontsize=16)\n",
    "\n",
    "cols = ['House age', 'Distance to the nearest MRT station', 'Number of convenience stores',\n",
    "        'Latitude', 'Longitude', 'House price of unit area']\n",
    "\n",
    "for i, col in enumerate(cols):\n",
    "    sns.histplot(real_estate_data[col], kde=True, ax=axes[i//2, i%2])\n",
    "    sns.histplot(real_estate_data_zero[col], kde=True, ax=axes[i//2, i%2])\n",
    "    # sns.histplot(real_estate_data_almostzero[col], kde=True, ax=axes[i//2, i%2])\n",
    "    # sns.histplot(real_estate_data_almostzero_exc[col], kde=True, ax=axes[i//2, i%2])\n",
    "    axes[i//2, i%2].set_title(col)\n",
    "    axes[i//2, i%2].set_xlabel('')\n",
    "    axes[i//2, i%2].set_ylabel('')\n",
    "\n",
    "plt.tight_layout(rect=[0, 0.03, 1, 0.95])\n",
    "plt.show()"
   ]
  },
  {
   "cell_type": "code",
   "execution_count": 70,
   "metadata": {},
   "outputs": [
    {
     "data": {
      "image/png": "[encoded data removed]",
      "text/plain": [
       "<Figure size 1200x1000 with 4 Axes>"
      ]
     },
     "metadata": {},
     "output_type": "display_data"
    }
   ],
   "source": [
    "# Scatter plots to observe the relationship with house price\n",
    "fig, axes = plt.subplots(nrows=2, ncols=2, figsize=(12, 10))\n",
    "fig.suptitle('Scatter Plots with House Price of Unit Area', fontsize=16)\n",
    "\n",
    "# Scatter plot for each variable against the house price\n",
    "sns.regplot(data=imputed_df, x='House age', y='House price of unit area', ax=axes[0, 0])\n",
    "sns.regplot(data=imputed_df, x='Distance to the nearest MRT station', y='House price of unit area', ax=axes[0, 1])\n",
    "sns.regplot(data=imputed_df, x='Number of convenience stores', y='House price of unit area', ax=axes[1, 0])\n",
    "sns.regplot(data=imputed_df, x='Latitude', y='House price of unit area', ax=axes[1, 1])\n",
    "\n",
    "plt.tight_layout(rect=[0, 0.03, 1, 0.95])\n",
    "plt.show()"
   ]
  },
  {
   "cell_type": "code",
   "execution_count": 36,
   "metadata": {},
   "outputs": [
    {
     "data": {
      "application/vnd.plotly.v1+json": {
       "config": {
        "plotlyServerURL": "https://plot.ly"
       },
       "data": [
        {
         "hovertemplate": "House age=%{marker.size}<br>Latitude=%{lat}<br>Longitude=%{lon}<br>House price of unit area=%{marker.color}<extra></extra>",
         "lat": [
          24.9602904534975,
          24.9707858958776,
          24.9858290618558,
          24.9368124766351,
          24.9963868085687,
          25.0061821171755,
          24.9332897220076,
          24.9632958460854,
          24.9919616718381,
          25.0044110266218,
          25.0033120013404,
          24.995700503196,
          24.9524336587173,
          24.9773930586236,
          25.0105428775829,
          25.0008044905366,
          24.9574289377502,
          25.011612100037,
          24.9404353857674,
          24.9529118331392,
          25.0084829729508,
          24.9474960577189,
          24.9331953869432,
          24.9901612390219,
          24.9882755963917,
          24.9449512296973,
          25.0070425820581,
          24.9875968137397,
          24.9633996643667,
          24.9977655838095,
          24.9389089417623
         ],
         "legendgroup": "",
         "lon": [
          121.548224759051,
          121.545295251353,
          121.4953205508,
          121.482351747521,
          121.477831650654,
          121.560528782084,
          121.494506030188,
          121.56048215393,
          121.522618229086,
          121.56122828887,
          121.552867564015,
          121.482672115367,
          121.495368644815,
          121.556824877912,
          121.477584192181,
          121.539420209174,
          121.549554265332,
          121.478951940109,
          121.558400528992,
          121.494621291426,
          121.501910555157,
          121.527787155457,
          121.534004989952,
          121.529881676725,
          121.515122231269,
          121.559418202761,
          121.494277585657,
          121.545535288441,
          121.563499937105,
          121.557961381823,
          121.51013670466
         ],
         "marker": {
          "color": [
           0,
           0,
           0,
           0,
           0,
           0,
           0,
           0,
           0,
           0,
           0,
           0,
           0,
           0,
           0,
           0,
           0,
           0,
           0,
           0,
           0,
           0,
           0,
           0,
           0,
           0,
           0,
           0,
           0,
           0,
           0
          ],
          "coloraxis": "coloraxis",
          "size": [
           10.3,
           16.1,
           13.5,
           24.2,
           38.2,
           18.9,
           16.3,
           0,
           34,
           37.7,
           17.2,
           18.9,
           4.7,
           0,
           21.7,
           16.3,
           40.9,
           13.7,
           6.3,
           17.1,
           16.4,
           13.6,
           3.6,
           16.6,
           6.4,
           31.9,
           17.9,
           0,
           17.5,
           13.3,
           32.8
          ],
          "sizemode": "area",
          "sizeref": 0.10225
         },
         "mode": "markers",
         "name": "",
         "showlegend": false,
         "subplot": "mapbox",
         "type": "scattermapbox"
        }
       ],
       "layout": {
        "coloraxis": {
         "colorbar": {
          "title": {
           "text": "House price of unit area"
          }
         },
         "colorscale": [
          [
           0,
           "#0d0887"
          ],
          [
           0.1111111111111111,
           "#46039f"
          ],
          [
           0.2222222222222222,
           "#7201a8"
          ],
          [
           0.3333333333333333,
           "#9c179e"
          ],
          [
           0.4444444444444444,
           "#bd3786"
          ],
          [
           0.5555555555555556,
           "#d8576b"
          ],
          [
           0.6666666666666666,
           "#ed7953"
          ],
          [
           0.7777777777777778,
           "#fb9f3a"
          ],
          [
           0.8888888888888888,
           "#fdca26"
          ],
          [
           1,
           "#f0f921"
          ]
         ]
        },
        "height": 800,
        "legend": {
         "itemsizing": "constant",
         "tracegroupgap": 0
        },
        "mapbox": {
         "center": {
          "lat": 24.976099870816576,
          "lon": 121.52497383167312
         },
         "domain": {
          "x": [
           0,
           1
          ],
          "y": [
           0,
           1
          ]
         },
         "style": "open-street-map",
         "zoom": 10
        },
        "margin": {
         "b": 0,
         "l": 0,
         "r": 0,
         "t": 0
        },
        "template": {
         "data": {
          "bar": [
           {
            "error_x": {
             "color": "#2a3f5f"
            },
            "error_y": {
             "color": "#2a3f5f"
            },
            "marker": {
             "line": {
              "color": "#E5ECF6",
              "width": 0.5
             },
             "pattern": {
              "fillmode": "overlay",
              "size": 10,
              "solidity": 0.2
             }
            },
            "type": "bar"
           }
          ],
          "barpolar": [
           {
            "marker": {
             "line": {
              "color": "#E5ECF6",
              "width": 0.5
             },
             "pattern": {
              "fillmode": "overlay",
              "size": 10,
              "solidity": 0.2
             }
            },
            "type": "barpolar"
           }
          ],
          "carpet": [
           {
            "aaxis": {
             "endlinecolor": "#2a3f5f",
             "gridcolor": "white",
             "linecolor": "white",
             "minorgridcolor": "white",
             "startlinecolor": "#2a3f5f"
            },
            "baxis": {
             "endlinecolor": "#2a3f5f",
             "gridcolor": "white",
             "linecolor": "white",
             "minorgridcolor": "white",
             "startlinecolor": "#2a3f5f"
            },
            "type": "carpet"
           }
          ],
          "choropleth": [
           {
            "colorbar": {
             "outlinewidth": 0,
             "ticks": ""
            },
            "type": "choropleth"
           }
          ],
          "contour": [
           {
            "colorbar": {
             "outlinewidth": 0,
             "ticks": ""
            },
            "colorscale": [
             [
              0,
              "#0d0887"
             ],
             [
              0.1111111111111111,
              "#46039f"
             ],
             [
              0.2222222222222222,
              "#7201a8"
             ],
             [
              0.3333333333333333,
              "#9c179e"
             ],
             [
              0.4444444444444444,
              "#bd3786"
             ],
             [
              0.5555555555555556,
              "#d8576b"
             ],
             [
              0.6666666666666666,
              "#ed7953"
             ],
             [
              0.7777777777777778,
              "#fb9f3a"
             ],
             [
              0.8888888888888888,
              "#fdca26"
             ],
             [
              1,
              "#f0f921"
             ]
            ],
            "type": "contour"
           }
          ],
          "contourcarpet": [
           {
            "colorbar": {
             "outlinewidth": 0,
             "ticks": ""
            },
            "type": "contourcarpet"
           }
          ],
          "heatmap": [
           {
            "colorbar": {
             "outlinewidth": 0,
             "ticks": ""
            },
            "colorscale": [
             [
              0,
              "#0d0887"
             ],
             [
              0.1111111111111111,
              "#46039f"
             ],
             [
              0.2222222222222222,
              "#7201a8"
             ],
             [
              0.3333333333333333,
              "#9c179e"
             ],
             [
              0.4444444444444444,
              "#bd3786"
             ],
             [
              0.5555555555555556,
              "#d8576b"
             ],
             [
              0.6666666666666666,
              "#ed7953"
             ],
             [
              0.7777777777777778,
              "#fb9f3a"
             ],
             [
              0.8888888888888888,
              "#fdca26"
             ],
             [
              1,
              "#f0f921"
             ]
            ],
            "type": "heatmap"
           }
          ],
          "heatmapgl": [
           {
            "colorbar": {
             "outlinewidth": 0,
             "ticks": ""
            },
            "colorscale": [
             [
              0,
              "#0d0887"
             ],
             [
              0.1111111111111111,
              "#46039f"
             ],
             [
              0.2222222222222222,
              "#7201a8"
             ],
             [
              0.3333333333333333,
              "#9c179e"
             ],
             [
              0.4444444444444444,
              "#bd3786"
             ],
             [
              0.5555555555555556,
              "#d8576b"
             ],
             [
              0.6666666666666666,
              "#ed7953"
             ],
             [
              0.7777777777777778,
              "#fb9f3a"
             ],
             [
              0.8888888888888888,
              "#fdca26"
             ],
             [
              1,
              "#f0f921"
             ]
            ],
            "type": "heatmapgl"
           }
          ],
          "histogram": [
           {
            "marker": {
             "pattern": {
              "fillmode": "overlay",
              "size": 10,
              "solidity": 0.2
             }
            },
            "type": "histogram"
           }
          ],
          "histogram2d": [
           {
            "colorbar": {
             "outlinewidth": 0,
             "ticks": ""
            },
            "colorscale": [
             [
              0,
              "#0d0887"
             ],
             [
              0.1111111111111111,
              "#46039f"
             ],
             [
              0.2222222222222222,
              "#7201a8"
             ],
             [
              0.3333333333333333,
              "#9c179e"
             ],
             [
              0.4444444444444444,
              "#bd3786"
             ],
             [
              0.5555555555555556,
              "#d8576b"
             ],
             [
              0.6666666666666666,
              "#ed7953"
             ],
             [
              0.7777777777777778,
              "#fb9f3a"
             ],
             [
              0.8888888888888888,
              "#fdca26"
             ],
             [
              1,
              "#f0f921"
             ]
            ],
            "type": "histogram2d"
           }
          ],
          "histogram2dcontour": [
           {
            "colorbar": {
             "outlinewidth": 0,
             "ticks": ""
            },
            "colorscale": [
             [
              0,
              "#0d0887"
             ],
             [
              0.1111111111111111,
              "#46039f"
             ],
             [
              0.2222222222222222,
              "#7201a8"
             ],
             [
              0.3333333333333333,
              "#9c179e"
             ],
             [
              0.4444444444444444,
              "#bd3786"
             ],
             [
              0.5555555555555556,
              "#d8576b"
             ],
             [
              0.6666666666666666,
              "#ed7953"
             ],
             [
              0.7777777777777778,
              "#fb9f3a"
             ],
             [
              0.8888888888888888,
              "#fdca26"
             ],
             [
              1,
              "#f0f921"
             ]
            ],
            "type": "histogram2dcontour"
           }
          ],
          "mesh3d": [
           {
            "colorbar": {
             "outlinewidth": 0,
             "ticks": ""
            },
            "type": "mesh3d"
           }
          ],
          "parcoords": [
           {
            "line": {
             "colorbar": {
              "outlinewidth": 0,
              "ticks": ""
             }
            },
            "type": "parcoords"
           }
          ],
          "pie": [
           {
            "automargin": true,
            "type": "pie"
           }
          ],
          "scatter": [
           {
            "fillpattern": {
             "fillmode": "overlay",
             "size": 10,
             "solidity": 0.2
            },
            "type": "scatter"
           }
          ],
          "scatter3d": [
           {
            "line": {
             "colorbar": {
              "outlinewidth": 0,
              "ticks": ""
             }
            },
            "marker": {
             "colorbar": {
              "outlinewidth": 0,
              "ticks": ""
             }
            },
            "type": "scatter3d"
           }
          ],
          "scattercarpet": [
           {
            "marker": {
             "colorbar": {
              "outlinewidth": 0,
              "ticks": ""
             }
            },
            "type": "scattercarpet"
           }
          ],
          "scattergeo": [
           {
            "marker": {
             "colorbar": {
              "outlinewidth": 0,
              "ticks": ""
             }
            },
            "type": "scattergeo"
           }
          ],
          "scattergl": [
           {
            "marker": {
             "colorbar": {
              "outlinewidth": 0,
              "ticks": ""
             }
            },
            "type": "scattergl"
           }
          ],
          "scattermapbox": [
           {
            "marker": {
             "colorbar": {
              "outlinewidth": 0,
              "ticks": ""
             }
            },
            "type": "scattermapbox"
           }
          ],
          "scatterpolar": [
           {
            "marker": {
             "colorbar": {
              "outlinewidth": 0,
              "ticks": ""
             }
            },
            "type": "scatterpolar"
           }
          ],
          "scatterpolargl": [
           {
            "marker": {
             "colorbar": {
              "outlinewidth": 0,
              "ticks": ""
             }
            },
            "type": "scatterpolargl"
           }
          ],
          "scatterternary": [
           {
            "marker": {
             "colorbar": {
              "outlinewidth": 0,
              "ticks": ""
             }
            },
            "type": "scatterternary"
           }
          ],
          "surface": [
           {
            "colorbar": {
             "outlinewidth": 0,
             "ticks": ""
            },
            "colorscale": [
             [
              0,
              "#0d0887"
             ],
             [
              0.1111111111111111,
              "#46039f"
             ],
             [
              0.2222222222222222,
              "#7201a8"
             ],
             [
              0.3333333333333333,
              "#9c179e"
             ],
             [
              0.4444444444444444,
              "#bd3786"
             ],
             [
              0.5555555555555556,
              "#d8576b"
             ],
             [
              0.6666666666666666,
              "#ed7953"
             ],
             [
              0.7777777777777778,
              "#fb9f3a"
             ],
             [
              0.8888888888888888,
              "#fdca26"
             ],
             [
              1,
              "#f0f921"
             ]
            ],
            "type": "surface"
           }
          ],
          "table": [
           {
            "cells": {
             "fill": {
              "color": "#EBF0F8"
             },
             "line": {
              "color": "white"
             }
            },
            "header": {
             "fill": {
              "color": "#C8D4E3"
             },
             "line": {
              "color": "white"
             }
            },
            "type": "table"
           }
          ]
         },
         "layout": {
          "annotationdefaults": {
           "arrowcolor": "#2a3f5f",
           "arrowhead": 0,
           "arrowwidth": 1
          },
          "autotypenumbers": "strict",
          "coloraxis": {
           "colorbar": {
            "outlinewidth": 0,
            "ticks": ""
           }
          },
          "colorscale": {
           "diverging": [
            [
             0,
             "#8e0152"
            ],
            [
             0.1,
             "#c51b7d"
            ],
            [
             0.2,
             "#de77ae"
            ],
            [
             0.3,
             "#f1b6da"
            ],
            [
             0.4,
             "#fde0ef"
            ],
            [
             0.5,
             "#f7f7f7"
            ],
            [
             0.6,
             "#e6f5d0"
            ],
            [
             0.7,
             "#b8e186"
            ],
            [
             0.8,
             "#7fbc41"
            ],
            [
             0.9,
             "#4d9221"
            ],
            [
             1,
             "#276419"
            ]
           ],
           "sequential": [
            [
             0,
             "#0d0887"
            ],
            [
             0.1111111111111111,
             "#46039f"
            ],
            [
             0.2222222222222222,
             "#7201a8"
            ],
            [
             0.3333333333333333,
             "#9c179e"
            ],
            [
             0.4444444444444444,
             "#bd3786"
            ],
            [
             0.5555555555555556,
             "#d8576b"
            ],
            [
             0.6666666666666666,
             "#ed7953"
            ],
            [
             0.7777777777777778,
             "#fb9f3a"
            ],
            [
             0.8888888888888888,
             "#fdca26"
            ],
            [
             1,
             "#f0f921"
            ]
           ],
           "sequentialminus": [
            [
             0,
             "#0d0887"
            ],
            [
             0.1111111111111111,
             "#46039f"
            ],
            [
             0.2222222222222222,
             "#7201a8"
            ],
            [
             0.3333333333333333,
             "#9c179e"
            ],
            [
             0.4444444444444444,
             "#bd3786"
            ],
            [
             0.5555555555555556,
             "#d8576b"
            ],
            [
             0.6666666666666666,
             "#ed7953"
            ],
            [
             0.7777777777777778,
             "#fb9f3a"
            ],
            [
             0.8888888888888888,
             "#fdca26"
            ],
            [
             1,
             "#f0f921"
            ]
           ]
          },
          "colorway": [
           "#636efa",
           "#EF553B",
           "#00cc96",
           "#ab63fa",
           "#FFA15A",
           "#19d3f3",
           "#FF6692",
           "#B6E880",
           "#FF97FF",
           "#FECB52"
          ],
          "font": {
           "color": "#2a3f5f"
          },
          "geo": {
           "bgcolor": "white",
           "lakecolor": "white",
           "landcolor": "#E5ECF6",
           "showlakes": true,
           "showland": true,
           "subunitcolor": "white"
          },
          "hoverlabel": {
           "align": "left"
          },
          "hovermode": "closest",
          "mapbox": {
           "style": "light"
          },
          "paper_bgcolor": "white",
          "plot_bgcolor": "#E5ECF6",
          "polar": {
           "angularaxis": {
            "gridcolor": "white",
            "linecolor": "white",
            "ticks": ""
           },
           "bgcolor": "#E5ECF6",
           "radialaxis": {
            "gridcolor": "white",
            "linecolor": "white",
            "ticks": ""
           }
          },
          "scene": {
           "xaxis": {
            "backgroundcolor": "#E5ECF6",
            "gridcolor": "white",
            "gridwidth": 2,
            "linecolor": "white",
            "showbackground": true,
            "ticks": "",
            "zerolinecolor": "white"
           },
           "yaxis": {
            "backgroundcolor": "#E5ECF6",
            "gridcolor": "white",
            "gridwidth": 2,
            "linecolor": "white",
            "showbackground": true,
            "ticks": "",
            "zerolinecolor": "white"
           },
           "zaxis": {
            "backgroundcolor": "#E5ECF6",
            "gridcolor": "white",
            "gridwidth": 2,
            "linecolor": "white",
            "showbackground": true,
            "ticks": "",
            "zerolinecolor": "white"
           }
          },
          "shapedefaults": {
           "line": {
            "color": "#2a3f5f"
           }
          },
          "ternary": {
           "aaxis": {
            "gridcolor": "white",
            "linecolor": "white",
            "ticks": ""
           },
           "baxis": {
            "gridcolor": "white",
            "linecolor": "white",
            "ticks": ""
           },
           "bgcolor": "#E5ECF6",
           "caxis": {
            "gridcolor": "white",
            "linecolor": "white",
            "ticks": ""
           }
          },
          "title": {
           "x": 0.05
          },
          "xaxis": {
           "automargin": true,
           "gridcolor": "white",
           "linecolor": "white",
           "ticks": "",
           "title": {
            "standoff": 15
           },
           "zerolinecolor": "white",
           "zerolinewidth": 2
          },
          "yaxis": {
           "automargin": true,
           "gridcolor": "white",
           "linecolor": "white",
           "ticks": "",
           "title": {
            "standoff": 15
           },
           "zerolinecolor": "white",
           "zerolinewidth": 2
          }
         }
        },
        "width": 800
       }
      },
      "text/html": [
       "<div>                            <div id=\"1ec7ae8e-cfbc-4a13-ba0e-1e441d9c68da\" class=\"plotly-graph-div\" style=\"height:800px; width:800px;\"></div>            <script type=\"text/javascript\">                require([\"plotly\"], function(Plotly) {                    window.PLOTLYENV=window.PLOTLYENV || {};                                    if (document.getElementById(\"1ec7ae8e-cfbc-4a13-ba0e-1e441d9c68da\")) {                    Plotly.newPlot(                        \"1ec7ae8e-cfbc-4a13-ba0e-1e441d9c68da\",                        [{\"hovertemplate\":\"House age=%{marker.size}\\u003cbr\\u003eLatitude=%{lat}\\u003cbr\\u003eLongitude=%{lon}\\u003cbr\\u003eHouse price of unit area=%{marker.color}\\u003cextra\\u003e\\u003c\\u002fextra\\u003e\",\"lat\":[24.9602904534975,24.9707858958776,24.9858290618558,24.9368124766351,24.9963868085687,25.0061821171755,24.9332897220076,24.9632958460854,24.9919616718381,25.0044110266218,25.0033120013404,24.995700503196,24.9524336587173,24.9773930586236,25.0105428775829,25.0008044905366,24.9574289377502,25.011612100037,24.9404353857674,24.9529118331392,25.0084829729508,24.9474960577189,24.9331953869432,24.9901612390219,24.9882755963917,24.9449512296973,25.0070425820581,24.9875968137397,24.9633996643667,24.9977655838095,24.9389089417623],\"legendgroup\":\"\",\"lon\":[121.548224759051,121.545295251353,121.4953205508,121.482351747521,121.477831650654,121.560528782084,121.494506030188,121.56048215393,121.522618229086,121.56122828887,121.552867564015,121.482672115367,121.495368644815,121.556824877912,121.477584192181,121.539420209174,121.549554265332,121.478951940109,121.558400528992,121.494621291426,121.501910555157,121.527787155457,121.534004989952,121.529881676725,121.515122231269,121.559418202761,121.494277585657,121.545535288441,121.563499937105,121.557961381823,121.51013670466],\"marker\":{\"color\":[0.0,0.0,0.0,0.0,0.0,0.0,0.0,0.0,0.0,0.0,0.0,0.0,0.0,0.0,0.0,0.0,0.0,0.0,0.0,0.0,0.0,0.0,0.0,0.0,0.0,0.0,0.0,0.0,0.0,0.0,0.0],\"coloraxis\":\"coloraxis\",\"size\":[10.3,16.1,13.5,24.2,38.2,18.9,16.3,0.0,34.0,37.7,17.2,18.9,4.7,0.0,21.7,16.3,40.9,13.7,6.3,17.1,16.4,13.6,3.6,16.6,6.4,31.9,17.9,0.0,17.5,13.3,32.8],\"sizemode\":\"area\",\"sizeref\":0.10225},\"mode\":\"markers\",\"name\":\"\",\"showlegend\":false,\"subplot\":\"mapbox\",\"type\":\"scattermapbox\"}],                        {\"template\":{\"data\":{\"histogram2dcontour\":[{\"type\":\"histogram2dcontour\",\"colorbar\":{\"outlinewidth\":0,\"ticks\":\"\"},\"colorscale\":[[0.0,\"#0d0887\"],[0.1111111111111111,\"#46039f\"],[0.2222222222222222,\"#7201a8\"],[0.3333333333333333,\"#9c179e\"],[0.4444444444444444,\"#bd3786\"],[0.5555555555555556,\"#d8576b\"],[0.6666666666666666,\"#ed7953\"],[0.7777777777777778,\"#fb9f3a\"],[0.8888888888888888,\"#fdca26\"],[1.0,\"#f0f921\"]]}],\"choropleth\":[{\"type\":\"choropleth\",\"colorbar\":{\"outlinewidth\":0,\"ticks\":\"\"}}],\"histogram2d\":[{\"type\":\"histogram2d\",\"colorbar\":{\"outlinewidth\":0,\"ticks\":\"\"},\"colorscale\":[[0.0,\"#0d0887\"],[0.1111111111111111,\"#46039f\"],[0.2222222222222222,\"#7201a8\"],[0.3333333333333333,\"#9c179e\"],[0.4444444444444444,\"#bd3786\"],[0.5555555555555556,\"#d8576b\"],[0.6666666666666666,\"#ed7953\"],[0.7777777777777778,\"#fb9f3a\"],[0.8888888888888888,\"#fdca26\"],[1.0,\"#f0f921\"]]}],\"heatmap\":[{\"type\":\"heatmap\",\"colorbar\":{\"outlinewidth\":0,\"ticks\":\"\"},\"colorscale\":[[0.0,\"#0d0887\"],[0.1111111111111111,\"#46039f\"],[0.2222222222222222,\"#7201a8\"],[0.3333333333333333,\"#9c179e\"],[0.4444444444444444,\"#bd3786\"],[0.5555555555555556,\"#d8576b\"],[0.6666666666666666,\"#ed7953\"],[0.7777777777777778,\"#fb9f3a\"],[0.8888888888888888,\"#fdca26\"],[1.0,\"#f0f921\"]]}],\"heatmapgl\":[{\"type\":\"heatmapgl\",\"colorbar\":{\"outlinewidth\":0,\"ticks\":\"\"},\"colorscale\":[[0.0,\"#0d0887\"],[0.1111111111111111,\"#46039f\"],[0.2222222222222222,\"#7201a8\"],[0.3333333333333333,\"#9c179e\"],[0.4444444444444444,\"#bd3786\"],[0.5555555555555556,\"#d8576b\"],[0.6666666666666666,\"#ed7953\"],[0.7777777777777778,\"#fb9f3a\"],[0.8888888888888888,\"#fdca26\"],[1.0,\"#f0f921\"]]}],\"contourcarpet\":[{\"type\":\"contourcarpet\",\"colorbar\":{\"outlinewidth\":0,\"ticks\":\"\"}}],\"contour\":[{\"type\":\"contour\",\"colorbar\":{\"outlinewidth\":0,\"ticks\":\"\"},\"colorscale\":[[0.0,\"#0d0887\"],[0.1111111111111111,\"#46039f\"],[0.2222222222222222,\"#7201a8\"],[0.3333333333333333,\"#9c179e\"],[0.4444444444444444,\"#bd3786\"],[0.5555555555555556,\"#d8576b\"],[0.6666666666666666,\"#ed7953\"],[0.7777777777777778,\"#fb9f3a\"],[0.8888888888888888,\"#fdca26\"],[1.0,\"#f0f921\"]]}],\"surface\":[{\"type\":\"surface\",\"colorbar\":{\"outlinewidth\":0,\"ticks\":\"\"},\"colorscale\":[[0.0,\"#0d0887\"],[0.1111111111111111,\"#46039f\"],[0.2222222222222222,\"#7201a8\"],[0.3333333333333333,\"#9c179e\"],[0.4444444444444444,\"#bd3786\"],[0.5555555555555556,\"#d8576b\"],[0.6666666666666666,\"#ed7953\"],[0.7777777777777778,\"#fb9f3a\"],[0.8888888888888888,\"#fdca26\"],[1.0,\"#f0f921\"]]}],\"mesh3d\":[{\"type\":\"mesh3d\",\"colorbar\":{\"outlinewidth\":0,\"ticks\":\"\"}}],\"scatter\":[{\"fillpattern\":{\"fillmode\":\"overlay\",\"size\":10,\"solidity\":0.2},\"type\":\"scatter\"}],\"parcoords\":[{\"type\":\"parcoords\",\"line\":{\"colorbar\":{\"outlinewidth\":0,\"ticks\":\"\"}}}],\"scatterpolargl\":[{\"type\":\"scatterpolargl\",\"marker\":{\"colorbar\":{\"outlinewidth\":0,\"ticks\":\"\"}}}],\"bar\":[{\"error_x\":{\"color\":\"#2a3f5f\"},\"error_y\":{\"color\":\"#2a3f5f\"},\"marker\":{\"line\":{\"color\":\"#E5ECF6\",\"width\":0.5},\"pattern\":{\"fillmode\":\"overlay\",\"size\":10,\"solidity\":0.2}},\"type\":\"bar\"}],\"scattergeo\":[{\"type\":\"scattergeo\",\"marker\":{\"colorbar\":{\"outlinewidth\":0,\"ticks\":\"\"}}}],\"scatterpolar\":[{\"type\":\"scatterpolar\",\"marker\":{\"colorbar\":{\"outlinewidth\":0,\"ticks\":\"\"}}}],\"histogram\":[{\"marker\":{\"pattern\":{\"fillmode\":\"overlay\",\"size\":10,\"solidity\":0.2}},\"type\":\"histogram\"}],\"scattergl\":[{\"type\":\"scattergl\",\"marker\":{\"colorbar\":{\"outlinewidth\":0,\"ticks\":\"\"}}}],\"scatter3d\":[{\"type\":\"scatter3d\",\"line\":{\"colorbar\":{\"outlinewidth\":0,\"ticks\":\"\"}},\"marker\":{\"colorbar\":{\"outlinewidth\":0,\"ticks\":\"\"}}}],\"scattermapbox\":[{\"type\":\"scattermapbox\",\"marker\":{\"colorbar\":{\"outlinewidth\":0,\"ticks\":\"\"}}}],\"scatterternary\":[{\"type\":\"scatterternary\",\"marker\":{\"colorbar\":{\"outlinewidth\":0,\"ticks\":\"\"}}}],\"scattercarpet\":[{\"type\":\"scattercarpet\",\"marker\":{\"colorbar\":{\"outlinewidth\":0,\"ticks\":\"\"}}}],\"carpet\":[{\"aaxis\":{\"endlinecolor\":\"#2a3f5f\",\"gridcolor\":\"white\",\"linecolor\":\"white\",\"minorgridcolor\":\"white\",\"startlinecolor\":\"#2a3f5f\"},\"baxis\":{\"endlinecolor\":\"#2a3f5f\",\"gridcolor\":\"white\",\"linecolor\":\"white\",\"minorgridcolor\":\"white\",\"startlinecolor\":\"#2a3f5f\"},\"type\":\"carpet\"}],\"table\":[{\"cells\":{\"fill\":{\"color\":\"#EBF0F8\"},\"line\":{\"color\":\"white\"}},\"header\":{\"fill\":{\"color\":\"#C8D4E3\"},\"line\":{\"color\":\"white\"}},\"type\":\"table\"}],\"barpolar\":[{\"marker\":{\"line\":{\"color\":\"#E5ECF6\",\"width\":0.5},\"pattern\":{\"fillmode\":\"overlay\",\"size\":10,\"solidity\":0.2}},\"type\":\"barpolar\"}],\"pie\":[{\"automargin\":true,\"type\":\"pie\"}]},\"layout\":{\"autotypenumbers\":\"strict\",\"colorway\":[\"#636efa\",\"#EF553B\",\"#00cc96\",\"#ab63fa\",\"#FFA15A\",\"#19d3f3\",\"#FF6692\",\"#B6E880\",\"#FF97FF\",\"#FECB52\"],\"font\":{\"color\":\"#2a3f5f\"},\"hovermode\":\"closest\",\"hoverlabel\":{\"align\":\"left\"},\"paper_bgcolor\":\"white\",\"plot_bgcolor\":\"#E5ECF6\",\"polar\":{\"bgcolor\":\"#E5ECF6\",\"angularaxis\":{\"gridcolor\":\"white\",\"linecolor\":\"white\",\"ticks\":\"\"},\"radialaxis\":{\"gridcolor\":\"white\",\"linecolor\":\"white\",\"ticks\":\"\"}},\"ternary\":{\"bgcolor\":\"#E5ECF6\",\"aaxis\":{\"gridcolor\":\"white\",\"linecolor\":\"white\",\"ticks\":\"\"},\"baxis\":{\"gridcolor\":\"white\",\"linecolor\":\"white\",\"ticks\":\"\"},\"caxis\":{\"gridcolor\":\"white\",\"linecolor\":\"white\",\"ticks\":\"\"}},\"coloraxis\":{\"colorbar\":{\"outlinewidth\":0,\"ticks\":\"\"}},\"colorscale\":{\"sequential\":[[0.0,\"#0d0887\"],[0.1111111111111111,\"#46039f\"],[0.2222222222222222,\"#7201a8\"],[0.3333333333333333,\"#9c179e\"],[0.4444444444444444,\"#bd3786\"],[0.5555555555555556,\"#d8576b\"],[0.6666666666666666,\"#ed7953\"],[0.7777777777777778,\"#fb9f3a\"],[0.8888888888888888,\"#fdca26\"],[1.0,\"#f0f921\"]],\"sequentialminus\":[[0.0,\"#0d0887\"],[0.1111111111111111,\"#46039f\"],[0.2222222222222222,\"#7201a8\"],[0.3333333333333333,\"#9c179e\"],[0.4444444444444444,\"#bd3786\"],[0.5555555555555556,\"#d8576b\"],[0.6666666666666666,\"#ed7953\"],[0.7777777777777778,\"#fb9f3a\"],[0.8888888888888888,\"#fdca26\"],[1.0,\"#f0f921\"]],\"diverging\":[[0,\"#8e0152\"],[0.1,\"#c51b7d\"],[0.2,\"#de77ae\"],[0.3,\"#f1b6da\"],[0.4,\"#fde0ef\"],[0.5,\"#f7f7f7\"],[0.6,\"#e6f5d0\"],[0.7,\"#b8e186\"],[0.8,\"#7fbc41\"],[0.9,\"#4d9221\"],[1,\"#276419\"]]},\"xaxis\":{\"gridcolor\":\"white\",\"linecolor\":\"white\",\"ticks\":\"\",\"title\":{\"standoff\":15},\"zerolinecolor\":\"white\",\"automargin\":true,\"zerolinewidth\":2},\"yaxis\":{\"gridcolor\":\"white\",\"linecolor\":\"white\",\"ticks\":\"\",\"title\":{\"standoff\":15},\"zerolinecolor\":\"white\",\"automargin\":true,\"zerolinewidth\":2},\"scene\":{\"xaxis\":{\"backgroundcolor\":\"#E5ECF6\",\"gridcolor\":\"white\",\"linecolor\":\"white\",\"showbackground\":true,\"ticks\":\"\",\"zerolinecolor\":\"white\",\"gridwidth\":2},\"yaxis\":{\"backgroundcolor\":\"#E5ECF6\",\"gridcolor\":\"white\",\"linecolor\":\"white\",\"showbackground\":true,\"ticks\":\"\",\"zerolinecolor\":\"white\",\"gridwidth\":2},\"zaxis\":{\"backgroundcolor\":\"#E5ECF6\",\"gridcolor\":\"white\",\"linecolor\":\"white\",\"showbackground\":true,\"ticks\":\"\",\"zerolinecolor\":\"white\",\"gridwidth\":2}},\"shapedefaults\":{\"line\":{\"color\":\"#2a3f5f\"}},\"annotationdefaults\":{\"arrowcolor\":\"#2a3f5f\",\"arrowhead\":0,\"arrowwidth\":1},\"geo\":{\"bgcolor\":\"white\",\"landcolor\":\"#E5ECF6\",\"subunitcolor\":\"white\",\"showland\":true,\"showlakes\":true,\"lakecolor\":\"white\"},\"title\":{\"x\":0.05},\"mapbox\":{\"style\":\"light\"}}},\"mapbox\":{\"domain\":{\"x\":[0.0,1.0],\"y\":[0.0,1.0]},\"center\":{\"lat\":24.976099870816576,\"lon\":121.52497383167312},\"zoom\":10,\"style\":\"open-street-map\"},\"coloraxis\":{\"colorbar\":{\"title\":{\"text\":\"House price of unit area\"}},\"colorscale\":[[0.0,\"#0d0887\"],[0.1111111111111111,\"#46039f\"],[0.2222222222222222,\"#7201a8\"],[0.3333333333333333,\"#9c179e\"],[0.4444444444444444,\"#bd3786\"],[0.5555555555555556,\"#d8576b\"],[0.6666666666666666,\"#ed7953\"],[0.7777777777777778,\"#fb9f3a\"],[0.8888888888888888,\"#fdca26\"],[1.0,\"#f0f921\"]]},\"legend\":{\"tracegroupgap\":0,\"itemsizing\":\"constant\"},\"margin\":{\"t\":0,\"r\":0,\"l\":0,\"b\":0},\"height\":800,\"width\":800},                        {\"responsive\": true}                    ).then(function(){\n",
       "                            \n",
       "var gd = document.getElementById('1ec7ae8e-cfbc-4a13-ba0e-1e441d9c68da');\n",
       "var x = new MutationObserver(function (mutations, observer) {{\n",
       "        var display = window.getComputedStyle(gd).display;\n",
       "        if (!display || display === 'none') {{\n",
       "            console.log([gd, 'removed!']);\n",
       "            Plotly.purge(gd);\n",
       "            observer.disconnect();\n",
       "        }}\n",
       "}});\n",
       "\n",
       "// Listen for the removal of the full notebook cells\n",
       "var notebookContainer = gd.closest('#notebook-container');\n",
       "if (notebookContainer) {{\n",
       "    x.observe(notebookContainer, {childList: true});\n",
       "}}\n",
       "\n",
       "// Listen for the clearing of the current output cell\n",
       "var outputEl = gd.closest('.output');\n",
       "if (outputEl) {{\n",
       "    x.observe(outputEl, {childList: true});\n",
       "}}\n",
       "\n",
       "                        })                };                });            </script>        </div>"
      ]
     },
     "metadata": {},
     "output_type": "display_data"
    }
   ],
   "source": [
    "fig = px.scatter_mapbox(real_estate_data_zero, \n",
    "                        lat=\"Latitude\", \n",
    "                        lon=\"Longitude\", \n",
    "                        #hover_name=\"Address\", \n",
    "                        #hover_data=[\"Address\", \"Listed\"],\n",
    "\n",
    "                        # color=\"Distance to the nearest MRT station\",\n",
    "                        # color=\"House age\",\n",
    "                        color=\"House price of unit area\",\n",
    "                        # color=\"Number of convenience stores\",\n",
    "\n",
    "                        # color_continuous_scale='viridis',\n",
    "                        size=\"House age\",\n",
    "                        zoom=10, \n",
    "                        height=800,\n",
    "                        width=800)\n",
    "\n",
    "fig.update_layout(mapbox_style=\"open-street-map\")\n",
    "fig.update_layout(margin={\"r\":0,\"t\":0,\"l\":0,\"b\":0})\n",
    "fig.show()"
   ]
  },
  {
   "cell_type": "code",
   "execution_count": 13,
   "metadata": {},
   "outputs": [
    {
     "data": {
      "application/vnd.plotly.v1+json": {
       "config": {
        "plotlyServerURL": "https://plot.ly"
       },
       "data": [
        {
         "customdata": [
          [
           6.48867313986559
          ],
          [
           24.9707246507222
          ],
          [
           26.6942667687913
          ],
          [
           38.091638492386
          ],
          [
           21.6547095988987
          ],
          [
           36.9723757859779
          ],
          [
           27.6373820952976
          ],
          [
           44.116585007819
          ],
          [
           49.0712467463324
          ],
          [
           43.1143527472704
          ],
          [
           32.7473626562886
          ],
          [
           60.4603515254385
          ],
          [
           58.163304441213
          ],
          [
           43.7711741944872
          ],
          [
           40.2553334496816
          ],
          [
           49.1570538157169
          ],
          [
           13.673531591941
          ],
          [
           0
          ],
          [
           56.2513551836921
          ],
          [
           16.4440169435875
          ],
          [
           47.3555509944301
          ],
          [
           8.46885474702285
          ],
          [
           52.7611527463149
          ],
          [
           50.612499525911
          ],
          [
           12.5702764963421
          ],
          [
           0
          ],
          [
           22.9155983843477
          ],
          [
           9.42627181268327
          ],
          [
           25.8830227265785
          ],
          [
           4.26637717701642
          ],
          [
           27.2066452204632
          ],
          [
           15.5643238958073
          ],
          [
           30.855391370659
          ],
          [
           34.0665001523509
          ],
          [
           18.4102502610939
          ],
          [
           1.10285236256836
          ],
          [
           31.4309206817246
          ],
          [
           47.0292119939599
          ],
          [
           29.4844308653834
          ],
          [
           19.5472046960457
          ],
          [
           26.3393357636583
          ],
          [
           51.4113855617689
          ],
          [
           48.5498802754601
          ],
          [
           10.3689336577519
          ],
          [
           20.5877365390199
          ],
          [
           34.2186557746786
          ],
          [
           39.2826804303524
          ],
          [
           13.0607381817319
          ],
          [
           36.4262787024133
          ],
          [
           0
          ],
          [
           29.7696285245791
          ],
          [
           43.0720686162193
          ],
          [
           36.178357882540496
          ],
          [
           22.2103012848071
          ],
          [
           38.9063854881111
          ],
          [
           31.5962845437786
          ],
          [
           16.8987551643355
          ],
          [
           0
          ],
          [
           47.2560316776454
          ],
          [
           26.5310213619608
          ],
          [
           0.439332088658198
          ],
          [
           10.600664945496
          ],
          [
           33.6685003704386
          ],
          [
           0
          ],
          [
           39.7083059867501
          ],
          [
           54.3307117240539
          ],
          [
           37.5624449383898
          ],
          [
           23.1001671257941
          ],
          [
           0
          ],
          [
           34.911914523897
          ],
          [
           8.78426512709071
          ],
          [
           25.6964629460552
          ],
          [
           45.297460703197906
          ],
          [
           38.6765504120982
          ],
          [
           20.1689503142355
          ],
          [
           33.0179165771809
          ],
          [
           38.0129943344239
          ],
          [
           29.7111902223534
          ],
          [
           21.012629930315
          ],
          [
           38.3036872846745
          ],
          [
           27.6903517828425
          ],
          [
           0
          ],
          [
           28.191686132407
          ],
          [
           29.9567983945007
          ],
          [
           47.7434278350878
          ],
          [
           19.1322445865892
          ],
          [
           18.3910772686371
          ],
          [
           42.1935753240341
          ],
          [
           3.9573647193025505
          ],
          [
           32.1269806754526
          ],
          [
           32.4349249054702
          ],
          [
           11.2492218447617
          ],
          [
           33.2095551853767
          ],
          [
           38.4026772860101
          ],
          [
           41.2612876350864
          ],
          [
           30.4712345505525
          ],
          [
           17.5624559136366
          ],
          [
           0
          ],
          [
           47.3720425807714
          ],
          [
           28.2813733535374
          ],
          [
           41.585164260109
          ],
          [
           25.5897105628787
          ],
          [
           30.8509289635331
          ],
          [
           50.918107271765
          ],
          [
           57.8080366856824
          ],
          [
           18.706074507494
          ],
          [
           42.8291927812174
          ],
          [
           38.3613258024193
          ],
          [
           27.7437128877843
          ],
          [
           23.6978947304444
          ],
          [
           24.8715151875097
          ],
          [
           9.21356696011434
          ],
          [
           34.7905468051116
          ],
          [
           59.3349377234529
          ],
          [
           38.8312755709849
          ],
          [
           46.8769909843533
          ],
          [
           50.0252531407872
          ],
          [
           21.7119052393642
          ],
          [
           34.9428947789878
          ],
          [
           39.0209329030769
          ],
          [
           7.25505785370538
          ],
          [
           42.7525897789564
          ],
          [
           23.0459931069796
          ],
          [
           35.4962298756878
          ],
          [
           12.5270152292621
          ],
          [
           24.9906447311249
          ],
          [
           32.8842110639479
          ],
          [
           12.0563720827898
          ],
          [
           20.073417458673
          ],
          [
           46.9401246127016
          ],
          [
           13.3587254623293
          ],
          [
           38.6284134340134
          ],
          [
           4.46602738900302
          ],
          [
           31.8607160059352
          ],
          [
           40.7648097853779
          ],
          [
           20.8266317080464
          ],
          [
           1.9094602769652
          ],
          [
           30.383836261416
          ],
          [
           37.9707248404184
          ],
          [
           28.082915932452
          ],
          [
           17.3733897608188
          ],
          [
           45.6651299462785
          ],
          [
           28.9569385588896
          ],
          [
           10.4361777478419
          ],
          [
           17.0090823321316
          ],
          [
           36.3260482916118
          ],
          [
           7.4680339183557
          ],
          [
           34.180725456544
          ],
          [
           47.2549294243721
          ],
          [
           8.40412306626602
          ],
          [
           39.8301588877198
          ],
          [
           27.5314588599267
          ],
          [
           44.7197269269384
          ],
          [
           32.154001369738
          ],
          [
           12.7423741305414
          ],
          [
           44.807935631103
          ],
          [
           23.5774016324822
          ],
          [
           3.39830476234454
          ],
          [
           40.506989705687694
          ],
          [
           43.6616325867157
          ],
          [
           7.60804222209894
          ],
          [
           29.0967787633323
          ],
          [
           45.3484542227931
          ],
          [
           48.4698804985615
          ],
          [
           39.5530021434955
          ],
          [
           31.8123335272741
          ],
          [
           39.8442193233348
          ],
          [
           50.7686874512217
          ],
          [
           59.2537044385582
          ],
          [
           32.9683526527909
          ],
          [
           22.5160355518706
          ],
          [
           35.4634547473561
          ],
          [
           65.571716063673
          ],
          [
           22.5686885989691
          ],
          [
           33.9458354794802
          ],
          [
           32.297726133443
          ],
          [
           13.7948084711636
          ],
          [
           35.2522009872236
          ],
          [
           26.8670498796448
          ],
          [
           26.7221809960102
          ],
          [
           58.8151621881851
          ],
          [
           17.3475390956882
          ],
          [
           15.4668472653615
          ],
          [
           17.8779667993576
          ],
          [
           33.8189554293647
          ],
          [
           26.7593050070151
          ],
          [
           12.2342046220592
          ],
          [
           13.8489372714707
          ],
          [
           38.9882696901933
          ],
          [
           28.7288933601618
          ],
          [
           37.2417055596418
          ],
          [
           49.4898085706729
          ],
          [
           0.3651756182866
          ],
          [
           56.9215909769067
          ],
          [
           26.7823692442816
          ],
          [
           50.3001549462645
          ],
          [
           56.5033170169921
          ],
          [
           41.4221676023817
          ],
          [
           12.4481775253282
          ],
          [
           26.7026337361698
          ],
          [
           0
          ],
          [
           48.5670659498596
          ],
          [
           14.6268037363223
          ],
          [
           0
          ],
          [
           23.3723944184189
          ],
          [
           32.7927237027884
          ],
          [
           45.4858382120226
          ],
          [
           36.553051123972
          ],
          [
           28.6019458869358
          ],
          [
           37.1663224362726
          ],
          [
           47.961563123228
          ],
          [
           26.9891040059551
          ],
          [
           46.4690681887091
          ],
          [
           19.233451582632
          ],
          [
           45.8099375172339
          ],
          [
           50.6280123985009
          ],
          [
           35.3033430577859
          ],
          [
           49.5873159023896
          ],
          [
           22.4409728378083
          ],
          [
           24.133155042721
          ],
          [
           27.6408629955206
          ],
          [
           0
          ],
          [
           45.109443190191
          ],
          [
           40.6512485185873
          ],
          [
           42.7979251885638
          ],
          [
           0
          ],
          [
           0.5660486769317
          ],
          [
           11.9655154990265
          ],
          [
           5.96287468148774
          ],
          [
           0
          ],
          [
           43.574531040512
          ],
          [
           4.84324481688222
          ],
          [
           20.0560838286234
          ],
          [
           52.8640473047998
          ],
          [
           26.4849809509631
          ],
          [
           35.1316190791237
          ],
          [
           26.205318117002
          ],
          [
           43.9293855630677
          ],
          [
           16.0679269016274
          ],
          [
           12.3008706880704
          ],
          [
           18.5279760588054
          ],
          [
           5.97849909623054
          ],
          [
           33.2494423289882
          ],
          [
           45.3326128573898
          ],
          [
           54.9163380791104
          ],
          [
           16.3446753663684
          ],
          [
           38.5684202657223
          ],
          [
           40.7521808177549
          ],
          [
           46.5400325697874
          ],
          [
           22.7586928629085
          ],
          [
           24.7435895628454
          ],
          [
           32.9575837686035
          ],
          [
           29.8620412283299
          ],
          [
           46.2585606704355
          ],
          [
           45.475587813629
          ],
          [
           11.872224410856
          ],
          [
           47.5849597537306
          ],
          [
           34.6507037895075
          ],
          [
           0
          ],
          [
           13.6939914971538
          ],
          [
           4.22615575338024
          ],
          [
           40.4365207063351
          ],
          [
           6.3326304554134
          ],
          [
           29.8950977756843
          ],
          [
           19.5926355781034
          ],
          [
           23.8178841246938
          ],
          [
           36.9082930427954
          ],
          [
           63.9940027454355
          ],
          [
           39.7401778088903
          ],
          [
           41.401766777240894
          ],
          [
           11.2778173047754
          ],
          [
           59.0363953028228
          ],
          [
           41.0084370288886
          ],
          [
           9.61707773515257
          ],
          [
           48.7410395117726
          ],
          [
           3.11389582664442
          ],
          [
           0
          ],
          [
           40.482274894247
          ],
          [
           32.4113338264792
          ],
          [
           31.2793466113295
          ],
          [
           21.1553438468556
          ],
          [
           41.7851707863072
          ],
          [
           44.2954449888735
          ],
          [
           15.5932474149352
          ],
          [
           47.9304560833418
          ],
          [
           21.1794740139892
          ],
          [
           0
          ],
          [
           6.98726873897372
          ],
          [
           33.3560108995825
          ],
          [
           30.2249970934367
          ],
          [
           37.675401197387
          ],
          [
           36.9428262116587
          ],
          [
           11.0607899711568
          ],
          [
           0
          ],
          [
           20.7270436162766
          ],
          [
           36.5067406091876
          ],
          [
           33.0559040012652
          ],
          [
           46.266096790151
          ],
          [
           25.9641936163836
          ],
          [
           18.459220609326
          ],
          [
           44.4321918986997
          ],
          [
           29.3810537408604
          ],
          [
           46.6255297334849
          ],
          [
           36.495211863858
          ],
          [
           33.1699385706416
          ],
          [
           49.1765940075218
          ],
          [
           28.3945147472139
          ],
          [
           52.3534548460544
          ],
          [
           32.4196762729694
          ],
          [
           25.9884182610238
          ],
          [
           36.3776852530246
          ],
          [
           57.7557780247682
          ],
          [
           40.7916612012704
          ],
          [
           59.114262832405
          ],
          [
           45.886920378651
          ],
          [
           37.0722826779683
          ],
          [
           33.9007579488387
          ],
          [
           0
          ],
          [
           39.5293439300248
          ],
          [
           37.9550163560851
          ],
          [
           30.4043037155612
          ],
          [
           22.7951353911263
          ],
          [
           0
          ],
          [
           39.5296696208105
          ],
          [
           0
          ],
          [
           47.166778132843
          ],
          [
           0
          ],
          [
           12.7626055380114
          ],
          [
           41.1150510492066
          ],
          [
           43.6169405197563
          ],
          [
           20.3099660453743
          ],
          [
           14.4071779954766
          ],
          [
           57.0231444256266
          ],
          [
           21.22293982678
          ],
          [
           28.1088504691166
          ],
          [
           26.2454136101186
          ],
          [
           0
          ],
          [
           35.4314730684749
          ],
          [
           28.7261105263712
          ],
          [
           42.0837951763307
          ],
          [
           13.3972605596853
          ],
          [
           32.007813213726
          ],
          [
           35.9908999443559
          ],
          [
           39.5457564076197
          ],
          [
           24.0390307550797
          ],
          [
           0
          ],
          [
           0
          ],
          [
           41.4301553845597
          ],
          [
           29.7264008378413
          ],
          [
           34.3322499814999
          ],
          [
           31.7436622312802
          ],
          [
           0
          ],
          [
           33.4417429048353
          ],
          [
           19.598395358148
          ],
          [
           14.5985688092336
          ],
          [
           21.1825746496673
          ],
          [
           0
          ],
          [
           19.2173606023532
          ],
          [
           35.7626667164776
          ],
          [
           27.7908378628159
          ],
          [
           21.830258280153
          ],
          [
           54.390696223935905
          ],
          [
           0
          ],
          [
           8.1122919460697
          ],
          [
           48.1397701053448
          ],
          [
           34.6658829855395
          ],
          [
           29.3646171636934
          ],
          [
           22.491469816738
          ],
          [
           29.9902989248985
          ],
          [
           39.41648221751
          ],
          [
           47.6657760794871
          ],
          [
           38.8551796088733
          ],
          [
           19.2851378531669
          ],
          [
           27.7868942708045
          ],
          [
           44.4809265431086
          ],
          [
           15.4729220983442
          ],
          [
           44.1291400687892
          ],
          [
           13.2708751408425
          ],
          [
           27.6210972084825
          ],
          [
           17.345889711584
          ],
          [
           31.0273905436744
          ],
          [
           27.6783525226046
          ],
          [
           9.78540164028739
          ],
          [
           49.9874088389496
          ],
          [
           52.5409254821222
          ],
          [
           0
          ],
          [
           23.0416367079746
          ],
          [
           21.8993429542516
          ],
          [
           0
          ],
          [
           40.0970716764354
          ],
          [
           16.6927425951147
          ],
          [
           43.7833266054162
          ],
          [
           34.4740943895646
          ],
          [
           24.0375922133836
          ],
          [
           28.885856279251
          ],
          [
           36.3156345036445
          ],
          [
           27.0316430077298
          ],
          [
           57.9379897287637
          ],
          [
           0
          ],
          [
           54.8316637803282
          ],
          [
           1.44333771285665
          ],
          [
           31.3584707055162
          ],
          [
           41.4091878331851
          ],
          [
           0
          ],
          [
           44.3506230095309
          ],
          [
           37.5129928203672
          ],
          [
           31.6923358646679
          ],
          [
           43.5889209839506
          ],
          [
           29.7210526152784
          ],
          [
           29.0963099512455
          ],
          [
           33.8713465140675
          ],
          [
           25.255105124997
          ],
          [
           25.2856203048742
          ],
          [
           37.5805538298686
          ]
         ],
         "hovertemplate": "Longitude=%{x}<br>Latitude=%{y}<br>House age=%{z}<br>House price of unit area=%{marker.color}<extra></extra>",
         "legendgroup": "",
         "marker": {
          "color": [
           6.48867313986559,
           24.9707246507222,
           26.6942667687913,
           38.091638492386,
           21.6547095988987,
           36.9723757859779,
           27.6373820952976,
           44.116585007819,
           49.0712467463324,
           43.1143527472704,
           32.7473626562886,
           60.4603515254385,
           58.163304441213,
           43.7711741944872,
           40.2553334496816,
           49.1570538157169,
           13.673531591941,
           0,
           56.2513551836921,
           16.4440169435875,
           47.3555509944301,
           8.46885474702285,
           52.7611527463149,
           50.612499525911,
           12.5702764963421,
           0,
           22.9155983843477,
           9.42627181268327,
           25.8830227265785,
           4.26637717701642,
           27.2066452204632,
           15.5643238958073,
           30.855391370659,
           34.0665001523509,
           18.4102502610939,
           1.10285236256836,
           31.4309206817246,
           47.0292119939599,
           29.4844308653834,
           19.5472046960457,
           26.3393357636583,
           51.4113855617689,
           48.5498802754601,
           10.3689336577519,
           20.5877365390199,
           34.2186557746786,
           39.2826804303524,
           13.0607381817319,
           36.4262787024133,
           0,
           29.7696285245791,
           43.0720686162193,
           36.178357882540496,
           22.2103012848071,
           38.9063854881111,
           31.5962845437786,
           16.8987551643355,
           0,
           47.2560316776454,
           26.5310213619608,
           0.439332088658198,
           10.600664945496,
           33.6685003704386,
           0,
           39.7083059867501,
           54.3307117240539,
           37.5624449383898,
           23.1001671257941,
           0,
           34.911914523897,
           8.78426512709071,
           25.6964629460552,
           45.297460703197906,
           38.6765504120982,
           20.1689503142355,
           33.0179165771809,
           38.0129943344239,
           29.7111902223534,
           21.012629930315,
           38.3036872846745,
           27.6903517828425,
           0,
           28.191686132407,
           29.9567983945007,
           47.7434278350878,
           19.1322445865892,
           18.3910772686371,
           42.1935753240341,
           3.9573647193025505,
           32.1269806754526,
           32.4349249054702,
           11.2492218447617,
           33.2095551853767,
           38.4026772860101,
           41.2612876350864,
           30.4712345505525,
           17.5624559136366,
           0,
           47.3720425807714,
           28.2813733535374,
           41.585164260109,
           25.5897105628787,
           30.8509289635331,
           50.918107271765,
           57.8080366856824,
           18.706074507494,
           42.8291927812174,
           38.3613258024193,
           27.7437128877843,
           23.6978947304444,
           24.8715151875097,
           9.21356696011434,
           34.7905468051116,
           59.3349377234529,
           38.8312755709849,
           46.8769909843533,
           50.0252531407872,
           21.7119052393642,
           34.9428947789878,
           39.0209329030769,
           7.25505785370538,
           42.7525897789564,
           23.0459931069796,
           35.4962298756878,
           12.5270152292621,
           24.9906447311249,
           32.8842110639479,
           12.0563720827898,
           20.073417458673,
           46.9401246127016,
           13.3587254623293,
           38.6284134340134,
           4.46602738900302,
           31.8607160059352,
           40.7648097853779,
           20.8266317080464,
           1.9094602769652,
           30.383836261416,
           37.9707248404184,
           28.082915932452,
           17.3733897608188,
           45.6651299462785,
           28.9569385588896,
           10.4361777478419,
           17.0090823321316,
           36.3260482916118,
           7.4680339183557,
           34.180725456544,
           47.2549294243721,
           8.40412306626602,
           39.8301588877198,
           27.5314588599267,
           44.7197269269384,
           32.154001369738,
           12.7423741305414,
           44.807935631103,
           23.5774016324822,
           3.39830476234454,
           40.506989705687694,
           43.6616325867157,
           7.60804222209894,
           29.0967787633323,
           45.3484542227931,
           48.4698804985615,
           39.5530021434955,
           31.8123335272741,
           39.8442193233348,
           50.7686874512217,
           59.2537044385582,
           32.9683526527909,
           22.5160355518706,
           35.4634547473561,
           65.571716063673,
           22.5686885989691,
           33.9458354794802,
           32.297726133443,
           13.7948084711636,
           35.2522009872236,
           26.8670498796448,
           26.7221809960102,
           58.8151621881851,
           17.3475390956882,
           15.4668472653615,
           17.8779667993576,
           33.8189554293647,
           26.7593050070151,
           12.2342046220592,
           13.8489372714707,
           38.9882696901933,
           28.7288933601618,
           37.2417055596418,
           49.4898085706729,
           0.3651756182866,
           56.9215909769067,
           26.7823692442816,
           50.3001549462645,
           56.5033170169921,
           41.4221676023817,
           12.4481775253282,
           26.7026337361698,
           0,
           48.5670659498596,
           14.6268037363223,
           0,
           23.3723944184189,
           32.7927237027884,
           45.4858382120226,
           36.553051123972,
           28.6019458869358,
           37.1663224362726,
           47.961563123228,
           26.9891040059551,
           46.4690681887091,
           19.233451582632,
           45.8099375172339,
           50.6280123985009,
           35.3033430577859,
           49.5873159023896,
           22.4409728378083,
           24.133155042721,
           27.6408629955206,
           0,
           45.109443190191,
           40.6512485185873,
           42.7979251885638,
           0,
           0.5660486769317,
           11.9655154990265,
           5.96287468148774,
           0,
           43.574531040512,
           4.84324481688222,
           20.0560838286234,
           52.8640473047998,
           26.4849809509631,
           35.1316190791237,
           26.205318117002,
           43.9293855630677,
           16.0679269016274,
           12.3008706880704,
           18.5279760588054,
           5.97849909623054,
           33.2494423289882,
           45.3326128573898,
           54.9163380791104,
           16.3446753663684,
           38.5684202657223,
           40.7521808177549,
           46.5400325697874,
           22.7586928629085,
           24.7435895628454,
           32.9575837686035,
           29.8620412283299,
           46.2585606704355,
           45.475587813629,
           11.872224410856,
           47.5849597537306,
           34.6507037895075,
           0,
           13.6939914971538,
           4.22615575338024,
           40.4365207063351,
           6.3326304554134,
           29.8950977756843,
           19.5926355781034,
           23.8178841246938,
           36.9082930427954,
           63.9940027454355,
           39.7401778088903,
           41.401766777240894,
           11.2778173047754,
           59.0363953028228,
           41.0084370288886,
           9.61707773515257,
           48.7410395117726,
           3.11389582664442,
           0,
           40.482274894247,
           32.4113338264792,
           31.2793466113295,
           21.1553438468556,
           41.7851707863072,
           44.2954449888735,
           15.5932474149352,
           47.9304560833418,
           21.1794740139892,
           0,
           6.98726873897372,
           33.3560108995825,
           30.2249970934367,
           37.675401197387,
           36.9428262116587,
           11.0607899711568,
           0,
           20.7270436162766,
           36.5067406091876,
           33.0559040012652,
           46.266096790151,
           25.9641936163836,
           18.459220609326,
           44.4321918986997,
           29.3810537408604,
           46.6255297334849,
           36.495211863858,
           33.1699385706416,
           49.1765940075218,
           28.3945147472139,
           52.3534548460544,
           32.4196762729694,
           25.9884182610238,
           36.3776852530246,
           57.7557780247682,
           40.7916612012704,
           59.114262832405,
           45.886920378651,
           37.0722826779683,
           33.9007579488387,
           0,
           39.5293439300248,
           37.9550163560851,
           30.4043037155612,
           22.7951353911263,
           0,
           39.5296696208105,
           0,
           47.166778132843,
           0,
           12.7626055380114,
           41.1150510492066,
           43.6169405197563,
           20.3099660453743,
           14.4071779954766,
           57.0231444256266,
           21.22293982678,
           28.1088504691166,
           26.2454136101186,
           0,
           35.4314730684749,
           28.7261105263712,
           42.0837951763307,
           13.3972605596853,
           32.007813213726,
           35.9908999443559,
           39.5457564076197,
           24.0390307550797,
           0,
           0,
           41.4301553845597,
           29.7264008378413,
           34.3322499814999,
           31.7436622312802,
           0,
           33.4417429048353,
           19.598395358148,
           14.5985688092336,
           21.1825746496673,
           0,
           19.2173606023532,
           35.7626667164776,
           27.7908378628159,
           21.830258280153,
           54.390696223935905,
           0,
           8.1122919460697,
           48.1397701053448,
           34.6658829855395,
           29.3646171636934,
           22.491469816738,
           29.9902989248985,
           39.41648221751,
           47.6657760794871,
           38.8551796088733,
           19.2851378531669,
           27.7868942708045,
           44.4809265431086,
           15.4729220983442,
           44.1291400687892,
           13.2708751408425,
           27.6210972084825,
           17.345889711584,
           31.0273905436744,
           27.6783525226046,
           9.78540164028739,
           49.9874088389496,
           52.5409254821222,
           0,
           23.0416367079746,
           21.8993429542516,
           0,
           40.0970716764354,
           16.6927425951147,
           43.7833266054162,
           34.4740943895646,
           24.0375922133836,
           28.885856279251,
           36.3156345036445,
           27.0316430077298,
           57.9379897287637,
           0,
           54.8316637803282,
           1.44333771285665,
           31.3584707055162,
           41.4091878331851,
           0,
           44.3506230095309,
           37.5129928203672,
           31.6923358646679,
           43.5889209839506,
           29.7210526152784,
           29.0963099512455,
           33.8713465140675,
           25.255105124997,
           25.2856203048742,
           37.5805538298686
          ],
          "coloraxis": "coloraxis",
          "symbol": "circle"
         },
         "mode": "markers",
         "name": "",
         "scene": "scene",
         "showlegend": false,
         "type": "scatter3d",
         "x": [
          121.561694217708,
          121.546989844571,
          121.528336472882,
          121.48217837539,
          121.479946198787,
          121.543823378185,
          121.558955290137,
          121.544377460949,
          121.527841153188,
          121.483457129929,
          121.553288864048,
          121.501478179942,
          121.544776878868,
          121.510671626083,
          121.545059337793,
          121.476564397747,
          121.550592131391,
          121.548224759051,
          121.477005679317,
          121.515410391159,
          121.497346841029,
          121.544733694032,
          121.477153278647,
          121.488075621202,
          121.477439083807,
          121.545295251353,
          121.509305352086,
          121.552214187846,
          121.520407567452,
          121.47553957665,
          121.512824057515,
          121.512329024276,
          121.510337038441,
          121.47622695801,
          121.559726485722,
          121.549057220556,
          121.513081867057,
          121.490005422117,
          121.495703922059,
          121.535876581756,
          121.552377100616,
          121.476774911182,
          121.481346883592,
          121.546926377628,
          121.491840707064,
          121.529953167661,
          121.555341210871,
          121.494471512805,
          121.493701334288,
          121.4953205508,
          121.498532768249,
          121.564638541706,
          121.536739553015,
          121.559393057324,
          121.538139942001,
          121.488671071553,
          121.555845990375,
          121.482351747521,
          121.550517942203,
          121.559968941094,
          121.496696726214,
          121.481171437196,
          121.528801714431,
          121.477831650654,
          121.498225706981,
          121.484122063674,
          121.520630203822,
          121.524701870711,
          121.560528782084,
          121.528652676866,
          121.494687044102,
          121.551065568013,
          121.474397914293,
          121.52104717819,
          121.533403748726,
          121.501294404301,
          121.501103930543,
          121.533671601927,
          121.531647881162,
          121.545843844792,
          121.549018034314,
          121.494506030188,
          121.483165821044,
          121.478398589248,
          121.523703175925,
          121.545300415406,
          121.498544870836,
          121.524680608547,
          121.543213074152,
          121.476301176886,
          121.473987127207,
          121.530267546534,
          121.561402482183,
          121.507498337799,
          121.509261939186,
          121.534930131918,
          121.51565550459,
          121.56048215393,
          121.521014496693,
          121.528879041694,
          121.550223610758,
          121.533122465437,
          121.485672893099,
          121.498134185302,
          121.528352548265,
          121.510519119633,
          121.519100587716,
          121.559298258784,
          121.476071144427,
          121.515875003408,
          121.497324067565,
          121.544376640597,
          121.479859804846,
          121.478668509483,
          121.539496839072,
          121.490214516803,
          121.495974305129,
          121.549074624242,
          121.473887978837,
          121.503169016925,
          121.516642822805,
          121.524813767173,
          121.536916810635,
          121.505191927671,
          121.549169761689,
          121.539823807733,
          121.545940327481,
          121.493819964154,
          121.513937991554,
          121.523598981335,
          121.511162857079,
          121.506620103232,
          121.474472696787,
          121.519414479522,
          121.518772144879,
          121.486034319976,
          121.510587545117,
          121.507848626077,
          121.53815376669,
          121.534473266153,
          121.536199537917,
          121.555066317953,
          121.48300656377,
          121.507861907042,
          121.504750005664,
          121.487939123867,
          121.524683120688,
          121.545250944333,
          121.549660264651,
          121.515115248177,
          121.537601355358,
          121.487138930842,
          121.487708741278,
          121.494621986352,
          121.51100823294,
          121.506569178382,
          121.511228204485,
          121.545901513722,
          121.513391824543,
          121.528411130979,
          121.499466920685,
          121.552396575431,
          121.542509483252,
          121.48261130064,
          121.53244901096,
          121.563923958209,
          121.52503644977,
          121.491753117454,
          121.507313751459,
          121.490972633018,
          121.543209867701,
          121.489200839286,
          121.510372638243,
          121.543777845948,
          121.506975266459,
          121.503063097756,
          121.552742666566,
          121.496493822971,
          121.502245444152,
          121.525458582991,
          121.540103656358,
          121.553908034284,
          121.545242323504,
          121.502963241369,
          121.534382133383,
          121.484368259356,
          121.515622851935,
          121.543205374459,
          121.529324764011,
          121.485552033909,
          121.503670400794,
          121.509084791298,
          121.564449984848,
          121.548825884072,
          121.564475382211,
          121.49103763487,
          121.528440260775,
          121.506590408451,
          121.531078283658,
          121.560382599973,
          121.522618229086,
          121.493785657031,
          121.504131685618,
          121.56122828887,
          121.521305284315,
          121.552233651822,
          121.492879229081,
          121.53647214109,
          121.54357092445,
          121.530284075767,
          121.515432839607,
          121.494502511349,
          121.564196423579,
          121.527413663304,
          121.495309583988,
          121.474264456462,
          121.476121739881,
          121.496742624,
          121.502779009311,
          121.516105680091,
          121.535324553816,
          121.552867564015,
          121.519061259634,
          121.524255372031,
          121.507486454721,
          121.482672115367,
          121.483100131023,
          121.516721944712,
          121.561186917581,
          121.495368644815,
          121.512572179977,
          121.552253256287,
          121.550603114789,
          121.552082388495,
          121.478116610574,
          121.50855610041,
          121.486778470364,
          121.561198968459,
          121.528104940535,
          121.474911826696,
          121.508812902902,
          121.477151242889,
          121.520808721234,
          121.509664266042,
          121.485262731094,
          121.564698961553,
          121.548520317988,
          121.545850767427,
          121.538224533852,
          121.551772713548,
          121.559959311858,
          121.526692903371,
          121.498883575271,
          121.483754359364,
          121.484982947199,
          121.478816073007,
          121.518166444311,
          121.493146177628,
          121.556824877912,
          121.540408307643,
          121.528355192064,
          121.533266493756,
          121.524611125852,
          121.52125486738,
          121.524174327897,
          121.55152355424,
          121.556140863518,
          121.484718735725,
          121.484393738707,
          121.497750917334,
          121.544501172959,
          121.543042044793,
          121.477165621372,
          121.55020711677,
          121.523796689448,
          121.560542727109,
          121.477584192181,
          121.525655937544,
          121.564848147613,
          121.479863471145,
          121.558447103774,
          121.53456452795,
          121.546822859116,
          121.476566111867,
          121.529341170778,
          121.524749133506,
          121.539420209174,
          121.541579149296,
          121.543648274117,
          121.47472423727,
          121.533511954901,
          121.530024637999,
          121.535447464416,
          121.549554265332,
          121.539034817522,
          121.563625058176,
          121.515559603617,
          121.510362586434,
          121.473970283551,
          121.519666281267,
          121.522043115123,
          121.489976247466,
          121.489833971997,
          121.507956291454,
          121.518503522438,
          121.563177276272,
          121.513086163396,
          121.56292282093,
          121.481339403252,
          121.550870115034,
          121.48395314959,
          121.564081577135,
          121.520479180344,
          121.531978162833,
          121.565099930514,
          121.563366131545,
          121.497469968824,
          121.478951940109,
          121.4878066551,
          121.527141193798,
          121.552600991752,
          121.561809241116,
          121.558400528992,
          121.520063932535,
          121.494621291426,
          121.513020319336,
          121.501910555157,
          121.53126672641,
          121.479233384353,
          121.498814212177,
          121.509632483318,
          121.482086595594,
          121.552603275942,
          121.562783717047,
          121.505381905749,
          121.538104013127,
          121.527787155457,
          121.551770874902,
          121.477766092588,
          121.496022419187,
          121.52386766242,
          121.523027482296,
          121.561963453562,
          121.487579837357,
          121.53085009973,
          121.534004989952,
          121.529881676725,
          121.56173522273,
          121.477360750611,
          121.495845454963,
          121.565320793587,
          121.515122231269,
          121.477241183493,
          121.518072604473,
          121.502265721715,
          121.537177546155,
          121.559418202761,
          121.50239502806,
          121.562201462995,
          121.497300202701,
          121.535022326804,
          121.555067688156,
          121.494277585657,
          121.474436766985,
          121.55921570236,
          121.513896583618,
          121.502422982451,
          121.546216263273,
          121.511783533227,
          121.529006374348,
          121.532228746278,
          121.500346083886,
          121.543774757573,
          121.556559417032,
          121.516533045255,
          121.482693252662,
          121.506904716937,
          121.548073640757,
          121.514014013632,
          121.509891494595,
          121.507963876976,
          121.520437765203,
          121.507043569549,
          121.496772631322,
          121.486921453747,
          121.545535288441,
          121.531196654236,
          121.549828171103,
          121.563499937105,
          121.497146112557,
          121.529822175827,
          121.550386819165,
          121.512691890418,
          121.554129153937,
          121.507760235716,
          121.536717070371,
          121.546937185183,
          121.496262062211,
          121.557961381823,
          121.565026705774,
          121.508507909253,
          121.552804084575,
          121.546558262183,
          121.51013670466,
          121.528018316543,
          121.522239209861,
          121.523511704094,
          121.516353058377,
          121.548609185381,
          121.486797516517,
          121.483918243561,
          121.543387393163,
          121.558285927155,
          121.526395420643
         ],
         "y": [
          25.0070586835347,
          25.0121482576502,
          25.0038498628365,
          24.9628870027666,
          25.0110368202032,
          24.9949935390321,
          25.0098948639372,
          24.9971093438101,
          24.9876216824302,
          24.9786630373686,
          24.9348959724228,
          24.9930941813379,
          24.9697939870061,
          25.0116614324946,
          24.9371970340718,
          24.9754686411264,
          24.9575404413999,
          24.9602904534975,
          24.9721577932031,
          24.943551278651,
          24.9605818323504,
          24.9570635077195,
          24.9527990336156,
          24.9485640217219,
          24.9877757753084,
          24.9707858958776,
          24.9944441888194,
          24.9380463341762,
          24.9948082321329,
          24.984199412755,
          24.9908770084506,
          24.9970650957123,
          24.9947747398421,
          24.9446364018986,
          24.9643233025962,
          24.9822111412461,
          24.9482972516287,
          24.9540764486134,
          24.9829799309004,
          24.9625975061915,
          24.9599486283398,
          24.9689190369041,
          25.013381894155,
          24.9743458261431,
          24.9489349220054,
          24.9936867034697,
          24.9438768313581,
          24.9346755358333,
          24.9366895883555,
          24.9858290618558,
          24.9978593940214,
          24.9641017127301,
          24.983603531753,
          24.9851467630134,
          24.9483016712827,
          24.956711599438,
          24.9466707162414,
          24.9368124766351,
          24.9675730316466,
          24.9971795449205,
          24.9708538799592,
          24.9382525174361,
          24.9745234424819,
          24.9963868085687,
          24.9738457674107,
          24.9938752540809,
          24.9601138476602,
          24.9856280870984,
          25.0061821171755,
          24.9697704997973,
          24.9893713836927,
          24.9328436396641,
          24.9355866667961,
          24.9732089884383,
          24.9859154838673,
          24.9407653394523,
          25.0127401505021,
          25.0136849317044,
          25.008342583011,
          25.0128285680263,
          24.9675656165918,
          24.9332897220076,
          24.9422856203814,
          24.9796557129581,
          24.9321270671504,
          24.9444066188135,
          24.9588107975457,
          24.9990150843913,
          25.0064211728668,
          24.9321291635048,
          24.9833473165435,
          24.9871284372743,
          24.9709078196502,
          24.9965585974719,
          25.0088489503057,
          24.938802072686,
          24.9357394864412,
          24.9632958460854,
          24.9838381852884,
          25.0056201914949,
          24.9712575001039,
          24.9482747944162,
          25.0088859730452,
          24.9386951046129,
          25.0051659139294,
          24.9450488628086,
          25.0140030095153,
          24.9746169198454,
          24.9967057857405,
          24.9768239339952,
          24.9816590478066,
          24.9442821146573,
          24.9914405919857,
          24.9697868243887,
          24.9920497469549,
          25.0003182508366,
          24.9823689698026,
          24.9540145838766,
          24.9716655871468,
          24.9424433657278,
          24.9460930350282,
          24.9321621075599,
          24.9951044470995,
          24.9381413216714,
          24.989952890821,
          24.9845418096922,
          24.9713497806031,
          25.0093784235421,
          25.0145779378903,
          24.9524031196434,
          24.9350062103266,
          25.0081611872601,
          24.9645961553053,
          24.9424519368806,
          24.9795304656241,
          24.9415406027682,
          24.9401288745801,
          24.9709539822217,
          24.9701042431144,
          24.9779246342823,
          24.9521969416284,
          24.9934261963371,
          24.9718202282814,
          24.9942146782477,
          24.9557306170421,
          24.9790927192513,
          24.9744180027889,
          24.9957450834024,
          24.9697297560591,
          24.9647672694358,
          24.9513556241635,
          24.9962192209167,
          24.9490277879196,
          24.9885796263289,
          25.0080758377221,
          24.9923098066879,
          24.9752580533036,
          25.0123698651947,
          24.9639671531933,
          25.006474193976,
          24.9991772070207,
          24.9718964442216,
          24.9952664962135,
          25.003556381245,
          24.955764922707,
          24.9339128004795,
          24.9401483777982,
          24.9863846018072,
          24.9957264003105,
          24.9546838279735,
          24.9843582413234,
          24.9447436289283,
          24.9328047579623,
          24.9614834196357,
          24.9525034203157,
          24.9351862932981,
          24.9418842911422,
          24.9540983675674,
          24.9873938924939,
          24.9557081465153,
          24.960983936636,
          24.987028751966,
          25.0113661118635,
          25.0111361845199,
          24.9919230952376,
          24.9519322324496,
          24.9439139774923,
          24.9613498397635,
          24.9854784270977,
          24.9524175384487,
          24.9774838696277,
          25.0051924586141,
          24.9337320563806,
          24.9913291831649,
          24.9587541192724,
          24.9956926467688,
          24.9708204133524,
          25.0000120786306,
          24.9734506635597,
          24.9897957038786,
          24.9919616718381,
          24.985067125269,
          24.9370948264546,
          25.0044110266218,
          24.9575537528323,
          24.9654429298803,
          24.9439676549041,
          24.994433498215,
          24.9739048117036,
          24.9776573776306,
          24.9838692004649,
          24.9581191644433,
          24.9598859292486,
          24.9751776327836,
          25.0122266103905,
          24.9776743371829,
          25.0021065008066,
          24.9486524403354,
          24.9620432413373,
          24.966716653172,
          24.9808391387239,
          25.0033120013404,
          24.9911231444723,
          25.0061888251179,
          25.0052951998831,
          24.995700503196,
          24.9644799395326,
          24.9976161042729,
          24.985405084478,
          24.9524336587173,
          24.9877448261161,
          24.9502924199248,
          24.9599849804594,
          24.9959123442901,
          24.9864180078886,
          25.0035701694063,
          24.9745368454271,
          24.9570944227429,
          24.9733317661212,
          24.9736146344216,
          24.9348008924763,
          24.9467527574116,
          24.9756669657871,
          25.0114411405546,
          24.9939353632242,
          24.9578584068533,
          24.994743122765,
          25.0086064579176,
          24.9747428563129,
          24.9623119243281,
          24.9636208454535,
          25.0143045523001,
          24.9370488725631,
          24.9957128222874,
          25.0060951834041,
          24.9320749981209,
          24.9390163753487,
          24.9680390658577,
          24.9773930586236,
          24.9854777574087,
          24.9982803968323,
          25.0088227408338,
          24.9628586975459,
          25.0086451241829,
          24.9723231958361,
          24.9717143760364,
          24.9743605407924,
          24.939245555155,
          24.9503713722857,
          25.0067043688249,
          24.9508149619698,
          24.9997360458752,
          24.9812175625249,
          24.9335362713515,
          24.9405192187774,
          24.9893989632247,
          25.0105428775829,
          24.9489875418455,
          24.9790821425828,
          24.9603678239416,
          24.9510748168739,
          24.9357776055335,
          24.981883150261,
          24.9803144755511,
          24.9927832718674,
          24.9753100244608,
          25.0008044905366,
          24.9797181375502,
          24.9702808901296,
          24.9759042215307,
          24.9958272390794,
          24.9702423275785,
          24.9448102297685,
          24.9574289377502,
          24.9417654062649,
          25.0135478096352,
          24.9974851194064,
          24.9569340124719,
          25.0065838151637,
          24.9957801288854,
          24.9425572274768,
          24.9512407575562,
          24.9741568669919,
          24.932508597126,
          25.0103355249416,
          25.0021572343702,
          24.9759975103728,
          24.941949744065,
          24.9684487356731,
          24.9852811206135,
          24.9446742980789,
          24.9671288397822,
          24.9854184034903,
          24.976781184348,
          24.944071345993,
          24.9550376931561,
          24.9827126996437,
          25.011612100037,
          24.9654611667936,
          24.9982688459685,
          24.9421989021382,
          24.996894001276,
          24.9404353857674,
          24.9914003204642,
          24.9529118331392,
          25.008985211766,
          25.0084829729508,
          24.9551072521451,
          25.0030670774162,
          24.9525157602244,
          25.0015849978515,
          24.9454754342949,
          24.9962905073478,
          24.9353066242189,
          24.9928860217916,
          24.969850559053,
          24.9474960577189,
          25.0126723965502,
          24.9546538713376,
          24.9847045814806,
          24.9408836592938,
          24.9852126274966,
          24.9634767306023,
          24.9777295738846,
          24.9977184053681,
          24.9331953869432,
          24.9901612390219,
          24.9535737427587,
          24.9580656237577,
          24.9791413398419,
          24.9538013548986,
          24.9882755963917,
          25.0132721804746,
          25.0092081445986,
          24.9447887953639,
          24.9373368691988,
          24.9449512296973,
          24.9618685065608,
          24.9888098684987,
          24.9730476037149,
          24.9817234025616,
          25.007753380337,
          25.0070425820581,
          24.9907924282586,
          24.9536003801197,
          24.9832368214509,
          24.9395892581707,
          24.9348568297238,
          24.9888819609943,
          25.000031156713,
          24.99605822381,
          24.9571083226827,
          25.003014469972,
          25.0080335865763,
          24.9539343447117,
          24.9584285110504,
          24.9520836791151,
          24.9728010966159,
          24.9503341311035,
          24.9431630036146,
          25.0129734164791,
          24.9495066046057,
          24.9343044956591,
          24.9443634062458,
          25.010085971764,
          24.9875968137397,
          24.9983115811737,
          25.0021610820279,
          24.9633996643667,
          24.9896684500062,
          24.9863104794201,
          24.9498909829006,
          24.985164945119,
          24.9676570243609,
          24.9508738912962,
          24.9689347167273,
          25.0018064970458,
          24.9973940316607,
          24.9977655838095,
          25.010412003858,
          24.9445623439068,
          25.0041091820448,
          24.9480836734751,
          24.9389089417623,
          25.002052156587,
          24.9383291495903,
          24.9398844155088,
          24.9351673345662,
          24.9374435770296,
          24.9811856914186,
          24.9500699236124,
          24.9639011877274,
          24.9978626071598,
          24.952904088349
         ],
         "z": [
          13.3,
          35.5,
          1.1,
          22.2,
          8.5,
          13.3,
          38.5,
          15.2,
          24,
          13,
          13.2,
          6.5,
          27.5,
          12.9,
          8,
          4.9,
          3.1,
          10.3,
          1.1,
          13.7,
          8.4,
          31.3,
          17.3,
          14.1,
          1.5,
          16.1,
          34.4,
          18.2,
          11.9,
          5.4,
          9.7,
          38.5,
          32.8,
          31,
          34.8,
          9.9,
          5.9,
          37.1,
          26.8,
          30.4,
          4,
          5.4,
          25.3,
          16.4,
          26.4,
          8,
          19.2,
          30.3,
          12.9,
          13.5,
          13.2,
          8.1,
          32.3,
          38,
          13,
          34.4,
          34.4,
          24.2,
          13.2,
          16.1,
          5.6,
          14.2,
          3.8,
          38.2,
          25.3,
          15.6,
          26.8,
          0,
          18.9,
          16.6,
          7.6,
          12,
          6.6,
          37.1,
          25.3,
          11.6,
          25.9,
          29.4,
          17.5,
          32.6,
          24.2,
          16.3,
          16.1,
          0,
          31.3,
          39.2,
          0,
          18.4,
          33,
          13,
          17.7,
          13.3,
          11.6,
          35.9,
          5.6,
          16.2,
          11.6,
          0,
          35.4,
          37.7,
          40.9,
          17.3,
          34.9,
          32,
          13.7,
          12.7,
          4.5,
          33.6,
          12.7,
          12,
          39.8,
          13.5,
          6.8,
          18.3,
          13.3,
          38,
          17,
          15.1,
          34.8,
          13.3,
          34.5,
          37.8,
          32.6,
          5.3,
          4.3,
          4,
          14,
          28.2,
          6.5,
          35.3,
          32.1,
          15.7,
          6.4,
          32.7,
          17.5,
          14,
          20.6,
          25.6,
          13.2,
          17.5,
          12.6,
          20.4,
          0,
          33.4,
          30,
          31,
          17.7,
          10.4,
          16.9,
          16.2,
          23,
          1.1,
          4.5,
          12,
          32.5,
          17.4,
          16.1,
          31,
          0,
          16.6,
          30.9,
          35.8,
          39.2,
          30.6,
          3.8,
          30.9,
          33.9,
          15.9,
          24.2,
          15,
          17.8,
          15.2,
          0,
          39.8,
          18.2,
          1.5,
          15.5,
          0,
          18.1,
          11.5,
          13.9,
          8.9,
          40.9,
          30.6,
          17.9,
          27.5,
          22.2,
          13.9,
          36.6,
          26.9,
          3.8,
          18,
          13.3,
          30.4,
          35.9,
          17.4,
          18.1,
          8.1,
          16.9,
          31.9,
          34,
          17.2,
          4.1,
          37.7,
          3.5,
          18.2,
          3.8,
          10.3,
          7.1,
          17.5,
          12.8,
          12.2,
          6.5,
          14.8,
          34.8,
          41.3,
          32.5,
          3.9,
          1.1,
          8,
          13.7,
          17.2,
          2.6,
          23,
          17.5,
          18.9,
          32.3,
          40.9,
          0,
          4.7,
          8.9,
          10,
          28,
          4,
          19.2,
          34.6,
          17.3,
          24.2,
          11.5,
          3.1,
          12.5,
          39.7,
          26.9,
          28.6,
          35.5,
          37.1,
          18.1,
          20.6,
          15.9,
          14.4,
          5.4,
          36.1,
          7.8,
          16.9,
          34.8,
          2,
          34.5,
          16.2,
          0,
          8.3,
          10,
          4,
          37.3,
          40.9,
          2,
          0,
          0,
          12.7,
          2.6,
          6.8,
          30.4,
          7.1,
          30.8,
          19.1,
          19.2,
          5.2,
          21.7,
          1.1,
          34.9,
          20.9,
          30.9,
          5.9,
          10.4,
          20.4,
          6.8,
          33.2,
          16.3,
          16.2,
          16.1,
          5.6,
          28,
          13.8,
          14.1,
          40.9,
          40.9,
          17,
          29.3,
          31.5,
          1.1,
          0,
          16.2,
          16.5,
          15,
          13.5,
          4,
          35.8,
          30.9,
          12.6,
          0,
          8.5,
          18.4,
          3.6,
          1.1,
          13.6,
          16.9,
          9.9,
          13.1,
          13.7,
          37.8,
          0,
          16.9,
          17.3,
          6.3,
          18,
          17.1,
          13.7,
          16.4,
          37.1,
          4,
          31.5,
          42.7,
          1.1,
          18.2,
          17.5,
          40.9,
          2.1,
          13.6,
          18.5,
          32,
          0,
          6.2,
          21.2,
          13,
          20.3,
          30.1,
          3.6,
          16.6,
          16.5,
          20,
          16.4,
          18,
          6.4,
          2,
          30.9,
          32.6,
          11.8,
          31.9,
          16,
          15.2,
          13.6,
          29.1,
          6.2,
          17.9,
          30.9,
          35.3,
          0,
          16.1,
          13,
          13.7,
          30.7,
          39.8,
          25.3,
          40.1,
          5.6,
          30.6,
          6.3,
          0,
          10.5,
          25.3,
          16.2,
          35.9,
          32,
          17.8,
          4.6,
          24.2,
          0,
          15.9,
          7.1,
          17.5,
          40.9,
          7.1,
          0,
          33.5,
          13.6,
          0,
          28.2,
          31.5,
          34.4,
          13.3,
          35.9,
          31.5,
          11.8,
          21.7,
          32.8,
          13.8,
          21.7,
          16.6,
          20.6,
          15.1,
          18.3,
          11.9,
          0,
          35.9,
          12
         ]
        }
       ],
       "layout": {
        "coloraxis": {
         "colorbar": {
          "title": {
           "text": "House price of unit area"
          }
         },
         "colorscale": [
          [
           0,
           "rgb(150,0,90)"
          ],
          [
           0.125,
           "rgb(0,0,200)"
          ],
          [
           0.25,
           "rgb(0,25,255)"
          ],
          [
           0.375,
           "rgb(0,152,255)"
          ],
          [
           0.5,
           "rgb(44,255,150)"
          ],
          [
           0.625,
           "rgb(151,255,0)"
          ],
          [
           0.75,
           "rgb(255,234,0)"
          ],
          [
           0.875,
           "rgb(255,111,0)"
          ],
          [
           1,
           "rgb(255,0,0)"
          ]
         ]
        },
        "legend": {
         "tracegroupgap": 0
        },
        "margin": {
         "b": 0,
         "l": 0,
         "r": 0,
         "t": 0
        },
        "scene": {
         "domain": {
          "x": [
           0,
           1
          ],
          "y": [
           0,
           1
          ]
         },
         "xaxis": {
          "title": {
           "text": "Longitude"
          }
         },
         "yaxis": {
          "title": {
           "text": "Latitude"
          }
         },
         "zaxis": {
          "title": {
           "text": "House age"
          }
         }
        },
        "template": {
         "data": {
          "bar": [
           {
            "error_x": {
             "color": "#2a3f5f"
            },
            "error_y": {
             "color": "#2a3f5f"
            },
            "marker": {
             "line": {
              "color": "#E5ECF6",
              "width": 0.5
             },
             "pattern": {
              "fillmode": "overlay",
              "size": 10,
              "solidity": 0.2
             }
            },
            "type": "bar"
           }
          ],
          "barpolar": [
           {
            "marker": {
             "line": {
              "color": "#E5ECF6",
              "width": 0.5
             },
             "pattern": {
              "fillmode": "overlay",
              "size": 10,
              "solidity": 0.2
             }
            },
            "type": "barpolar"
           }
          ],
          "carpet": [
           {
            "aaxis": {
             "endlinecolor": "#2a3f5f",
             "gridcolor": "white",
             "linecolor": "white",
             "minorgridcolor": "white",
             "startlinecolor": "#2a3f5f"
            },
            "baxis": {
             "endlinecolor": "#2a3f5f",
             "gridcolor": "white",
             "linecolor": "white",
             "minorgridcolor": "white",
             "startlinecolor": "#2a3f5f"
            },
            "type": "carpet"
           }
          ],
          "choropleth": [
           {
            "colorbar": {
             "outlinewidth": 0,
             "ticks": ""
            },
            "type": "choropleth"
           }
          ],
          "contour": [
           {
            "colorbar": {
             "outlinewidth": 0,
             "ticks": ""
            },
            "colorscale": [
             [
              0,
              "#0d0887"
             ],
             [
              0.1111111111111111,
              "#46039f"
             ],
             [
              0.2222222222222222,
              "#7201a8"
             ],
             [
              0.3333333333333333,
              "#9c179e"
             ],
             [
              0.4444444444444444,
              "#bd3786"
             ],
             [
              0.5555555555555556,
              "#d8576b"
             ],
             [
              0.6666666666666666,
              "#ed7953"
             ],
             [
              0.7777777777777778,
              "#fb9f3a"
             ],
             [
              0.8888888888888888,
              "#fdca26"
             ],
             [
              1,
              "#f0f921"
             ]
            ],
            "type": "contour"
           }
          ],
          "contourcarpet": [
           {
            "colorbar": {
             "outlinewidth": 0,
             "ticks": ""
            },
            "type": "contourcarpet"
           }
          ],
          "heatmap": [
           {
            "colorbar": {
             "outlinewidth": 0,
             "ticks": ""
            },
            "colorscale": [
             [
              0,
              "#0d0887"
             ],
             [
              0.1111111111111111,
              "#46039f"
             ],
             [
              0.2222222222222222,
              "#7201a8"
             ],
             [
              0.3333333333333333,
              "#9c179e"
             ],
             [
              0.4444444444444444,
              "#bd3786"
             ],
             [
              0.5555555555555556,
              "#d8576b"
             ],
             [
              0.6666666666666666,
              "#ed7953"
             ],
             [
              0.7777777777777778,
              "#fb9f3a"
             ],
             [
              0.8888888888888888,
              "#fdca26"
             ],
             [
              1,
              "#f0f921"
             ]
            ],
            "type": "heatmap"
           }
          ],
          "heatmapgl": [
           {
            "colorbar": {
             "outlinewidth": 0,
             "ticks": ""
            },
            "colorscale": [
             [
              0,
              "#0d0887"
             ],
             [
              0.1111111111111111,
              "#46039f"
             ],
             [
              0.2222222222222222,
              "#7201a8"
             ],
             [
              0.3333333333333333,
              "#9c179e"
             ],
             [
              0.4444444444444444,
              "#bd3786"
             ],
             [
              0.5555555555555556,
              "#d8576b"
             ],
             [
              0.6666666666666666,
              "#ed7953"
             ],
             [
              0.7777777777777778,
              "#fb9f3a"
             ],
             [
              0.8888888888888888,
              "#fdca26"
             ],
             [
              1,
              "#f0f921"
             ]
            ],
            "type": "heatmapgl"
           }
          ],
          "histogram": [
           {
            "marker": {
             "pattern": {
              "fillmode": "overlay",
              "size": 10,
              "solidity": 0.2
             }
            },
            "type": "histogram"
           }
          ],
          "histogram2d": [
           {
            "colorbar": {
             "outlinewidth": 0,
             "ticks": ""
            },
            "colorscale": [
             [
              0,
              "#0d0887"
             ],
             [
              0.1111111111111111,
              "#46039f"
             ],
             [
              0.2222222222222222,
              "#7201a8"
             ],
             [
              0.3333333333333333,
              "#9c179e"
             ],
             [
              0.4444444444444444,
              "#bd3786"
             ],
             [
              0.5555555555555556,
              "#d8576b"
             ],
             [
              0.6666666666666666,
              "#ed7953"
             ],
             [
              0.7777777777777778,
              "#fb9f3a"
             ],
             [
              0.8888888888888888,
              "#fdca26"
             ],
             [
              1,
              "#f0f921"
             ]
            ],
            "type": "histogram2d"
           }
          ],
          "histogram2dcontour": [
           {
            "colorbar": {
             "outlinewidth": 0,
             "ticks": ""
            },
            "colorscale": [
             [
              0,
              "#0d0887"
             ],
             [
              0.1111111111111111,
              "#46039f"
             ],
             [
              0.2222222222222222,
              "#7201a8"
             ],
             [
              0.3333333333333333,
              "#9c179e"
             ],
             [
              0.4444444444444444,
              "#bd3786"
             ],
             [
              0.5555555555555556,
              "#d8576b"
             ],
             [
              0.6666666666666666,
              "#ed7953"
             ],
             [
              0.7777777777777778,
              "#fb9f3a"
             ],
             [
              0.8888888888888888,
              "#fdca26"
             ],
             [
              1,
              "#f0f921"
             ]
            ],
            "type": "histogram2dcontour"
           }
          ],
          "mesh3d": [
           {
            "colorbar": {
             "outlinewidth": 0,
             "ticks": ""
            },
            "type": "mesh3d"
           }
          ],
          "parcoords": [
           {
            "line": {
             "colorbar": {
              "outlinewidth": 0,
              "ticks": ""
             }
            },
            "type": "parcoords"
           }
          ],
          "pie": [
           {
            "automargin": true,
            "type": "pie"
           }
          ],
          "scatter": [
           {
            "fillpattern": {
             "fillmode": "overlay",
             "size": 10,
             "solidity": 0.2
            },
            "type": "scatter"
           }
          ],
          "scatter3d": [
           {
            "line": {
             "colorbar": {
              "outlinewidth": 0,
              "ticks": ""
             }
            },
            "marker": {
             "colorbar": {
              "outlinewidth": 0,
              "ticks": ""
             }
            },
            "type": "scatter3d"
           }
          ],
          "scattercarpet": [
           {
            "marker": {
             "colorbar": {
              "outlinewidth": 0,
              "ticks": ""
             }
            },
            "type": "scattercarpet"
           }
          ],
          "scattergeo": [
           {
            "marker": {
             "colorbar": {
              "outlinewidth": 0,
              "ticks": ""
             }
            },
            "type": "scattergeo"
           }
          ],
          "scattergl": [
           {
            "marker": {
             "colorbar": {
              "outlinewidth": 0,
              "ticks": ""
             }
            },
            "type": "scattergl"
           }
          ],
          "scattermapbox": [
           {
            "marker": {
             "colorbar": {
              "outlinewidth": 0,
              "ticks": ""
             }
            },
            "type": "scattermapbox"
           }
          ],
          "scatterpolar": [
           {
            "marker": {
             "colorbar": {
              "outlinewidth": 0,
              "ticks": ""
             }
            },
            "type": "scatterpolar"
           }
          ],
          "scatterpolargl": [
           {
            "marker": {
             "colorbar": {
              "outlinewidth": 0,
              "ticks": ""
             }
            },
            "type": "scatterpolargl"
           }
          ],
          "scatterternary": [
           {
            "marker": {
             "colorbar": {
              "outlinewidth": 0,
              "ticks": ""
             }
            },
            "type": "scatterternary"
           }
          ],
          "surface": [
           {
            "colorbar": {
             "outlinewidth": 0,
             "ticks": ""
            },
            "colorscale": [
             [
              0,
              "#0d0887"
             ],
             [
              0.1111111111111111,
              "#46039f"
             ],
             [
              0.2222222222222222,
              "#7201a8"
             ],
             [
              0.3333333333333333,
              "#9c179e"
             ],
             [
              0.4444444444444444,
              "#bd3786"
             ],
             [
              0.5555555555555556,
              "#d8576b"
             ],
             [
              0.6666666666666666,
              "#ed7953"
             ],
             [
              0.7777777777777778,
              "#fb9f3a"
             ],
             [
              0.8888888888888888,
              "#fdca26"
             ],
             [
              1,
              "#f0f921"
             ]
            ],
            "type": "surface"
           }
          ],
          "table": [
           {
            "cells": {
             "fill": {
              "color": "#EBF0F8"
             },
             "line": {
              "color": "white"
             }
            },
            "header": {
             "fill": {
              "color": "#C8D4E3"
             },
             "line": {
              "color": "white"
             }
            },
            "type": "table"
           }
          ]
         },
         "layout": {
          "annotationdefaults": {
           "arrowcolor": "#2a3f5f",
           "arrowhead": 0,
           "arrowwidth": 1
          },
          "autotypenumbers": "strict",
          "coloraxis": {
           "colorbar": {
            "outlinewidth": 0,
            "ticks": ""
           }
          },
          "colorscale": {
           "diverging": [
            [
             0,
             "#8e0152"
            ],
            [
             0.1,
             "#c51b7d"
            ],
            [
             0.2,
             "#de77ae"
            ],
            [
             0.3,
             "#f1b6da"
            ],
            [
             0.4,
             "#fde0ef"
            ],
            [
             0.5,
             "#f7f7f7"
            ],
            [
             0.6,
             "#e6f5d0"
            ],
            [
             0.7,
             "#b8e186"
            ],
            [
             0.8,
             "#7fbc41"
            ],
            [
             0.9,
             "#4d9221"
            ],
            [
             1,
             "#276419"
            ]
           ],
           "sequential": [
            [
             0,
             "#0d0887"
            ],
            [
             0.1111111111111111,
             "#46039f"
            ],
            [
             0.2222222222222222,
             "#7201a8"
            ],
            [
             0.3333333333333333,
             "#9c179e"
            ],
            [
             0.4444444444444444,
             "#bd3786"
            ],
            [
             0.5555555555555556,
             "#d8576b"
            ],
            [
             0.6666666666666666,
             "#ed7953"
            ],
            [
             0.7777777777777778,
             "#fb9f3a"
            ],
            [
             0.8888888888888888,
             "#fdca26"
            ],
            [
             1,
             "#f0f921"
            ]
           ],
           "sequentialminus": [
            [
             0,
             "#0d0887"
            ],
            [
             0.1111111111111111,
             "#46039f"
            ],
            [
             0.2222222222222222,
             "#7201a8"
            ],
            [
             0.3333333333333333,
             "#9c179e"
            ],
            [
             0.4444444444444444,
             "#bd3786"
            ],
            [
             0.5555555555555556,
             "#d8576b"
            ],
            [
             0.6666666666666666,
             "#ed7953"
            ],
            [
             0.7777777777777778,
             "#fb9f3a"
            ],
            [
             0.8888888888888888,
             "#fdca26"
            ],
            [
             1,
             "#f0f921"
            ]
           ]
          },
          "colorway": [
           "#636efa",
           "#EF553B",
           "#00cc96",
           "#ab63fa",
           "#FFA15A",
           "#19d3f3",
           "#FF6692",
           "#B6E880",
           "#FF97FF",
           "#FECB52"
          ],
          "font": {
           "color": "#2a3f5f"
          },
          "geo": {
           "bgcolor": "white",
           "lakecolor": "white",
           "landcolor": "#E5ECF6",
           "showlakes": true,
           "showland": true,
           "subunitcolor": "white"
          },
          "hoverlabel": {
           "align": "left"
          },
          "hovermode": "closest",
          "mapbox": {
           "style": "light"
          },
          "paper_bgcolor": "white",
          "plot_bgcolor": "#E5ECF6",
          "polar": {
           "angularaxis": {
            "gridcolor": "white",
            "linecolor": "white",
            "ticks": ""
           },
           "bgcolor": "#E5ECF6",
           "radialaxis": {
            "gridcolor": "white",
            "linecolor": "white",
            "ticks": ""
           }
          },
          "scene": {
           "xaxis": {
            "backgroundcolor": "#E5ECF6",
            "gridcolor": "white",
            "gridwidth": 2,
            "linecolor": "white",
            "showbackground": true,
            "ticks": "",
            "zerolinecolor": "white"
           },
           "yaxis": {
            "backgroundcolor": "#E5ECF6",
            "gridcolor": "white",
            "gridwidth": 2,
            "linecolor": "white",
            "showbackground": true,
            "ticks": "",
            "zerolinecolor": "white"
           },
           "zaxis": {
            "backgroundcolor": "#E5ECF6",
            "gridcolor": "white",
            "gridwidth": 2,
            "linecolor": "white",
            "showbackground": true,
            "ticks": "",
            "zerolinecolor": "white"
           }
          },
          "shapedefaults": {
           "line": {
            "color": "#2a3f5f"
           }
          },
          "ternary": {
           "aaxis": {
            "gridcolor": "white",
            "linecolor": "white",
            "ticks": ""
           },
           "baxis": {
            "gridcolor": "white",
            "linecolor": "white",
            "ticks": ""
           },
           "bgcolor": "#E5ECF6",
           "caxis": {
            "gridcolor": "white",
            "linecolor": "white",
            "ticks": ""
           }
          },
          "title": {
           "x": 0.05
          },
          "xaxis": {
           "automargin": true,
           "gridcolor": "white",
           "linecolor": "white",
           "ticks": "",
           "title": {
            "standoff": 15
           },
           "zerolinecolor": "white",
           "zerolinewidth": 2
          },
          "yaxis": {
           "automargin": true,
           "gridcolor": "white",
           "linecolor": "white",
           "ticks": "",
           "title": {
            "standoff": 15
           },
           "zerolinecolor": "white",
           "zerolinewidth": 2
          }
         }
        }
       }
      },
      "text/html": [
       "<div>                            <div id=\"c6e454c0-f985-4a23-9c16-f7e1f9836c32\" class=\"plotly-graph-div\" style=\"height:525px; width:100%;\"></div>            <script type=\"text/javascript\">                require([\"plotly\"], function(Plotly) {                    window.PLOTLYENV=window.PLOTLYENV || {};                                    if (document.getElementById(\"c6e454c0-f985-4a23-9c16-f7e1f9836c32\")) {                    Plotly.newPlot(                        \"c6e454c0-f985-4a23-9c16-f7e1f9836c32\",                        [{\"customdata\":[[6.48867313986559],[24.9707246507222],[26.6942667687913],[38.091638492386],[21.6547095988987],[36.9723757859779],[27.6373820952976],[44.116585007819],[49.0712467463324],[43.1143527472704],[32.7473626562886],[60.4603515254385],[58.163304441213],[43.7711741944872],[40.2553334496816],[49.1570538157169],[13.673531591941],[0.0],[56.2513551836921],[16.4440169435875],[47.3555509944301],[8.46885474702285],[52.7611527463149],[50.612499525911],[12.5702764963421],[0.0],[22.9155983843477],[9.42627181268327],[25.8830227265785],[4.26637717701642],[27.2066452204632],[15.5643238958073],[30.855391370659],[34.0665001523509],[18.4102502610939],[1.10285236256836],[31.4309206817246],[47.0292119939599],[29.4844308653834],[19.5472046960457],[26.3393357636583],[51.4113855617689],[48.5498802754601],[10.3689336577519],[20.5877365390199],[34.2186557746786],[39.2826804303524],[13.0607381817319],[36.4262787024133],[0.0],[29.7696285245791],[43.0720686162193],[36.178357882540496],[22.2103012848071],[38.9063854881111],[31.5962845437786],[16.8987551643355],[0.0],[47.2560316776454],[26.5310213619608],[0.439332088658198],[10.600664945496],[33.6685003704386],[0.0],[39.7083059867501],[54.3307117240539],[37.5624449383898],[23.1001671257941],[0.0],[34.911914523897],[8.78426512709071],[25.6964629460552],[45.297460703197906],[38.6765504120982],[20.1689503142355],[33.0179165771809],[38.0129943344239],[29.7111902223534],[21.012629930315],[38.3036872846745],[27.6903517828425],[0.0],[28.191686132407],[29.9567983945007],[47.7434278350878],[19.1322445865892],[18.3910772686371],[42.1935753240341],[3.9573647193025505],[32.1269806754526],[32.4349249054702],[11.2492218447617],[33.2095551853767],[38.4026772860101],[41.2612876350864],[30.4712345505525],[17.5624559136366],[0.0],[47.3720425807714],[28.2813733535374],[41.585164260109],[25.5897105628787],[30.8509289635331],[50.918107271765],[57.8080366856824],[18.706074507494],[42.8291927812174],[38.3613258024193],[27.7437128877843],[23.6978947304444],[24.8715151875097],[9.21356696011434],[34.7905468051116],[59.3349377234529],[38.8312755709849],[46.8769909843533],[50.0252531407872],[21.7119052393642],[34.9428947789878],[39.0209329030769],[7.25505785370538],[42.7525897789564],[23.0459931069796],[35.4962298756878],[12.5270152292621],[24.9906447311249],[32.8842110639479],[12.0563720827898],[20.073417458673],[46.9401246127016],[13.3587254623293],[38.6284134340134],[4.46602738900302],[31.8607160059352],[40.7648097853779],[20.8266317080464],[1.9094602769652],[30.383836261416],[37.9707248404184],[28.082915932452],[17.3733897608188],[45.6651299462785],[28.9569385588896],[10.4361777478419],[17.0090823321316],[36.3260482916118],[7.4680339183557],[34.180725456544],[47.2549294243721],[8.40412306626602],[39.8301588877198],[27.5314588599267],[44.7197269269384],[32.154001369738],[12.7423741305414],[44.807935631103],[23.5774016324822],[3.39830476234454],[40.506989705687694],[43.6616325867157],[7.60804222209894],[29.0967787633323],[45.3484542227931],[48.4698804985615],[39.5530021434955],[31.8123335272741],[39.8442193233348],[50.7686874512217],[59.2537044385582],[32.9683526527909],[22.5160355518706],[35.4634547473561],[65.571716063673],[22.5686885989691],[33.9458354794802],[32.297726133443],[13.7948084711636],[35.2522009872236],[26.8670498796448],[26.7221809960102],[58.8151621881851],[17.3475390956882],[15.4668472653615],[17.8779667993576],[33.8189554293647],[26.7593050070151],[12.2342046220592],[13.8489372714707],[38.9882696901933],[28.7288933601618],[37.2417055596418],[49.4898085706729],[0.3651756182866],[56.9215909769067],[26.7823692442816],[50.3001549462645],[56.5033170169921],[41.4221676023817],[12.4481775253282],[26.7026337361698],[0.0],[48.5670659498596],[14.6268037363223],[0.0],[23.3723944184189],[32.7927237027884],[45.4858382120226],[36.553051123972],[28.6019458869358],[37.1663224362726],[47.961563123228],[26.9891040059551],[46.4690681887091],[19.233451582632],[45.8099375172339],[50.6280123985009],[35.3033430577859],[49.5873159023896],[22.4409728378083],[24.133155042721],[27.6408629955206],[0.0],[45.109443190191],[40.6512485185873],[42.7979251885638],[0.0],[0.5660486769317],[11.9655154990265],[5.96287468148774],[0.0],[43.574531040512],[4.84324481688222],[20.0560838286234],[52.8640473047998],[26.4849809509631],[35.1316190791237],[26.205318117002],[43.9293855630677],[16.0679269016274],[12.3008706880704],[18.5279760588054],[5.97849909623054],[33.2494423289882],[45.3326128573898],[54.9163380791104],[16.3446753663684],[38.5684202657223],[40.7521808177549],[46.5400325697874],[22.7586928629085],[24.7435895628454],[32.9575837686035],[29.8620412283299],[46.2585606704355],[45.475587813629],[11.872224410856],[47.5849597537306],[34.6507037895075],[0.0],[13.6939914971538],[4.22615575338024],[40.4365207063351],[6.3326304554134],[29.8950977756843],[19.5926355781034],[23.8178841246938],[36.9082930427954],[63.9940027454355],[39.7401778088903],[41.401766777240894],[11.2778173047754],[59.0363953028228],[41.0084370288886],[9.61707773515257],[48.7410395117726],[3.11389582664442],[0.0],[40.482274894247],[32.4113338264792],[31.2793466113295],[21.1553438468556],[41.7851707863072],[44.2954449888735],[15.5932474149352],[47.9304560833418],[21.1794740139892],[0.0],[6.98726873897372],[33.3560108995825],[30.2249970934367],[37.675401197387],[36.9428262116587],[11.0607899711568],[0.0],[20.7270436162766],[36.5067406091876],[33.0559040012652],[46.266096790151],[25.9641936163836],[18.459220609326],[44.4321918986997],[29.3810537408604],[46.6255297334849],[36.495211863858],[33.1699385706416],[49.1765940075218],[28.3945147472139],[52.3534548460544],[32.4196762729694],[25.9884182610238],[36.3776852530246],[57.7557780247682],[40.7916612012704],[59.114262832405],[45.886920378651],[37.0722826779683],[33.9007579488387],[0.0],[39.5293439300248],[37.9550163560851],[30.4043037155612],[22.7951353911263],[0.0],[39.5296696208105],[0.0],[47.166778132843],[0.0],[12.7626055380114],[41.1150510492066],[43.6169405197563],[20.3099660453743],[14.4071779954766],[57.0231444256266],[21.22293982678],[28.1088504691166],[26.2454136101186],[0.0],[35.4314730684749],[28.7261105263712],[42.0837951763307],[13.3972605596853],[32.007813213726],[35.9908999443559],[39.5457564076197],[24.0390307550797],[0.0],[0.0],[41.4301553845597],[29.7264008378413],[34.3322499814999],[31.7436622312802],[0.0],[33.4417429048353],[19.598395358148],[14.5985688092336],[21.1825746496673],[0.0],[19.2173606023532],[35.7626667164776],[27.7908378628159],[21.830258280153],[54.390696223935905],[0.0],[8.1122919460697],[48.1397701053448],[34.6658829855395],[29.3646171636934],[22.491469816738],[29.9902989248985],[39.41648221751],[47.6657760794871],[38.8551796088733],[19.2851378531669],[27.7868942708045],[44.4809265431086],[15.4729220983442],[44.1291400687892],[13.2708751408425],[27.6210972084825],[17.345889711584],[31.0273905436744],[27.6783525226046],[9.78540164028739],[49.9874088389496],[52.5409254821222],[0.0],[23.0416367079746],[21.8993429542516],[0.0],[40.0970716764354],[16.6927425951147],[43.7833266054162],[34.4740943895646],[24.0375922133836],[28.885856279251],[36.3156345036445],[27.0316430077298],[57.9379897287637],[0.0],[54.8316637803282],[1.44333771285665],[31.3584707055162],[41.4091878331851],[0.0],[44.3506230095309],[37.5129928203672],[31.6923358646679],[43.5889209839506],[29.7210526152784],[29.0963099512455],[33.8713465140675],[25.255105124997],[25.2856203048742],[37.5805538298686]],\"hovertemplate\":\"Longitude=%{x}\\u003cbr\\u003eLatitude=%{y}\\u003cbr\\u003eHouse age=%{z}\\u003cbr\\u003eHouse price of unit area=%{marker.color}\\u003cextra\\u003e\\u003c\\u002fextra\\u003e\",\"legendgroup\":\"\",\"marker\":{\"color\":[6.48867313986559,24.9707246507222,26.6942667687913,38.091638492386,21.6547095988987,36.9723757859779,27.6373820952976,44.116585007819,49.0712467463324,43.1143527472704,32.7473626562886,60.4603515254385,58.163304441213,43.7711741944872,40.2553334496816,49.1570538157169,13.673531591941,0.0,56.2513551836921,16.4440169435875,47.3555509944301,8.46885474702285,52.7611527463149,50.612499525911,12.5702764963421,0.0,22.9155983843477,9.42627181268327,25.8830227265785,4.26637717701642,27.2066452204632,15.5643238958073,30.855391370659,34.0665001523509,18.4102502610939,1.10285236256836,31.4309206817246,47.0292119939599,29.4844308653834,19.5472046960457,26.3393357636583,51.4113855617689,48.5498802754601,10.3689336577519,20.5877365390199,34.2186557746786,39.2826804303524,13.0607381817319,36.4262787024133,0.0,29.7696285245791,43.0720686162193,36.178357882540496,22.2103012848071,38.9063854881111,31.5962845437786,16.8987551643355,0.0,47.2560316776454,26.5310213619608,0.439332088658198,10.600664945496,33.6685003704386,0.0,39.7083059867501,54.3307117240539,37.5624449383898,23.1001671257941,0.0,34.911914523897,8.78426512709071,25.6964629460552,45.297460703197906,38.6765504120982,20.1689503142355,33.0179165771809,38.0129943344239,29.7111902223534,21.012629930315,38.3036872846745,27.6903517828425,0.0,28.191686132407,29.9567983945007,47.7434278350878,19.1322445865892,18.3910772686371,42.1935753240341,3.9573647193025505,32.1269806754526,32.4349249054702,11.2492218447617,33.2095551853767,38.4026772860101,41.2612876350864,30.4712345505525,17.5624559136366,0.0,47.3720425807714,28.2813733535374,41.585164260109,25.5897105628787,30.8509289635331,50.918107271765,57.8080366856824,18.706074507494,42.8291927812174,38.3613258024193,27.7437128877843,23.6978947304444,24.8715151875097,9.21356696011434,34.7905468051116,59.3349377234529,38.8312755709849,46.8769909843533,50.0252531407872,21.7119052393642,34.9428947789878,39.0209329030769,7.25505785370538,42.7525897789564,23.0459931069796,35.4962298756878,12.5270152292621,24.9906447311249,32.8842110639479,12.0563720827898,20.073417458673,46.9401246127016,13.3587254623293,38.6284134340134,4.46602738900302,31.8607160059352,40.7648097853779,20.8266317080464,1.9094602769652,30.383836261416,37.9707248404184,28.082915932452,17.3733897608188,45.6651299462785,28.9569385588896,10.4361777478419,17.0090823321316,36.3260482916118,7.4680339183557,34.180725456544,47.2549294243721,8.40412306626602,39.8301588877198,27.5314588599267,44.7197269269384,32.154001369738,12.7423741305414,44.807935631103,23.5774016324822,3.39830476234454,40.506989705687694,43.6616325867157,7.60804222209894,29.0967787633323,45.3484542227931,48.4698804985615,39.5530021434955,31.8123335272741,39.8442193233348,50.7686874512217,59.2537044385582,32.9683526527909,22.5160355518706,35.4634547473561,65.571716063673,22.5686885989691,33.9458354794802,32.297726133443,13.7948084711636,35.2522009872236,26.8670498796448,26.7221809960102,58.8151621881851,17.3475390956882,15.4668472653615,17.8779667993576,33.8189554293647,26.7593050070151,12.2342046220592,13.8489372714707,38.9882696901933,28.7288933601618,37.2417055596418,49.4898085706729,0.3651756182866,56.9215909769067,26.7823692442816,50.3001549462645,56.5033170169921,41.4221676023817,12.4481775253282,26.7026337361698,0.0,48.5670659498596,14.6268037363223,0.0,23.3723944184189,32.7927237027884,45.4858382120226,36.553051123972,28.6019458869358,37.1663224362726,47.961563123228,26.9891040059551,46.4690681887091,19.233451582632,45.8099375172339,50.6280123985009,35.3033430577859,49.5873159023896,22.4409728378083,24.133155042721,27.6408629955206,0.0,45.109443190191,40.6512485185873,42.7979251885638,0.0,0.5660486769317,11.9655154990265,5.96287468148774,0.0,43.574531040512,4.84324481688222,20.0560838286234,52.8640473047998,26.4849809509631,35.1316190791237,26.205318117002,43.9293855630677,16.0679269016274,12.3008706880704,18.5279760588054,5.97849909623054,33.2494423289882,45.3326128573898,54.9163380791104,16.3446753663684,38.5684202657223,40.7521808177549,46.5400325697874,22.7586928629085,24.7435895628454,32.9575837686035,29.8620412283299,46.2585606704355,45.475587813629,11.872224410856,47.5849597537306,34.6507037895075,0.0,13.6939914971538,4.22615575338024,40.4365207063351,6.3326304554134,29.8950977756843,19.5926355781034,23.8178841246938,36.9082930427954,63.9940027454355,39.7401778088903,41.401766777240894,11.2778173047754,59.0363953028228,41.0084370288886,9.61707773515257,48.7410395117726,3.11389582664442,0.0,40.482274894247,32.4113338264792,31.2793466113295,21.1553438468556,41.7851707863072,44.2954449888735,15.5932474149352,47.9304560833418,21.1794740139892,0.0,6.98726873897372,33.3560108995825,30.2249970934367,37.675401197387,36.9428262116587,11.0607899711568,0.0,20.7270436162766,36.5067406091876,33.0559040012652,46.266096790151,25.9641936163836,18.459220609326,44.4321918986997,29.3810537408604,46.6255297334849,36.495211863858,33.1699385706416,49.1765940075218,28.3945147472139,52.3534548460544,32.4196762729694,25.9884182610238,36.3776852530246,57.7557780247682,40.7916612012704,59.114262832405,45.886920378651,37.0722826779683,33.9007579488387,0.0,39.5293439300248,37.9550163560851,30.4043037155612,22.7951353911263,0.0,39.5296696208105,0.0,47.166778132843,0.0,12.7626055380114,41.1150510492066,43.6169405197563,20.3099660453743,14.4071779954766,57.0231444256266,21.22293982678,28.1088504691166,26.2454136101186,0.0,35.4314730684749,28.7261105263712,42.0837951763307,13.3972605596853,32.007813213726,35.9908999443559,39.5457564076197,24.0390307550797,0.0,0.0,41.4301553845597,29.7264008378413,34.3322499814999,31.7436622312802,0.0,33.4417429048353,19.598395358148,14.5985688092336,21.1825746496673,0.0,19.2173606023532,35.7626667164776,27.7908378628159,21.830258280153,54.390696223935905,0.0,8.1122919460697,48.1397701053448,34.6658829855395,29.3646171636934,22.491469816738,29.9902989248985,39.41648221751,47.6657760794871,38.8551796088733,19.2851378531669,27.7868942708045,44.4809265431086,15.4729220983442,44.1291400687892,13.2708751408425,27.6210972084825,17.345889711584,31.0273905436744,27.6783525226046,9.78540164028739,49.9874088389496,52.5409254821222,0.0,23.0416367079746,21.8993429542516,0.0,40.0970716764354,16.6927425951147,43.7833266054162,34.4740943895646,24.0375922133836,28.885856279251,36.3156345036445,27.0316430077298,57.9379897287637,0.0,54.8316637803282,1.44333771285665,31.3584707055162,41.4091878331851,0.0,44.3506230095309,37.5129928203672,31.6923358646679,43.5889209839506,29.7210526152784,29.0963099512455,33.8713465140675,25.255105124997,25.2856203048742,37.5805538298686],\"coloraxis\":\"coloraxis\",\"symbol\":\"circle\"},\"mode\":\"markers\",\"name\":\"\",\"scene\":\"scene\",\"showlegend\":false,\"x\":[121.561694217708,121.546989844571,121.528336472882,121.48217837539,121.479946198787,121.543823378185,121.558955290137,121.544377460949,121.527841153188,121.483457129929,121.553288864048,121.501478179942,121.544776878868,121.510671626083,121.545059337793,121.476564397747,121.550592131391,121.548224759051,121.477005679317,121.515410391159,121.497346841029,121.544733694032,121.477153278647,121.488075621202,121.477439083807,121.545295251353,121.509305352086,121.552214187846,121.520407567452,121.47553957665,121.512824057515,121.512329024276,121.510337038441,121.47622695801,121.559726485722,121.549057220556,121.513081867057,121.490005422117,121.495703922059,121.535876581756,121.552377100616,121.476774911182,121.481346883592,121.546926377628,121.491840707064,121.529953167661,121.555341210871,121.494471512805,121.493701334288,121.4953205508,121.498532768249,121.564638541706,121.536739553015,121.559393057324,121.538139942001,121.488671071553,121.555845990375,121.482351747521,121.550517942203,121.559968941094,121.496696726214,121.481171437196,121.528801714431,121.477831650654,121.498225706981,121.484122063674,121.520630203822,121.524701870711,121.560528782084,121.528652676866,121.494687044102,121.551065568013,121.474397914293,121.52104717819,121.533403748726,121.501294404301,121.501103930543,121.533671601927,121.531647881162,121.545843844792,121.549018034314,121.494506030188,121.483165821044,121.478398589248,121.523703175925,121.545300415406,121.498544870836,121.524680608547,121.543213074152,121.476301176886,121.473987127207,121.530267546534,121.561402482183,121.507498337799,121.509261939186,121.534930131918,121.51565550459,121.56048215393,121.521014496693,121.528879041694,121.550223610758,121.533122465437,121.485672893099,121.498134185302,121.528352548265,121.510519119633,121.519100587716,121.559298258784,121.476071144427,121.515875003408,121.497324067565,121.544376640597,121.479859804846,121.478668509483,121.539496839072,121.490214516803,121.495974305129,121.549074624242,121.473887978837,121.503169016925,121.516642822805,121.524813767173,121.536916810635,121.505191927671,121.549169761689,121.539823807733,121.545940327481,121.493819964154,121.513937991554,121.523598981335,121.511162857079,121.506620103232,121.474472696787,121.519414479522,121.518772144879,121.486034319976,121.510587545117,121.507848626077,121.53815376669,121.534473266153,121.536199537917,121.555066317953,121.48300656377,121.507861907042,121.504750005664,121.487939123867,121.524683120688,121.545250944333,121.549660264651,121.515115248177,121.537601355358,121.487138930842,121.487708741278,121.494621986352,121.51100823294,121.506569178382,121.511228204485,121.545901513722,121.513391824543,121.528411130979,121.499466920685,121.552396575431,121.542509483252,121.48261130064,121.53244901096,121.563923958209,121.52503644977,121.491753117454,121.507313751459,121.490972633018,121.543209867701,121.489200839286,121.510372638243,121.543777845948,121.506975266459,121.503063097756,121.552742666566,121.496493822971,121.502245444152,121.525458582991,121.540103656358,121.553908034284,121.545242323504,121.502963241369,121.534382133383,121.484368259356,121.515622851935,121.543205374459,121.529324764011,121.485552033909,121.503670400794,121.509084791298,121.564449984848,121.548825884072,121.564475382211,121.49103763487,121.528440260775,121.506590408451,121.531078283658,121.560382599973,121.522618229086,121.493785657031,121.504131685618,121.56122828887,121.521305284315,121.552233651822,121.492879229081,121.53647214109,121.54357092445,121.530284075767,121.515432839607,121.494502511349,121.564196423579,121.527413663304,121.495309583988,121.474264456462,121.476121739881,121.496742624,121.502779009311,121.516105680091,121.535324553816,121.552867564015,121.519061259634,121.524255372031,121.507486454721,121.482672115367,121.483100131023,121.516721944712,121.561186917581,121.495368644815,121.512572179977,121.552253256287,121.550603114789,121.552082388495,121.478116610574,121.50855610041,121.486778470364,121.561198968459,121.528104940535,121.474911826696,121.508812902902,121.477151242889,121.520808721234,121.509664266042,121.485262731094,121.564698961553,121.548520317988,121.545850767427,121.538224533852,121.551772713548,121.559959311858,121.526692903371,121.498883575271,121.483754359364,121.484982947199,121.478816073007,121.518166444311,121.493146177628,121.556824877912,121.540408307643,121.528355192064,121.533266493756,121.524611125852,121.52125486738,121.524174327897,121.55152355424,121.556140863518,121.484718735725,121.484393738707,121.497750917334,121.544501172959,121.543042044793,121.477165621372,121.55020711677,121.523796689448,121.560542727109,121.477584192181,121.525655937544,121.564848147613,121.479863471145,121.558447103774,121.53456452795,121.546822859116,121.476566111867,121.529341170778,121.524749133506,121.539420209174,121.541579149296,121.543648274117,121.47472423727,121.533511954901,121.530024637999,121.535447464416,121.549554265332,121.539034817522,121.563625058176,121.515559603617,121.510362586434,121.473970283551,121.519666281267,121.522043115123,121.489976247466,121.489833971997,121.507956291454,121.518503522438,121.563177276272,121.513086163396,121.56292282093,121.481339403252,121.550870115034,121.48395314959,121.564081577135,121.520479180344,121.531978162833,121.565099930514,121.563366131545,121.497469968824,121.478951940109,121.4878066551,121.527141193798,121.552600991752,121.561809241116,121.558400528992,121.520063932535,121.494621291426,121.513020319336,121.501910555157,121.53126672641,121.479233384353,121.498814212177,121.509632483318,121.482086595594,121.552603275942,121.562783717047,121.505381905749,121.538104013127,121.527787155457,121.551770874902,121.477766092588,121.496022419187,121.52386766242,121.523027482296,121.561963453562,121.487579837357,121.53085009973,121.534004989952,121.529881676725,121.56173522273,121.477360750611,121.495845454963,121.565320793587,121.515122231269,121.477241183493,121.518072604473,121.502265721715,121.537177546155,121.559418202761,121.50239502806,121.562201462995,121.497300202701,121.535022326804,121.555067688156,121.494277585657,121.474436766985,121.55921570236,121.513896583618,121.502422982451,121.546216263273,121.511783533227,121.529006374348,121.532228746278,121.500346083886,121.543774757573,121.556559417032,121.516533045255,121.482693252662,121.506904716937,121.548073640757,121.514014013632,121.509891494595,121.507963876976,121.520437765203,121.507043569549,121.496772631322,121.486921453747,121.545535288441,121.531196654236,121.549828171103,121.563499937105,121.497146112557,121.529822175827,121.550386819165,121.512691890418,121.554129153937,121.507760235716,121.536717070371,121.546937185183,121.496262062211,121.557961381823,121.565026705774,121.508507909253,121.552804084575,121.546558262183,121.51013670466,121.528018316543,121.522239209861,121.523511704094,121.516353058377,121.548609185381,121.486797516517,121.483918243561,121.543387393163,121.558285927155,121.526395420643],\"y\":[25.0070586835347,25.0121482576502,25.0038498628365,24.9628870027666,25.0110368202032,24.9949935390321,25.0098948639372,24.9971093438101,24.9876216824302,24.9786630373686,24.9348959724228,24.9930941813379,24.9697939870061,25.0116614324946,24.9371970340718,24.9754686411264,24.9575404413999,24.9602904534975,24.9721577932031,24.943551278651,24.9605818323504,24.9570635077195,24.9527990336156,24.9485640217219,24.9877757753084,24.9707858958776,24.9944441888194,24.9380463341762,24.9948082321329,24.984199412755,24.9908770084506,24.9970650957123,24.9947747398421,24.9446364018986,24.9643233025962,24.9822111412461,24.9482972516287,24.9540764486134,24.9829799309004,24.9625975061915,24.9599486283398,24.9689190369041,25.013381894155,24.9743458261431,24.9489349220054,24.9936867034697,24.9438768313581,24.9346755358333,24.9366895883555,24.9858290618558,24.9978593940214,24.9641017127301,24.983603531753,24.9851467630134,24.9483016712827,24.956711599438,24.9466707162414,24.9368124766351,24.9675730316466,24.9971795449205,24.9708538799592,24.9382525174361,24.9745234424819,24.9963868085687,24.9738457674107,24.9938752540809,24.9601138476602,24.9856280870984,25.0061821171755,24.9697704997973,24.9893713836927,24.9328436396641,24.9355866667961,24.9732089884383,24.9859154838673,24.9407653394523,25.0127401505021,25.0136849317044,25.008342583011,25.0128285680263,24.9675656165918,24.9332897220076,24.9422856203814,24.9796557129581,24.9321270671504,24.9444066188135,24.9588107975457,24.9990150843913,25.0064211728668,24.9321291635048,24.9833473165435,24.9871284372743,24.9709078196502,24.9965585974719,25.0088489503057,24.938802072686,24.9357394864412,24.9632958460854,24.9838381852884,25.0056201914949,24.9712575001039,24.9482747944162,25.0088859730452,24.9386951046129,25.0051659139294,24.9450488628086,25.0140030095153,24.9746169198454,24.9967057857405,24.9768239339952,24.9816590478066,24.9442821146573,24.9914405919857,24.9697868243887,24.9920497469549,25.0003182508366,24.9823689698026,24.9540145838766,24.9716655871468,24.9424433657278,24.9460930350282,24.9321621075599,24.9951044470995,24.9381413216714,24.989952890821,24.9845418096922,24.9713497806031,25.0093784235421,25.0145779378903,24.9524031196434,24.9350062103266,25.0081611872601,24.9645961553053,24.9424519368806,24.9795304656241,24.9415406027682,24.9401288745801,24.9709539822217,24.9701042431144,24.9779246342823,24.9521969416284,24.9934261963371,24.9718202282814,24.9942146782477,24.9557306170421,24.9790927192513,24.9744180027889,24.9957450834024,24.9697297560591,24.9647672694358,24.9513556241635,24.9962192209167,24.9490277879196,24.9885796263289,25.0080758377221,24.9923098066879,24.9752580533036,25.0123698651947,24.9639671531933,25.006474193976,24.9991772070207,24.9718964442216,24.9952664962135,25.003556381245,24.955764922707,24.9339128004795,24.9401483777982,24.9863846018072,24.9957264003105,24.9546838279735,24.9843582413234,24.9447436289283,24.9328047579623,24.9614834196357,24.9525034203157,24.9351862932981,24.9418842911422,24.9540983675674,24.9873938924939,24.9557081465153,24.960983936636,24.987028751966,25.0113661118635,25.0111361845199,24.9919230952376,24.9519322324496,24.9439139774923,24.9613498397635,24.9854784270977,24.9524175384487,24.9774838696277,25.0051924586141,24.9337320563806,24.9913291831649,24.9587541192724,24.9956926467688,24.9708204133524,25.0000120786306,24.9734506635597,24.9897957038786,24.9919616718381,24.985067125269,24.9370948264546,25.0044110266218,24.9575537528323,24.9654429298803,24.9439676549041,24.994433498215,24.9739048117036,24.9776573776306,24.9838692004649,24.9581191644433,24.9598859292486,24.9751776327836,25.0122266103905,24.9776743371829,25.0021065008066,24.9486524403354,24.9620432413373,24.966716653172,24.9808391387239,25.0033120013404,24.9911231444723,25.0061888251179,25.0052951998831,24.995700503196,24.9644799395326,24.9976161042729,24.985405084478,24.9524336587173,24.9877448261161,24.9502924199248,24.9599849804594,24.9959123442901,24.9864180078886,25.0035701694063,24.9745368454271,24.9570944227429,24.9733317661212,24.9736146344216,24.9348008924763,24.9467527574116,24.9756669657871,25.0114411405546,24.9939353632242,24.9578584068533,24.994743122765,25.0086064579176,24.9747428563129,24.9623119243281,24.9636208454535,25.0143045523001,24.9370488725631,24.9957128222874,25.0060951834041,24.9320749981209,24.9390163753487,24.9680390658577,24.9773930586236,24.9854777574087,24.9982803968323,25.0088227408338,24.9628586975459,25.0086451241829,24.9723231958361,24.9717143760364,24.9743605407924,24.939245555155,24.9503713722857,25.0067043688249,24.9508149619698,24.9997360458752,24.9812175625249,24.9335362713515,24.9405192187774,24.9893989632247,25.0105428775829,24.9489875418455,24.9790821425828,24.9603678239416,24.9510748168739,24.9357776055335,24.981883150261,24.9803144755511,24.9927832718674,24.9753100244608,25.0008044905366,24.9797181375502,24.9702808901296,24.9759042215307,24.9958272390794,24.9702423275785,24.9448102297685,24.9574289377502,24.9417654062649,25.0135478096352,24.9974851194064,24.9569340124719,25.0065838151637,24.9957801288854,24.9425572274768,24.9512407575562,24.9741568669919,24.932508597126,25.0103355249416,25.0021572343702,24.9759975103728,24.941949744065,24.9684487356731,24.9852811206135,24.9446742980789,24.9671288397822,24.9854184034903,24.976781184348,24.944071345993,24.9550376931561,24.9827126996437,25.011612100037,24.9654611667936,24.9982688459685,24.9421989021382,24.996894001276,24.9404353857674,24.9914003204642,24.9529118331392,25.008985211766,25.0084829729508,24.9551072521451,25.0030670774162,24.9525157602244,25.0015849978515,24.9454754342949,24.9962905073478,24.9353066242189,24.9928860217916,24.969850559053,24.9474960577189,25.0126723965502,24.9546538713376,24.9847045814806,24.9408836592938,24.9852126274966,24.9634767306023,24.9777295738846,24.9977184053681,24.9331953869432,24.9901612390219,24.9535737427587,24.9580656237577,24.9791413398419,24.9538013548986,24.9882755963917,25.0132721804746,25.0092081445986,24.9447887953639,24.9373368691988,24.9449512296973,24.9618685065608,24.9888098684987,24.9730476037149,24.9817234025616,25.007753380337,25.0070425820581,24.9907924282586,24.9536003801197,24.9832368214509,24.9395892581707,24.9348568297238,24.9888819609943,25.000031156713,24.99605822381,24.9571083226827,25.003014469972,25.0080335865763,24.9539343447117,24.9584285110504,24.9520836791151,24.9728010966159,24.9503341311035,24.9431630036146,25.0129734164791,24.9495066046057,24.9343044956591,24.9443634062458,25.010085971764,24.9875968137397,24.9983115811737,25.0021610820279,24.9633996643667,24.9896684500062,24.9863104794201,24.9498909829006,24.985164945119,24.9676570243609,24.9508738912962,24.9689347167273,25.0018064970458,24.9973940316607,24.9977655838095,25.010412003858,24.9445623439068,25.0041091820448,24.9480836734751,24.9389089417623,25.002052156587,24.9383291495903,24.9398844155088,24.9351673345662,24.9374435770296,24.9811856914186,24.9500699236124,24.9639011877274,24.9978626071598,24.952904088349],\"z\":[13.3,35.5,1.1,22.2,8.5,13.3,38.5,15.2,24.0,13.0,13.2,6.5,27.5,12.9,8.0,4.9,3.1,10.3,1.1,13.7,8.4,31.3,17.3,14.1,1.5,16.1,34.4,18.2,11.9,5.4,9.7,38.5,32.8,31.0,34.8,9.9,5.9,37.1,26.8,30.4,4.0,5.4,25.3,16.4,26.4,8.0,19.2,30.3,12.9,13.5,13.2,8.1,32.3,38.0,13.0,34.4,34.4,24.2,13.2,16.1,5.6,14.2,3.8,38.2,25.3,15.6,26.8,0.0,18.9,16.6,7.6,12.0,6.6,37.1,25.3,11.6,25.9,29.4,17.5,32.6,24.2,16.3,16.1,0.0,31.3,39.2,0.0,18.4,33.0,13.0,17.7,13.3,11.6,35.9,5.6,16.2,11.6,0.0,35.4,37.7,40.9,17.3,34.9,32.0,13.7,12.7,4.5,33.6,12.7,12.0,39.8,13.5,6.8,18.3,13.3,38.0,17.0,15.1,34.8,13.3,34.5,37.8,32.6,5.3,4.3,4.0,14.0,28.2,6.5,35.3,32.1,15.7,6.4,32.7,17.5,14.0,20.6,25.6,13.2,17.5,12.6,20.4,0.0,33.4,30.0,31.0,17.7,10.4,16.9,16.2,23.0,1.1,4.5,12.0,32.5,17.4,16.1,31.0,0.0,16.6,30.9,35.8,39.2,30.6,3.8,30.9,33.9,15.9,24.2,15.0,17.8,15.2,0.0,39.8,18.2,1.5,15.5,0.0,18.1,11.5,13.9,8.9,40.9,30.6,17.9,27.5,22.2,13.9,36.6,26.9,3.8,18.0,13.3,30.4,35.9,17.4,18.1,8.1,16.9,31.9,34.0,17.2,4.1,37.7,3.5,18.2,3.8,10.3,7.1,17.5,12.8,12.2,6.5,14.8,34.8,41.3,32.5,3.9,1.1,8.0,13.7,17.2,2.6,23.0,17.5,18.9,32.3,40.9,0.0,4.7,8.9,10.0,28.0,4.0,19.2,34.6,17.3,24.2,11.5,3.1,12.5,39.7,26.9,28.6,35.5,37.1,18.1,20.6,15.9,14.4,5.4,36.1,7.8,16.9,34.8,2.0,34.5,16.2,0.0,8.3,10.0,4.0,37.3,40.9,2.0,0.0,0.0,12.7,2.6,6.8,30.4,7.1,30.8,19.1,19.2,5.2,21.7,1.1,34.9,20.9,30.9,5.9,10.4,20.4,6.8,33.2,16.3,16.2,16.1,5.6,28.0,13.8,14.1,40.9,40.9,17.0,29.3,31.5,1.1,0.0,16.2,16.5,15.0,13.5,4.0,35.8,30.9,12.6,0.0,8.5,18.4,3.6,1.1,13.6,16.9,9.9,13.1,13.7,37.8,0.0,16.9,17.3,6.3,18.0,17.1,13.7,16.4,37.1,4.0,31.5,42.7,1.1,18.2,17.5,40.9,2.1,13.6,18.5,32.0,0.0,6.2,21.2,13.0,20.3,30.1,3.6,16.6,16.5,20.0,16.4,18.0,6.4,2.0,30.9,32.6,11.8,31.9,16.0,15.2,13.6,29.1,6.2,17.9,30.9,35.3,0.0,16.1,13.0,13.7,30.7,39.8,25.3,40.1,5.6,30.6,6.3,0.0,10.5,25.3,16.2,35.9,32.0,17.8,4.6,24.2,0.0,15.9,7.1,17.5,40.9,7.1,0.0,33.5,13.6,0.0,28.2,31.5,34.4,13.3,35.9,31.5,11.8,21.7,32.8,13.8,21.7,16.6,20.6,15.1,18.3,11.9,0.0,35.9,12.0],\"type\":\"scatter3d\"}],                        {\"template\":{\"data\":{\"histogram2dcontour\":[{\"type\":\"histogram2dcontour\",\"colorbar\":{\"outlinewidth\":0,\"ticks\":\"\"},\"colorscale\":[[0.0,\"#0d0887\"],[0.1111111111111111,\"#46039f\"],[0.2222222222222222,\"#7201a8\"],[0.3333333333333333,\"#9c179e\"],[0.4444444444444444,\"#bd3786\"],[0.5555555555555556,\"#d8576b\"],[0.6666666666666666,\"#ed7953\"],[0.7777777777777778,\"#fb9f3a\"],[0.8888888888888888,\"#fdca26\"],[1.0,\"#f0f921\"]]}],\"choropleth\":[{\"type\":\"choropleth\",\"colorbar\":{\"outlinewidth\":0,\"ticks\":\"\"}}],\"histogram2d\":[{\"type\":\"histogram2d\",\"colorbar\":{\"outlinewidth\":0,\"ticks\":\"\"},\"colorscale\":[[0.0,\"#0d0887\"],[0.1111111111111111,\"#46039f\"],[0.2222222222222222,\"#7201a8\"],[0.3333333333333333,\"#9c179e\"],[0.4444444444444444,\"#bd3786\"],[0.5555555555555556,\"#d8576b\"],[0.6666666666666666,\"#ed7953\"],[0.7777777777777778,\"#fb9f3a\"],[0.8888888888888888,\"#fdca26\"],[1.0,\"#f0f921\"]]}],\"heatmap\":[{\"type\":\"heatmap\",\"colorbar\":{\"outlinewidth\":0,\"ticks\":\"\"},\"colorscale\":[[0.0,\"#0d0887\"],[0.1111111111111111,\"#46039f\"],[0.2222222222222222,\"#7201a8\"],[0.3333333333333333,\"#9c179e\"],[0.4444444444444444,\"#bd3786\"],[0.5555555555555556,\"#d8576b\"],[0.6666666666666666,\"#ed7953\"],[0.7777777777777778,\"#fb9f3a\"],[0.8888888888888888,\"#fdca26\"],[1.0,\"#f0f921\"]]}],\"heatmapgl\":[{\"type\":\"heatmapgl\",\"colorbar\":{\"outlinewidth\":0,\"ticks\":\"\"},\"colorscale\":[[0.0,\"#0d0887\"],[0.1111111111111111,\"#46039f\"],[0.2222222222222222,\"#7201a8\"],[0.3333333333333333,\"#9c179e\"],[0.4444444444444444,\"#bd3786\"],[0.5555555555555556,\"#d8576b\"],[0.6666666666666666,\"#ed7953\"],[0.7777777777777778,\"#fb9f3a\"],[0.8888888888888888,\"#fdca26\"],[1.0,\"#f0f921\"]]}],\"contourcarpet\":[{\"type\":\"contourcarpet\",\"colorbar\":{\"outlinewidth\":0,\"ticks\":\"\"}}],\"contour\":[{\"type\":\"contour\",\"colorbar\":{\"outlinewidth\":0,\"ticks\":\"\"},\"colorscale\":[[0.0,\"#0d0887\"],[0.1111111111111111,\"#46039f\"],[0.2222222222222222,\"#7201a8\"],[0.3333333333333333,\"#9c179e\"],[0.4444444444444444,\"#bd3786\"],[0.5555555555555556,\"#d8576b\"],[0.6666666666666666,\"#ed7953\"],[0.7777777777777778,\"#fb9f3a\"],[0.8888888888888888,\"#fdca26\"],[1.0,\"#f0f921\"]]}],\"surface\":[{\"type\":\"surface\",\"colorbar\":{\"outlinewidth\":0,\"ticks\":\"\"},\"colorscale\":[[0.0,\"#0d0887\"],[0.1111111111111111,\"#46039f\"],[0.2222222222222222,\"#7201a8\"],[0.3333333333333333,\"#9c179e\"],[0.4444444444444444,\"#bd3786\"],[0.5555555555555556,\"#d8576b\"],[0.6666666666666666,\"#ed7953\"],[0.7777777777777778,\"#fb9f3a\"],[0.8888888888888888,\"#fdca26\"],[1.0,\"#f0f921\"]]}],\"mesh3d\":[{\"type\":\"mesh3d\",\"colorbar\":{\"outlinewidth\":0,\"ticks\":\"\"}}],\"scatter\":[{\"fillpattern\":{\"fillmode\":\"overlay\",\"size\":10,\"solidity\":0.2},\"type\":\"scatter\"}],\"parcoords\":[{\"type\":\"parcoords\",\"line\":{\"colorbar\":{\"outlinewidth\":0,\"ticks\":\"\"}}}],\"scatterpolargl\":[{\"type\":\"scatterpolargl\",\"marker\":{\"colorbar\":{\"outlinewidth\":0,\"ticks\":\"\"}}}],\"bar\":[{\"error_x\":{\"color\":\"#2a3f5f\"},\"error_y\":{\"color\":\"#2a3f5f\"},\"marker\":{\"line\":{\"color\":\"#E5ECF6\",\"width\":0.5},\"pattern\":{\"fillmode\":\"overlay\",\"size\":10,\"solidity\":0.2}},\"type\":\"bar\"}],\"scattergeo\":[{\"type\":\"scattergeo\",\"marker\":{\"colorbar\":{\"outlinewidth\":0,\"ticks\":\"\"}}}],\"scatterpolar\":[{\"type\":\"scatterpolar\",\"marker\":{\"colorbar\":{\"outlinewidth\":0,\"ticks\":\"\"}}}],\"histogram\":[{\"marker\":{\"pattern\":{\"fillmode\":\"overlay\",\"size\":10,\"solidity\":0.2}},\"type\":\"histogram\"}],\"scattergl\":[{\"type\":\"scattergl\",\"marker\":{\"colorbar\":{\"outlinewidth\":0,\"ticks\":\"\"}}}],\"scatter3d\":[{\"type\":\"scatter3d\",\"line\":{\"colorbar\":{\"outlinewidth\":0,\"ticks\":\"\"}},\"marker\":{\"colorbar\":{\"outlinewidth\":0,\"ticks\":\"\"}}}],\"scattermapbox\":[{\"type\":\"scattermapbox\",\"marker\":{\"colorbar\":{\"outlinewidth\":0,\"ticks\":\"\"}}}],\"scatterternary\":[{\"type\":\"scatterternary\",\"marker\":{\"colorbar\":{\"outlinewidth\":0,\"ticks\":\"\"}}}],\"scattercarpet\":[{\"type\":\"scattercarpet\",\"marker\":{\"colorbar\":{\"outlinewidth\":0,\"ticks\":\"\"}}}],\"carpet\":[{\"aaxis\":{\"endlinecolor\":\"#2a3f5f\",\"gridcolor\":\"white\",\"linecolor\":\"white\",\"minorgridcolor\":\"white\",\"startlinecolor\":\"#2a3f5f\"},\"baxis\":{\"endlinecolor\":\"#2a3f5f\",\"gridcolor\":\"white\",\"linecolor\":\"white\",\"minorgridcolor\":\"white\",\"startlinecolor\":\"#2a3f5f\"},\"type\":\"carpet\"}],\"table\":[{\"cells\":{\"fill\":{\"color\":\"#EBF0F8\"},\"line\":{\"color\":\"white\"}},\"header\":{\"fill\":{\"color\":\"#C8D4E3\"},\"line\":{\"color\":\"white\"}},\"type\":\"table\"}],\"barpolar\":[{\"marker\":{\"line\":{\"color\":\"#E5ECF6\",\"width\":0.5},\"pattern\":{\"fillmode\":\"overlay\",\"size\":10,\"solidity\":0.2}},\"type\":\"barpolar\"}],\"pie\":[{\"automargin\":true,\"type\":\"pie\"}]},\"layout\":{\"autotypenumbers\":\"strict\",\"colorway\":[\"#636efa\",\"#EF553B\",\"#00cc96\",\"#ab63fa\",\"#FFA15A\",\"#19d3f3\",\"#FF6692\",\"#B6E880\",\"#FF97FF\",\"#FECB52\"],\"font\":{\"color\":\"#2a3f5f\"},\"hovermode\":\"closest\",\"hoverlabel\":{\"align\":\"left\"},\"paper_bgcolor\":\"white\",\"plot_bgcolor\":\"#E5ECF6\",\"polar\":{\"bgcolor\":\"#E5ECF6\",\"angularaxis\":{\"gridcolor\":\"white\",\"linecolor\":\"white\",\"ticks\":\"\"},\"radialaxis\":{\"gridcolor\":\"white\",\"linecolor\":\"white\",\"ticks\":\"\"}},\"ternary\":{\"bgcolor\":\"#E5ECF6\",\"aaxis\":{\"gridcolor\":\"white\",\"linecolor\":\"white\",\"ticks\":\"\"},\"baxis\":{\"gridcolor\":\"white\",\"linecolor\":\"white\",\"ticks\":\"\"},\"caxis\":{\"gridcolor\":\"white\",\"linecolor\":\"white\",\"ticks\":\"\"}},\"coloraxis\":{\"colorbar\":{\"outlinewidth\":0,\"ticks\":\"\"}},\"colorscale\":{\"sequential\":[[0.0,\"#0d0887\"],[0.1111111111111111,\"#46039f\"],[0.2222222222222222,\"#7201a8\"],[0.3333333333333333,\"#9c179e\"],[0.4444444444444444,\"#bd3786\"],[0.5555555555555556,\"#d8576b\"],[0.6666666666666666,\"#ed7953\"],[0.7777777777777778,\"#fb9f3a\"],[0.8888888888888888,\"#fdca26\"],[1.0,\"#f0f921\"]],\"sequentialminus\":[[0.0,\"#0d0887\"],[0.1111111111111111,\"#46039f\"],[0.2222222222222222,\"#7201a8\"],[0.3333333333333333,\"#9c179e\"],[0.4444444444444444,\"#bd3786\"],[0.5555555555555556,\"#d8576b\"],[0.6666666666666666,\"#ed7953\"],[0.7777777777777778,\"#fb9f3a\"],[0.8888888888888888,\"#fdca26\"],[1.0,\"#f0f921\"]],\"diverging\":[[0,\"#8e0152\"],[0.1,\"#c51b7d\"],[0.2,\"#de77ae\"],[0.3,\"#f1b6da\"],[0.4,\"#fde0ef\"],[0.5,\"#f7f7f7\"],[0.6,\"#e6f5d0\"],[0.7,\"#b8e186\"],[0.8,\"#7fbc41\"],[0.9,\"#4d9221\"],[1,\"#276419\"]]},\"xaxis\":{\"gridcolor\":\"white\",\"linecolor\":\"white\",\"ticks\":\"\",\"title\":{\"standoff\":15},\"zerolinecolor\":\"white\",\"automargin\":true,\"zerolinewidth\":2},\"yaxis\":{\"gridcolor\":\"white\",\"linecolor\":\"white\",\"ticks\":\"\",\"title\":{\"standoff\":15},\"zerolinecolor\":\"white\",\"automargin\":true,\"zerolinewidth\":2},\"scene\":{\"xaxis\":{\"backgroundcolor\":\"#E5ECF6\",\"gridcolor\":\"white\",\"linecolor\":\"white\",\"showbackground\":true,\"ticks\":\"\",\"zerolinecolor\":\"white\",\"gridwidth\":2},\"yaxis\":{\"backgroundcolor\":\"#E5ECF6\",\"gridcolor\":\"white\",\"linecolor\":\"white\",\"showbackground\":true,\"ticks\":\"\",\"zerolinecolor\":\"white\",\"gridwidth\":2},\"zaxis\":{\"backgroundcolor\":\"#E5ECF6\",\"gridcolor\":\"white\",\"linecolor\":\"white\",\"showbackground\":true,\"ticks\":\"\",\"zerolinecolor\":\"white\",\"gridwidth\":2}},\"shapedefaults\":{\"line\":{\"color\":\"#2a3f5f\"}},\"annotationdefaults\":{\"arrowcolor\":\"#2a3f5f\",\"arrowhead\":0,\"arrowwidth\":1},\"geo\":{\"bgcolor\":\"white\",\"landcolor\":\"#E5ECF6\",\"subunitcolor\":\"white\",\"showland\":true,\"showlakes\":true,\"lakecolor\":\"white\"},\"title\":{\"x\":0.05},\"mapbox\":{\"style\":\"light\"}}},\"scene\":{\"domain\":{\"x\":[0.0,1.0],\"y\":[0.0,1.0]},\"xaxis\":{\"title\":{\"text\":\"Longitude\"}},\"yaxis\":{\"title\":{\"text\":\"Latitude\"}},\"zaxis\":{\"title\":{\"text\":\"House age\"}}},\"coloraxis\":{\"colorbar\":{\"title\":{\"text\":\"House price of unit area\"}},\"colorscale\":[[0.0,\"rgb(150,0,90)\"],[0.125,\"rgb(0,0,200)\"],[0.25,\"rgb(0,25,255)\"],[0.375,\"rgb(0,152,255)\"],[0.5,\"rgb(44,255,150)\"],[0.625,\"rgb(151,255,0)\"],[0.75,\"rgb(255,234,0)\"],[0.875,\"rgb(255,111,0)\"],[1.0,\"rgb(255,0,0)\"]]},\"legend\":{\"tracegroupgap\":0},\"margin\":{\"t\":0,\"l\":0,\"r\":0,\"b\":0}},                        {\"responsive\": true}                    ).then(function(){\n",
       "                            \n",
       "var gd = document.getElementById('c6e454c0-f985-4a23-9c16-f7e1f9836c32');\n",
       "var x = new MutationObserver(function (mutations, observer) {{\n",
       "        var display = window.getComputedStyle(gd).display;\n",
       "        if (!display || display === 'none') {{\n",
       "            console.log([gd, 'removed!']);\n",
       "            Plotly.purge(gd);\n",
       "            observer.disconnect();\n",
       "        }}\n",
       "}});\n",
       "\n",
       "// Listen for the removal of the full notebook cells\n",
       "var notebookContainer = gd.closest('#notebook-container');\n",
       "if (notebookContainer) {{\n",
       "    x.observe(notebookContainer, {childList: true});\n",
       "}}\n",
       "\n",
       "// Listen for the clearing of the current output cell\n",
       "var outputEl = gd.closest('.output');\n",
       "if (outputEl) {{\n",
       "    x.observe(outputEl, {childList: true});\n",
       "}}\n",
       "\n",
       "                        })                };                });            </script>        </div>"
      ]
     },
     "metadata": {},
     "output_type": "display_data"
    }
   ],
   "source": [
    "fig = px.scatter_3d(real_estate_data,x=\"Longitude\", y=\"Latitude\", z=\"House age\", color=\"House price of unit area\", hover_data = [\"House price of unit area\"],\n",
    "                         color_continuous_scale = \"rainbow\")\n",
    "\n",
    "fig.update_layout(margin=dict(l=0, r=0, b=0, t=0))\n",
    "\n",
    "fig.show()"
   ]
  },
  {
   "cell_type": "code",
   "execution_count": 71,
   "metadata": {},
   "outputs": [
    {
     "data": {
      "image/png": "[encoded data removed]",
      "text/plain": [
       "<Figure size 1000x600 with 2 Axes>"
      ]
     },
     "metadata": {},
     "output_type": "display_data"
    }
   ],
   "source": [
    "# Correlation matrix\n",
    "correlation_matrix = imputed_df.corr()\n",
    "\n",
    "# Plotting the correlation matrix\n",
    "plt.figure(figsize=(10, 6))\n",
    "sns.heatmap(correlation_matrix, annot=True, cmap='coolwarm', fmt=\".2f\", linewidths=.5)\n",
    "plt.title('Correlation Matrix')\n",
    "plt.show()"
   ]
  },
  {
   "cell_type": "code",
   "execution_count": 72,
   "metadata": {},
   "outputs": [
    {
     "data": {
      "text/html": [
       "<style>#sk-container-id-2 {color: black;}#sk-container-id-2 pre{padding: 0;}#sk-container-id-2 div.sk-toggleable {background-color: white;}#sk-container-id-2 label.sk-toggleable__label {cursor: pointer;display: block;width: 100%;margin-bottom: 0;padding: 0.3em;box-sizing: border-box;text-align: center;}#sk-container-id-2 label.sk-toggleable__label-arrow:before {content: \"▸\";float: left;margin-right: 0.25em;color: #696969;}#sk-container-id-2 label.sk-toggleable__label-arrow:hover:before {color: black;}#sk-container-id-2 div.sk-estimator:hover label.sk-toggleable__label-arrow:before {color: black;}#sk-container-id-2 div.sk-toggleable__content {max-height: 0;max-width: 0;overflow: hidden;text-align: left;background-color: #f0f8ff;}#sk-container-id-2 div.sk-toggleable__content pre {margin: 0.2em;color: black;border-radius: 0.25em;background-color: #f0f8ff;}#sk-container-id-2 input.sk-toggleable__control:checked~div.sk-toggleable__content {max-height: 200px;max-width: 100%;overflow: auto;}#sk-container-id-2 input.sk-toggleable__control:checked~label.sk-toggleable__label-arrow:before {content: \"▾\";}#sk-container-id-2 div.sk-estimator input.sk-toggleable__control:checked~label.sk-toggleable__label {background-color: #d4ebff;}#sk-container-id-2 div.sk-label input.sk-toggleable__control:checked~label.sk-toggleable__label {background-color: #d4ebff;}#sk-container-id-2 input.sk-hidden--visually {border: 0;clip: rect(1px 1px 1px 1px);clip: rect(1px, 1px, 1px, 1px);height: 1px;margin: -1px;overflow: hidden;padding: 0;position: absolute;width: 1px;}#sk-container-id-2 div.sk-estimator {font-family: monospace;background-color: #f0f8ff;border: 1px dotted black;border-radius: 0.25em;box-sizing: border-box;margin-bottom: 0.5em;}#sk-container-id-2 div.sk-estimator:hover {background-color: #d4ebff;}#sk-container-id-2 div.sk-parallel-item::after {content: \"\";width: 100%;border-bottom: 1px solid gray;flex-grow: 1;}#sk-container-id-2 div.sk-label:hover label.sk-toggleable__label {background-color: #d4ebff;}#sk-container-id-2 div.sk-serial::before {content: \"\";position: absolute;border-left: 1px solid gray;box-sizing: border-box;top: 0;bottom: 0;left: 50%;z-index: 0;}#sk-container-id-2 div.sk-serial {display: flex;flex-direction: column;align-items: center;background-color: white;padding-right: 0.2em;padding-left: 0.2em;position: relative;}#sk-container-id-2 div.sk-item {position: relative;z-index: 1;}#sk-container-id-2 div.sk-parallel {display: flex;align-items: stretch;justify-content: center;background-color: white;position: relative;}#sk-container-id-2 div.sk-item::before, #sk-container-id-2 div.sk-parallel-item::before {content: \"\";position: absolute;border-left: 1px solid gray;box-sizing: border-box;top: 0;bottom: 0;left: 50%;z-index: -1;}#sk-container-id-2 div.sk-parallel-item {display: flex;flex-direction: column;z-index: 1;position: relative;background-color: white;}#sk-container-id-2 div.sk-parallel-item:first-child::after {align-self: flex-end;width: 50%;}#sk-container-id-2 div.sk-parallel-item:last-child::after {align-self: flex-start;width: 50%;}#sk-container-id-2 div.sk-parallel-item:only-child::after {width: 0;}#sk-container-id-2 div.sk-dashed-wrapped {border: 1px dashed gray;margin: 0 0.4em 0.5em 0.4em;box-sizing: border-box;padding-bottom: 0.4em;background-color: white;}#sk-container-id-2 div.sk-label label {font-family: monospace;font-weight: bold;display: inline-block;line-height: 1.2em;}#sk-container-id-2 div.sk-label-container {text-align: center;}#sk-container-id-2 div.sk-container {/* jupyter's `normalize.less` sets `[hidden] { display: none; }` but bootstrap.min.css set `[hidden] { display: none !important; }` so we also need the `!important` here to be able to override the default hidden behavior on the sphinx rendered scikit-learn.org. See: https://github.com/scikit-learn/scikit-learn/issues/21755 */display: inline-block !important;position: relative;}#sk-container-id-2 div.sk-text-repr-fallback {display: none;}</style><div id=\"sk-container-id-2\" class=\"sk-top-container\"><div class=\"sk-text-repr-fallback\"><pre>LinearRegression()</pre><b>In a Jupyter environment, please rerun this cell to show the HTML representation or trust the notebook. <br />On GitHub, the HTML representation is unable to render, please try loading this page with nbviewer.org.</b></div><div class=\"sk-container\" hidden><div class=\"sk-item\"><div class=\"sk-estimator sk-toggleable\"><input class=\"sk-toggleable__control sk-hidden--visually\" id=\"sk-estimator-id-2\" type=\"checkbox\" checked><label for=\"sk-estimator-id-2\" class=\"sk-toggleable__label sk-toggleable__label-arrow\">LinearRegression</label><div class=\"sk-toggleable__content\"><pre>LinearRegression()</pre></div></div></div></div></div>"
      ],
      "text/plain": [
       "LinearRegression()"
      ]
     },
     "execution_count": 72,
     "metadata": {},
     "output_type": "execute_result"
    }
   ],
   "source": [
    "# Selecting features and target variable\n",
    "features = ['Distance to the nearest MRT station', 'Number of convenience stores', 'Latitude', 'Longitude']\n",
    "target = 'House price of unit area'\n",
    "\n",
    "X = imputed_df[features]\n",
    "y = imputed_df[target]\n",
    "\n",
    "# Splitting the dataset into training and testing sets\n",
    "X_train, X_test, y_train, y_test = train_test_split(X, y, test_size=0.2, random_state=42)\n",
    "\n",
    "# Model initialization\n",
    "model = LinearRegression()\n",
    "\n",
    "# Training the model\n",
    "model.fit(X_train, y_train)"
   ]
  },
  {
   "cell_type": "code",
   "execution_count": 73,
   "metadata": {},
   "outputs": [
    {
     "data": {
      "image/png": "[encoded data removed]",
      "text/plain": [
       "<Figure size 1000x600 with 1 Axes>"
      ]
     },
     "metadata": {},
     "output_type": "display_data"
    }
   ],
   "source": [
    "# Making predictions using the linear regression model\n",
    "y_pred_lr = model.predict(X_test)\n",
    "\n",
    "# Visualization: Actual vs. Predicted values\n",
    "plt.figure(figsize=(10, 6))\n",
    "plt.scatter(y_test, y_pred_lr, alpha=0.5)\n",
    "plt.plot([y_test.min(), y_test.max()], [y_test.min(), y_test.max()], 'k--', lw=2)\n",
    "plt.xlabel('Actual')\n",
    "plt.ylabel('Predicted')\n",
    "plt.title('Actual vs. Predicted House Prices')\n",
    "plt.show()"
   ]
  },
  {
   "cell_type": "code",
   "execution_count": 68,
   "metadata": {},
   "outputs": [
    {
     "data": {
      "text/html": [
       "<div>\n",
       "<style scoped>\n",
       "    .dataframe tbody tr th:only-of-type {\n",
       "        vertical-align: middle;\n",
       "    }\n",
       "\n",
       "    .dataframe tbody tr th {\n",
       "        vertical-align: top;\n",
       "    }\n",
       "\n",
       "    .dataframe thead th {\n",
       "        text-align: right;\n",
       "    }\n",
       "</style>\n",
       "<table border=\"1\" class=\"dataframe\">\n",
       "  <thead>\n",
       "    <tr style=\"text-align: right;\">\n",
       "      <th></th>\n",
       "      <th>House age</th>\n",
       "      <th>Distance to the nearest MRT station</th>\n",
       "      <th>Number of convenience stores</th>\n",
       "      <th>Latitude</th>\n",
       "      <th>Longitude</th>\n",
       "      <th>House price of unit area</th>\n",
       "    </tr>\n",
       "  </thead>\n",
       "  <tbody>\n",
       "    <tr>\n",
       "      <th>15</th>\n",
       "      <td>4.9</td>\n",
       "      <td>639.61980</td>\n",
       "      <td>8.0</td>\n",
       "      <td>24.975469</td>\n",
       "      <td>121.476564</td>\n",
       "      <td>49.157054</td>\n",
       "    </tr>\n",
       "    <tr>\n",
       "      <th>16</th>\n",
       "      <td>3.1</td>\n",
       "      <td>1360.13900</td>\n",
       "      <td>5.0</td>\n",
       "      <td>24.957540</td>\n",
       "      <td>121.550592</td>\n",
       "      <td>13.673532</td>\n",
       "    </tr>\n",
       "    <tr>\n",
       "      <th>17</th>\n",
       "      <td>10.3</td>\n",
       "      <td>4079.41800</td>\n",
       "      <td>0.0</td>\n",
       "      <td>24.960290</td>\n",
       "      <td>121.548225</td>\n",
       "      <td>13.498924</td>\n",
       "    </tr>\n",
       "    <tr>\n",
       "      <th>18</th>\n",
       "      <td>1.1</td>\n",
       "      <td>143.83830</td>\n",
       "      <td>4.0</td>\n",
       "      <td>24.972158</td>\n",
       "      <td>121.477006</td>\n",
       "      <td>56.251355</td>\n",
       "    </tr>\n",
       "    <tr>\n",
       "      <th>19</th>\n",
       "      <td>13.7</td>\n",
       "      <td>193.58450</td>\n",
       "      <td>1.0</td>\n",
       "      <td>24.943551</td>\n",
       "      <td>121.515410</td>\n",
       "      <td>16.444017</td>\n",
       "    </tr>\n",
       "    <tr>\n",
       "      <th>...</th>\n",
       "      <td>...</td>\n",
       "      <td>...</td>\n",
       "      <td>...</td>\n",
       "      <td>...</td>\n",
       "      <td>...</td>\n",
       "      <td>...</td>\n",
       "    </tr>\n",
       "    <tr>\n",
       "      <th>409</th>\n",
       "      <td>18.3</td>\n",
       "      <td>170.12890</td>\n",
       "      <td>6.0</td>\n",
       "      <td>24.981186</td>\n",
       "      <td>121.486798</td>\n",
       "      <td>29.096310</td>\n",
       "    </tr>\n",
       "    <tr>\n",
       "      <th>410</th>\n",
       "      <td>11.9</td>\n",
       "      <td>323.69120</td>\n",
       "      <td>2.0</td>\n",
       "      <td>24.950070</td>\n",
       "      <td>121.483918</td>\n",
       "      <td>33.871347</td>\n",
       "    </tr>\n",
       "    <tr>\n",
       "      <th>411</th>\n",
       "      <td>0.0</td>\n",
       "      <td>451.64190</td>\n",
       "      <td>8.0</td>\n",
       "      <td>24.963901</td>\n",
       "      <td>121.543387</td>\n",
       "      <td>25.255105</td>\n",
       "    </tr>\n",
       "    <tr>\n",
       "      <th>412</th>\n",
       "      <td>35.9</td>\n",
       "      <td>292.99780</td>\n",
       "      <td>5.0</td>\n",
       "      <td>24.997863</td>\n",
       "      <td>121.558286</td>\n",
       "      <td>25.285620</td>\n",
       "    </tr>\n",
       "    <tr>\n",
       "      <th>413</th>\n",
       "      <td>12.0</td>\n",
       "      <td>90.45606</td>\n",
       "      <td>6.0</td>\n",
       "      <td>24.952904</td>\n",
       "      <td>121.526395</td>\n",
       "      <td>37.580554</td>\n",
       "    </tr>\n",
       "  </tbody>\n",
       "</table>\n",
       "<p>399 rows × 6 columns</p>\n",
       "</div>"
      ],
      "text/plain": [
       "     House age  Distance to the nearest MRT station  \\\n",
       "15         4.9                            639.61980   \n",
       "16         3.1                           1360.13900   \n",
       "17        10.3                           4079.41800   \n",
       "18         1.1                            143.83830   \n",
       "19        13.7                            193.58450   \n",
       "..         ...                                  ...   \n",
       "409       18.3                            170.12890   \n",
       "410       11.9                            323.69120   \n",
       "411        0.0                            451.64190   \n",
       "412       35.9                            292.99780   \n",
       "413       12.0                             90.45606   \n",
       "\n",
       "     Number of convenience stores   Latitude   Longitude  \\\n",
       "15                            8.0  24.975469  121.476564   \n",
       "16                            5.0  24.957540  121.550592   \n",
       "17                            0.0  24.960290  121.548225   \n",
       "18                            4.0  24.972158  121.477006   \n",
       "19                            1.0  24.943551  121.515410   \n",
       "..                            ...        ...         ...   \n",
       "409                           6.0  24.981186  121.486798   \n",
       "410                           2.0  24.950070  121.483918   \n",
       "411                           8.0  24.963901  121.543387   \n",
       "412                           5.0  24.997863  121.558286   \n",
       "413                           6.0  24.952904  121.526395   \n",
       "\n",
       "     House price of unit area  \n",
       "15                  49.157054  \n",
       "16                  13.673532  \n",
       "17                  13.498924  \n",
       "18                  56.251355  \n",
       "19                  16.444017  \n",
       "..                        ...  \n",
       "409                 29.096310  \n",
       "410                 33.871347  \n",
       "411                 25.255105  \n",
       "412                 25.285620  \n",
       "413                 37.580554  \n",
       "\n",
       "[399 rows x 6 columns]"
      ]
     },
     "execution_count": 68,
     "metadata": {},
     "output_type": "execute_result"
    }
   ],
   "source": [
    "# Use knn \n",
    "import numpy as np\n",
    "import pandas as pd\n",
    "\n",
    "from sklearn.impute import KNNImputer\n",
    "\n",
    "\n",
    "# real_estate_data[real_estate_data[\"House price of unit area\"]==0][\"House price of unit area\"] = pd.NA\n",
    "# real_estate_data[real_estate_data[\"House price of unit area\"]==0].replace(0, np.nan)\n",
    "real_estate_data[\"House price of unit area\"].replace(0, np.nan, inplace = True)\n",
    "\n",
    "\n",
    "cols = real_estate_data.select_dtypes(include=[np.number, \"float\"]).columns.to_list()\n",
    "\n",
    "sel_data = real_estate_data[cols]\n",
    "knn_imputer = KNNImputer(n_neighbors=5)\n",
    "imputed_data = knn_imputer.fit_transform(sel_data)\n",
    "imputed_df = pd.DataFrame(imputed_data, columns=cols)\n",
    "\n",
    "imputed_df[15:]"
   ]
  },
  {
   "cell_type": "code",
   "execution_count": 63,
   "metadata": {},
   "outputs": [
    {
     "data": {
      "text/html": [
       "<div>\n",
       "<style scoped>\n",
       "    .dataframe tbody tr th:only-of-type {\n",
       "        vertical-align: middle;\n",
       "    }\n",
       "\n",
       "    .dataframe tbody tr th {\n",
       "        vertical-align: top;\n",
       "    }\n",
       "\n",
       "    .dataframe thead th {\n",
       "        text-align: right;\n",
       "    }\n",
       "</style>\n",
       "<table border=\"1\" class=\"dataframe\">\n",
       "  <thead>\n",
       "    <tr style=\"text-align: right;\">\n",
       "      <th></th>\n",
       "      <th>Transaction date</th>\n",
       "      <th>House age</th>\n",
       "      <th>Distance to the nearest MRT station</th>\n",
       "      <th>Number of convenience stores</th>\n",
       "      <th>Latitude</th>\n",
       "      <th>Longitude</th>\n",
       "      <th>House price of unit area</th>\n",
       "    </tr>\n",
       "  </thead>\n",
       "  <tbody>\n",
       "    <tr>\n",
       "      <th>16</th>\n",
       "      <td>2012-09-12 05:03:03.332710</td>\n",
       "      <td>3.1</td>\n",
       "      <td>1360.13900</td>\n",
       "      <td>5</td>\n",
       "      <td>24.957540</td>\n",
       "      <td>121.550592</td>\n",
       "      <td>13.673532</td>\n",
       "    </tr>\n",
       "    <tr>\n",
       "      <th>17</th>\n",
       "      <td>2012-09-12 06:54:06.555817</td>\n",
       "      <td>10.3</td>\n",
       "      <td>4079.41800</td>\n",
       "      <td>0</td>\n",
       "      <td>24.960290</td>\n",
       "      <td>121.548225</td>\n",
       "      <td>NaN</td>\n",
       "    </tr>\n",
       "    <tr>\n",
       "      <th>18</th>\n",
       "      <td>2012-09-12 23:27:33.301004</td>\n",
       "      <td>1.1</td>\n",
       "      <td>143.83830</td>\n",
       "      <td>4</td>\n",
       "      <td>24.972158</td>\n",
       "      <td>121.477006</td>\n",
       "      <td>56.251355</td>\n",
       "    </tr>\n",
       "    <tr>\n",
       "      <th>19</th>\n",
       "      <td>2012-09-14 06:14:19.030272</td>\n",
       "      <td>13.7</td>\n",
       "      <td>193.58450</td>\n",
       "      <td>1</td>\n",
       "      <td>24.943551</td>\n",
       "      <td>121.515410</td>\n",
       "      <td>16.444017</td>\n",
       "    </tr>\n",
       "    <tr>\n",
       "      <th>20</th>\n",
       "      <td>2012-09-16 01:53:06.000222</td>\n",
       "      <td>8.4</td>\n",
       "      <td>330.08540</td>\n",
       "      <td>6</td>\n",
       "      <td>24.960582</td>\n",
       "      <td>121.497347</td>\n",
       "      <td>47.355551</td>\n",
       "    </tr>\n",
       "    <tr>\n",
       "      <th>...</th>\n",
       "      <td>...</td>\n",
       "      <td>...</td>\n",
       "      <td>...</td>\n",
       "      <td>...</td>\n",
       "      <td>...</td>\n",
       "      <td>...</td>\n",
       "      <td>...</td>\n",
       "    </tr>\n",
       "    <tr>\n",
       "      <th>409</th>\n",
       "      <td>2013-07-25 15:30:36.565239</td>\n",
       "      <td>18.3</td>\n",
       "      <td>170.12890</td>\n",
       "      <td>6</td>\n",
       "      <td>24.981186</td>\n",
       "      <td>121.486798</td>\n",
       "      <td>29.096310</td>\n",
       "    </tr>\n",
       "    <tr>\n",
       "      <th>410</th>\n",
       "      <td>2013-07-26 17:16:34.019780</td>\n",
       "      <td>11.9</td>\n",
       "      <td>323.69120</td>\n",
       "      <td>2</td>\n",
       "      <td>24.950070</td>\n",
       "      <td>121.483918</td>\n",
       "      <td>33.871347</td>\n",
       "    </tr>\n",
       "    <tr>\n",
       "      <th>411</th>\n",
       "      <td>2013-07-28 21:47:23.339050</td>\n",
       "      <td>0.0</td>\n",
       "      <td>451.64190</td>\n",
       "      <td>8</td>\n",
       "      <td>24.963901</td>\n",
       "      <td>121.543387</td>\n",
       "      <td>25.255105</td>\n",
       "    </tr>\n",
       "    <tr>\n",
       "      <th>412</th>\n",
       "      <td>2013-07-29 13:33:29.405317</td>\n",
       "      <td>35.9</td>\n",
       "      <td>292.99780</td>\n",
       "      <td>5</td>\n",
       "      <td>24.997863</td>\n",
       "      <td>121.558286</td>\n",
       "      <td>25.285620</td>\n",
       "    </tr>\n",
       "    <tr>\n",
       "      <th>413</th>\n",
       "      <td>2013-08-01 09:49:41.506402</td>\n",
       "      <td>12.0</td>\n",
       "      <td>90.45606</td>\n",
       "      <td>6</td>\n",
       "      <td>24.952904</td>\n",
       "      <td>121.526395</td>\n",
       "      <td>37.580554</td>\n",
       "    </tr>\n",
       "  </tbody>\n",
       "</table>\n",
       "<p>398 rows × 7 columns</p>\n",
       "</div>"
      ],
      "text/plain": [
       "               Transaction date  House age  \\\n",
       "16   2012-09-12 05:03:03.332710        3.1   \n",
       "17   2012-09-12 06:54:06.555817       10.3   \n",
       "18   2012-09-12 23:27:33.301004        1.1   \n",
       "19   2012-09-14 06:14:19.030272       13.7   \n",
       "20   2012-09-16 01:53:06.000222        8.4   \n",
       "..                          ...        ...   \n",
       "409  2013-07-25 15:30:36.565239       18.3   \n",
       "410  2013-07-26 17:16:34.019780       11.9   \n",
       "411  2013-07-28 21:47:23.339050        0.0   \n",
       "412  2013-07-29 13:33:29.405317       35.9   \n",
       "413  2013-08-01 09:49:41.506402       12.0   \n",
       "\n",
       "     Distance to the nearest MRT station  Number of convenience stores  \\\n",
       "16                            1360.13900                             5   \n",
       "17                            4079.41800                             0   \n",
       "18                             143.83830                             4   \n",
       "19                             193.58450                             1   \n",
       "20                             330.08540                             6   \n",
       "..                                   ...                           ...   \n",
       "409                            170.12890                             6   \n",
       "410                            323.69120                             2   \n",
       "411                            451.64190                             8   \n",
       "412                            292.99780                             5   \n",
       "413                             90.45606                             6   \n",
       "\n",
       "      Latitude   Longitude  House price of unit area  \n",
       "16   24.957540  121.550592                 13.673532  \n",
       "17   24.960290  121.548225                       NaN  \n",
       "18   24.972158  121.477006                 56.251355  \n",
       "19   24.943551  121.515410                 16.444017  \n",
       "20   24.960582  121.497347                 47.355551  \n",
       "..         ...         ...                       ...  \n",
       "409  24.981186  121.486798                 29.096310  \n",
       "410  24.950070  121.483918                 33.871347  \n",
       "411  24.963901  121.543387                 25.255105  \n",
       "412  24.997863  121.558286                 25.285620  \n",
       "413  24.952904  121.526395                 37.580554  \n",
       "\n",
       "[398 rows x 7 columns]"
      ]
     },
     "execution_count": 63,
     "metadata": {},
     "output_type": "execute_result"
    }
   ],
   "source": [
    "# real_estate_data[real_estate_data[\"House price of unit area\"]==0]\n",
    "real_estate_data[\"House price of unit area\"].replace(0, np.nan, inplace = True)\n",
    "\n",
    "real_estate_data[16:]"
   ]
  },
  {
   "cell_type": "code",
   "execution_count": 67,
   "metadata": {},
   "outputs": [
    {
     "data": {
      "text/html": [
       "<div>\n",
       "<style scoped>\n",
       "    .dataframe tbody tr th:only-of-type {\n",
       "        vertical-align: middle;\n",
       "    }\n",
       "\n",
       "    .dataframe tbody tr th {\n",
       "        vertical-align: top;\n",
       "    }\n",
       "\n",
       "    .dataframe thead th {\n",
       "        text-align: right;\n",
       "    }\n",
       "</style>\n",
       "<table border=\"1\" class=\"dataframe\">\n",
       "  <thead>\n",
       "    <tr style=\"text-align: right;\">\n",
       "      <th></th>\n",
       "      <th>Transaction date</th>\n",
       "      <th>House age</th>\n",
       "      <th>Distance to the nearest MRT station</th>\n",
       "      <th>Number of convenience stores</th>\n",
       "      <th>Latitude</th>\n",
       "      <th>Longitude</th>\n",
       "      <th>House price of unit area</th>\n",
       "    </tr>\n",
       "  </thead>\n",
       "  <tbody>\n",
       "    <tr>\n",
       "      <th>17</th>\n",
       "      <td>2012-09-12 06:54:06.555817</td>\n",
       "      <td>10.3</td>\n",
       "      <td>4079.418</td>\n",
       "      <td>0</td>\n",
       "      <td>24.960290</td>\n",
       "      <td>121.548225</td>\n",
       "      <td>0.0</td>\n",
       "    </tr>\n",
       "    <tr>\n",
       "      <th>25</th>\n",
       "      <td>2012-09-20 13:50:20.328592</td>\n",
       "      <td>16.1</td>\n",
       "      <td>3771.895</td>\n",
       "      <td>9</td>\n",
       "      <td>24.970786</td>\n",
       "      <td>121.545295</td>\n",
       "      <td>0.0</td>\n",
       "    </tr>\n",
       "    <tr>\n",
       "      <th>49</th>\n",
       "      <td>2012-10-10 12:36:22.455568</td>\n",
       "      <td>13.5</td>\n",
       "      <td>2175.030</td>\n",
       "      <td>0</td>\n",
       "      <td>24.985829</td>\n",
       "      <td>121.495321</td>\n",
       "      <td>0.0</td>\n",
       "    </tr>\n",
       "    <tr>\n",
       "      <th>57</th>\n",
       "      <td>2012-10-15 07:23:33.287274</td>\n",
       "      <td>24.2</td>\n",
       "      <td>3078.176</td>\n",
       "      <td>5</td>\n",
       "      <td>24.936812</td>\n",
       "      <td>121.482352</td>\n",
       "      <td>0.0</td>\n",
       "    </tr>\n",
       "    <tr>\n",
       "      <th>63</th>\n",
       "      <td>2012-10-19 04:22:09.096118</td>\n",
       "      <td>38.2</td>\n",
       "      <td>4082.015</td>\n",
       "      <td>1</td>\n",
       "      <td>24.996387</td>\n",
       "      <td>121.477832</td>\n",
       "      <td>0.0</td>\n",
       "    </tr>\n",
       "    <tr>\n",
       "      <th>68</th>\n",
       "      <td>2012-10-24 10:01:12.581872</td>\n",
       "      <td>18.9</td>\n",
       "      <td>6306.153</td>\n",
       "      <td>5</td>\n",
       "      <td>25.006182</td>\n",
       "      <td>121.560529</td>\n",
       "      <td>0.0</td>\n",
       "    </tr>\n",
       "    <tr>\n",
       "      <th>81</th>\n",
       "      <td>2012-11-02 13:03:49.453579</td>\n",
       "      <td>16.3</td>\n",
       "      <td>4510.359</td>\n",
       "      <td>7</td>\n",
       "      <td>24.933290</td>\n",
       "      <td>121.494506</td>\n",
       "      <td>0.0</td>\n",
       "    </tr>\n",
       "    <tr>\n",
       "      <th>97</th>\n",
       "      <td>2012-11-16 08:44:19.839765</td>\n",
       "      <td>0.0</td>\n",
       "      <td>4066.587</td>\n",
       "      <td>6</td>\n",
       "      <td>24.963296</td>\n",
       "      <td>121.560482</td>\n",
       "      <td>0.0</td>\n",
       "    </tr>\n",
       "    <tr>\n",
       "      <th>200</th>\n",
       "      <td>2013-02-02 17:54:15.261898</td>\n",
       "      <td>34.0</td>\n",
       "      <td>4082.015</td>\n",
       "      <td>2</td>\n",
       "      <td>24.991962</td>\n",
       "      <td>121.522618</td>\n",
       "      <td>0.0</td>\n",
       "    </tr>\n",
       "    <tr>\n",
       "      <th>203</th>\n",
       "      <td>2013-02-05 03:27:08.014369</td>\n",
       "      <td>37.7</td>\n",
       "      <td>4197.349</td>\n",
       "      <td>7</td>\n",
       "      <td>25.004411</td>\n",
       "      <td>121.561228</td>\n",
       "      <td>0.0</td>\n",
       "    </tr>\n",
       "    <tr>\n",
       "      <th>221</th>\n",
       "      <td>2013-02-27 20:31:02.793398</td>\n",
       "      <td>17.2</td>\n",
       "      <td>4066.587</td>\n",
       "      <td>1</td>\n",
       "      <td>25.003312</td>\n",
       "      <td>121.552868</td>\n",
       "      <td>0.0</td>\n",
       "    </tr>\n",
       "    <tr>\n",
       "      <th>225</th>\n",
       "      <td>2013-03-05 01:48:02.626027</td>\n",
       "      <td>18.9</td>\n",
       "      <td>4082.015</td>\n",
       "      <td>0</td>\n",
       "      <td>24.995701</td>\n",
       "      <td>121.482672</td>\n",
       "      <td>0.0</td>\n",
       "    </tr>\n",
       "    <tr>\n",
       "      <th>229</th>\n",
       "      <td>2013-03-10 09:00:01.603250</td>\n",
       "      <td>4.7</td>\n",
       "      <td>4066.587</td>\n",
       "      <td>9</td>\n",
       "      <td>24.952434</td>\n",
       "      <td>121.495369</td>\n",
       "      <td>0.0</td>\n",
       "    </tr>\n",
       "    <tr>\n",
       "      <th>258</th>\n",
       "      <td>2013-03-26 06:16:06.360036</td>\n",
       "      <td>0.0</td>\n",
       "      <td>1867.233</td>\n",
       "      <td>3</td>\n",
       "      <td>24.977393</td>\n",
       "      <td>121.556825</td>\n",
       "      <td>0.0</td>\n",
       "    </tr>\n",
       "    <tr>\n",
       "      <th>276</th>\n",
       "      <td>2013-04-08 21:24:49.098976</td>\n",
       "      <td>21.7</td>\n",
       "      <td>4082.015</td>\n",
       "      <td>3</td>\n",
       "      <td>25.010543</td>\n",
       "      <td>121.477584</td>\n",
       "      <td>0.0</td>\n",
       "    </tr>\n",
       "    <tr>\n",
       "      <th>286</th>\n",
       "      <td>2013-04-17 06:31:21.100394</td>\n",
       "      <td>16.3</td>\n",
       "      <td>2469.645</td>\n",
       "      <td>0</td>\n",
       "      <td>25.000804</td>\n",
       "      <td>121.539420</td>\n",
       "      <td>0.0</td>\n",
       "    </tr>\n",
       "    <tr>\n",
       "      <th>293</th>\n",
       "      <td>2013-04-22 00:43:47.553163</td>\n",
       "      <td>40.9</td>\n",
       "      <td>4079.418</td>\n",
       "      <td>3</td>\n",
       "      <td>24.957429</td>\n",
       "      <td>121.549554</td>\n",
       "      <td>0.0</td>\n",
       "    </tr>\n",
       "    <tr>\n",
       "      <th>317</th>\n",
       "      <td>2013-05-09 18:19:00.018699</td>\n",
       "      <td>13.7</td>\n",
       "      <td>4082.015</td>\n",
       "      <td>0</td>\n",
       "      <td>25.011612</td>\n",
       "      <td>121.478952</td>\n",
       "      <td>0.0</td>\n",
       "    </tr>\n",
       "    <tr>\n",
       "      <th>322</th>\n",
       "      <td>2013-05-18 05:59:58.722533</td>\n",
       "      <td>6.3</td>\n",
       "      <td>1447.286</td>\n",
       "      <td>0</td>\n",
       "      <td>24.940435</td>\n",
       "      <td>121.558401</td>\n",
       "      <td>0.0</td>\n",
       "    </tr>\n",
       "    <tr>\n",
       "      <th>324</th>\n",
       "      <td>2013-05-19 08:57:45.581342</td>\n",
       "      <td>17.1</td>\n",
       "      <td>2147.376</td>\n",
       "      <td>2</td>\n",
       "      <td>24.952912</td>\n",
       "      <td>121.494621</td>\n",
       "      <td>0.0</td>\n",
       "    </tr>\n",
       "    <tr>\n",
       "      <th>326</th>\n",
       "      <td>2013-05-19 19:17:47.213861</td>\n",
       "      <td>16.4</td>\n",
       "      <td>4082.015</td>\n",
       "      <td>4</td>\n",
       "      <td>25.008483</td>\n",
       "      <td>121.501911</td>\n",
       "      <td>0.0</td>\n",
       "    </tr>\n",
       "    <tr>\n",
       "      <th>336</th>\n",
       "      <td>2013-05-26 20:36:36.522490</td>\n",
       "      <td>13.6</td>\n",
       "      <td>2216.612</td>\n",
       "      <td>0</td>\n",
       "      <td>24.947496</td>\n",
       "      <td>121.527787</td>\n",
       "      <td>0.0</td>\n",
       "    </tr>\n",
       "    <tr>\n",
       "      <th>345</th>\n",
       "      <td>2013-06-06 07:23:08.781245</td>\n",
       "      <td>3.6</td>\n",
       "      <td>6306.153</td>\n",
       "      <td>4</td>\n",
       "      <td>24.933195</td>\n",
       "      <td>121.534005</td>\n",
       "      <td>0.0</td>\n",
       "    </tr>\n",
       "    <tr>\n",
       "      <th>346</th>\n",
       "      <td>2013-06-06 19:59:41.495465</td>\n",
       "      <td>16.6</td>\n",
       "      <td>4527.687</td>\n",
       "      <td>7</td>\n",
       "      <td>24.990161</td>\n",
       "      <td>121.529882</td>\n",
       "      <td>0.0</td>\n",
       "    </tr>\n",
       "    <tr>\n",
       "      <th>351</th>\n",
       "      <td>2013-06-12 07:44:21.238654</td>\n",
       "      <td>6.4</td>\n",
       "      <td>2175.030</td>\n",
       "      <td>0</td>\n",
       "      <td>24.988276</td>\n",
       "      <td>121.515122</td>\n",
       "      <td>0.0</td>\n",
       "    </tr>\n",
       "    <tr>\n",
       "      <th>356</th>\n",
       "      <td>2013-06-17 06:38:08.155773</td>\n",
       "      <td>31.9</td>\n",
       "      <td>4082.015</td>\n",
       "      <td>3</td>\n",
       "      <td>24.944951</td>\n",
       "      <td>121.559418</td>\n",
       "      <td>0.0</td>\n",
       "    </tr>\n",
       "    <tr>\n",
       "      <th>362</th>\n",
       "      <td>2013-06-20 18:20:47.508984</td>\n",
       "      <td>17.9</td>\n",
       "      <td>3529.564</td>\n",
       "      <td>6</td>\n",
       "      <td>25.007043</td>\n",
       "      <td>121.494278</td>\n",
       "      <td>0.0</td>\n",
       "    </tr>\n",
       "    <tr>\n",
       "      <th>385</th>\n",
       "      <td>2013-07-13 23:42:20.094101</td>\n",
       "      <td>0.0</td>\n",
       "      <td>3947.945</td>\n",
       "      <td>7</td>\n",
       "      <td>24.987597</td>\n",
       "      <td>121.545535</td>\n",
       "      <td>0.0</td>\n",
       "    </tr>\n",
       "    <tr>\n",
       "      <th>388</th>\n",
       "      <td>2013-07-14 12:10:14.710377</td>\n",
       "      <td>17.5</td>\n",
       "      <td>3771.895</td>\n",
       "      <td>0</td>\n",
       "      <td>24.963400</td>\n",
       "      <td>121.563500</td>\n",
       "      <td>0.0</td>\n",
       "    </tr>\n",
       "    <tr>\n",
       "      <th>398</th>\n",
       "      <td>2013-07-19 05:33:59.890260</td>\n",
       "      <td>13.3</td>\n",
       "      <td>4510.359</td>\n",
       "      <td>2</td>\n",
       "      <td>24.997766</td>\n",
       "      <td>121.557961</td>\n",
       "      <td>0.0</td>\n",
       "    </tr>\n",
       "    <tr>\n",
       "      <th>403</th>\n",
       "      <td>2013-07-20 15:30:15.034689</td>\n",
       "      <td>32.8</td>\n",
       "      <td>2185.128</td>\n",
       "      <td>1</td>\n",
       "      <td>24.938909</td>\n",
       "      <td>121.510137</td>\n",
       "      <td>0.0</td>\n",
       "    </tr>\n",
       "  </tbody>\n",
       "</table>\n",
       "</div>"
      ],
      "text/plain": [
       "               Transaction date  House age  \\\n",
       "17   2012-09-12 06:54:06.555817       10.3   \n",
       "25   2012-09-20 13:50:20.328592       16.1   \n",
       "49   2012-10-10 12:36:22.455568       13.5   \n",
       "57   2012-10-15 07:23:33.287274       24.2   \n",
       "63   2012-10-19 04:22:09.096118       38.2   \n",
       "68   2012-10-24 10:01:12.581872       18.9   \n",
       "81   2012-11-02 13:03:49.453579       16.3   \n",
       "97   2012-11-16 08:44:19.839765        0.0   \n",
       "200  2013-02-02 17:54:15.261898       34.0   \n",
       "203  2013-02-05 03:27:08.014369       37.7   \n",
       "221  2013-02-27 20:31:02.793398       17.2   \n",
       "225  2013-03-05 01:48:02.626027       18.9   \n",
       "229  2013-03-10 09:00:01.603250        4.7   \n",
       "258  2013-03-26 06:16:06.360036        0.0   \n",
       "276  2013-04-08 21:24:49.098976       21.7   \n",
       "286  2013-04-17 06:31:21.100394       16.3   \n",
       "293  2013-04-22 00:43:47.553163       40.9   \n",
       "317  2013-05-09 18:19:00.018699       13.7   \n",
       "322  2013-05-18 05:59:58.722533        6.3   \n",
       "324  2013-05-19 08:57:45.581342       17.1   \n",
       "326  2013-05-19 19:17:47.213861       16.4   \n",
       "336  2013-05-26 20:36:36.522490       13.6   \n",
       "345  2013-06-06 07:23:08.781245        3.6   \n",
       "346  2013-06-06 19:59:41.495465       16.6   \n",
       "351  2013-06-12 07:44:21.238654        6.4   \n",
       "356  2013-06-17 06:38:08.155773       31.9   \n",
       "362  2013-06-20 18:20:47.508984       17.9   \n",
       "385  2013-07-13 23:42:20.094101        0.0   \n",
       "388  2013-07-14 12:10:14.710377       17.5   \n",
       "398  2013-07-19 05:33:59.890260       13.3   \n",
       "403  2013-07-20 15:30:15.034689       32.8   \n",
       "\n",
       "     Distance to the nearest MRT station  Number of convenience stores  \\\n",
       "17                              4079.418                             0   \n",
       "25                              3771.895                             9   \n",
       "49                              2175.030                             0   \n",
       "57                              3078.176                             5   \n",
       "63                              4082.015                             1   \n",
       "68                              6306.153                             5   \n",
       "81                              4510.359                             7   \n",
       "97                              4066.587                             6   \n",
       "200                             4082.015                             2   \n",
       "203                             4197.349                             7   \n",
       "221                             4066.587                             1   \n",
       "225                             4082.015                             0   \n",
       "229                             4066.587                             9   \n",
       "258                             1867.233                             3   \n",
       "276                             4082.015                             3   \n",
       "286                             2469.645                             0   \n",
       "293                             4079.418                             3   \n",
       "317                             4082.015                             0   \n",
       "322                             1447.286                             0   \n",
       "324                             2147.376                             2   \n",
       "326                             4082.015                             4   \n",
       "336                             2216.612                             0   \n",
       "345                             6306.153                             4   \n",
       "346                             4527.687                             7   \n",
       "351                             2175.030                             0   \n",
       "356                             4082.015                             3   \n",
       "362                             3529.564                             6   \n",
       "385                             3947.945                             7   \n",
       "388                             3771.895                             0   \n",
       "398                             4510.359                             2   \n",
       "403                             2185.128                             1   \n",
       "\n",
       "      Latitude   Longitude  House price of unit area  \n",
       "17   24.960290  121.548225                       0.0  \n",
       "25   24.970786  121.545295                       0.0  \n",
       "49   24.985829  121.495321                       0.0  \n",
       "57   24.936812  121.482352                       0.0  \n",
       "63   24.996387  121.477832                       0.0  \n",
       "68   25.006182  121.560529                       0.0  \n",
       "81   24.933290  121.494506                       0.0  \n",
       "97   24.963296  121.560482                       0.0  \n",
       "200  24.991962  121.522618                       0.0  \n",
       "203  25.004411  121.561228                       0.0  \n",
       "221  25.003312  121.552868                       0.0  \n",
       "225  24.995701  121.482672                       0.0  \n",
       "229  24.952434  121.495369                       0.0  \n",
       "258  24.977393  121.556825                       0.0  \n",
       "276  25.010543  121.477584                       0.0  \n",
       "286  25.000804  121.539420                       0.0  \n",
       "293  24.957429  121.549554                       0.0  \n",
       "317  25.011612  121.478952                       0.0  \n",
       "322  24.940435  121.558401                       0.0  \n",
       "324  24.952912  121.494621                       0.0  \n",
       "326  25.008483  121.501911                       0.0  \n",
       "336  24.947496  121.527787                       0.0  \n",
       "345  24.933195  121.534005                       0.0  \n",
       "346  24.990161  121.529882                       0.0  \n",
       "351  24.988276  121.515122                       0.0  \n",
       "356  24.944951  121.559418                       0.0  \n",
       "362  25.007043  121.494278                       0.0  \n",
       "385  24.987597  121.545535                       0.0  \n",
       "388  24.963400  121.563500                       0.0  \n",
       "398  24.997766  121.557961                       0.0  \n",
       "403  24.938909  121.510137                       0.0  "
      ]
     },
     "execution_count": 67,
     "metadata": {},
     "output_type": "execute_result"
    }
   ],
   "source": [
    "real_estate_data = pd.read_csv(\"0. Projects/2/projectII_alvaroG-GuillermoH/data/Real_Estate.csv\")\n",
    "\n",
    "real_estate_data[real_estate_data[\"House price of unit area\"]==0]"
   ]
  }
 ],
 "metadata": {
  "language_info": {
   "name": "python"
  }
 },
 "nbformat": 4,
 "nbformat_minor": 2
}
